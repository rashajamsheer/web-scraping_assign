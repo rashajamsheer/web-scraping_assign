{
 "cells": [
  {
   "cell_type": "code",
   "execution_count": 1,
   "metadata": {},
   "outputs": [],
   "source": [
    "import selenium\n",
    "import pandas as pd\n",
    "import time\n",
    "from selenium import webdriver\n",
    "from selenium.common.exceptions import StaleElementReferenceException,NoSuchElementException,ElementNotInteractableException,TimeoutException\n",
    "import requests"
   ]
  },
  {
   "cell_type": "markdown",
   "metadata": {},
   "source": [
    "# 1)"
   ]
  },
  {
   "cell_type": "code",
   "execution_count": 49,
   "metadata": {},
   "outputs": [],
   "source": [
    "driver = webdriver.Chrome(\"chromedriver.exe\")\n",
    "url = 'https://www.yatra.com/'\n",
    "driver.get(url)"
   ]
  },
  {
   "cell_type": "code",
   "execution_count": 50,
   "metadata": {},
   "outputs": [],
   "source": [
    "driver.find_element_by_id(\"BE_flight_flsearch_btn\").click()"
   ]
  },
  {
   "cell_type": "code",
   "execution_count": 107,
   "metadata": {},
   "outputs": [],
   "source": [
    "Airline=[]\n",
    "Date_of_Journey=[]\n",
    "Source=[]\n",
    "Destination=[]\n",
    "Route=[]\n",
    "Dep_Time=[]\n",
    "Arrival_Time=[]\n",
    "Duration=[]\n",
    "Total_Stops=[]\n",
    "Additional_Info=[]\n",
    "Price=[]"
   ]
  },
  {
   "cell_type": "code",
   "execution_count": 108,
   "metadata": {},
   "outputs": [],
   "source": [
    "\n",
    "d = driver.find_elements_by_xpath(\"//span[@class='i-b text ellipsis']\")\n",
    "for i in d:\n",
    "    Airline.append(i.text)"
   ]
  },
  {
   "cell_type": "code",
   "execution_count": 110,
   "metadata": {},
   "outputs": [],
   "source": [
    "\n",
    "d = driver.find_elements_by_xpath(\"//p[@class='fs-10 font-lightgrey no-wrap city ellipsis']\")\n",
    "for i in d:\n",
    "    Source.append(i.text)"
   ]
  },
  {
   "cell_type": "code",
   "execution_count": 112,
   "metadata": {},
   "outputs": [],
   "source": [
    "Source1 = Source[0::2]"
   ]
  },
  {
   "cell_type": "code",
   "execution_count": 113,
   "metadata": {},
   "outputs": [],
   "source": [
    "Destination = Source[1::2]"
   ]
  },
  {
   "cell_type": "code",
   "execution_count": 136,
   "metadata": {},
   "outputs": [],
   "source": [
    "Total_Stops=[]\n",
    "d = driver.find_elements_by_xpath(\"//span[@class='dotted-borderbtm']|//span[@class='cursor-default']\")\n",
    "for i in d:\n",
    "    Total_Stops.append(i.text)\n"
   ]
  },
  {
   "cell_type": "code",
   "execution_count": 116,
   "metadata": {},
   "outputs": [],
   "source": [
    "\n",
    "d = driver.find_elements_by_xpath(\"//div[@class='i-b tipsy fare-summary-tooltip fs-18']\")\n",
    "for i in d:\n",
    "    Price.append(i.text)"
   ]
  },
  {
   "cell_type": "code",
   "execution_count": 117,
   "metadata": {},
   "outputs": [],
   "source": [
    "d = driver.find_elements_by_xpath(\"//div[@class='stop-cont pl-13']/p\")\n",
    "for i in d:\n",
    "    Duration.append(i.text)"
   ]
  },
  {
   "cell_type": "code",
   "execution_count": 118,
   "metadata": {},
   "outputs": [],
   "source": [
    "d = driver.find_elements_by_xpath(\"//div[@class='i-b pr']\")\n",
    "for i in d:\n",
    "    Dep_Time.append(i.text)"
   ]
  },
  {
   "cell_type": "code",
   "execution_count": 119,
   "metadata": {},
   "outputs": [],
   "source": [
    "d = driver.find_elements_by_xpath(\"//p[@class='bold fs-15 mb-2 pr time']\")\n",
    "for i in d:\n",
    "    Arrival_Time.append(i.text)"
   ]
  },
  {
   "cell_type": "code",
   "execution_count": 138,
   "metadata": {},
   "outputs": [],
   "source": [
    "df = pd.DataFrame({})\n",
    "df[\"Airline\"]=Airline\n",
    "df[\"Source\"]=Source1\n",
    "df[\"Destination\"]=Destination\n",
    "df[\"Dep_Time\"]= Dep_Time\n",
    "df[\"Arrival_Time\"]=Arrival_Time\n",
    "df[\"Duration\"]=Duration\n",
    "df[\"Total_Stops\"]=Total_Stops\n",
    "df[\"Price\"]=Price"
   ]
  },
  {
   "cell_type": "code",
   "execution_count": 139,
   "metadata": {},
   "outputs": [
    {
     "data": {
      "text/html": [
       "<div>\n",
       "<style scoped>\n",
       "    .dataframe tbody tr th:only-of-type {\n",
       "        vertical-align: middle;\n",
       "    }\n",
       "\n",
       "    .dataframe tbody tr th {\n",
       "        vertical-align: top;\n",
       "    }\n",
       "\n",
       "    .dataframe thead th {\n",
       "        text-align: right;\n",
       "    }\n",
       "</style>\n",
       "<table border=\"1\" class=\"dataframe\">\n",
       "  <thead>\n",
       "    <tr style=\"text-align: right;\">\n",
       "      <th></th>\n",
       "      <th>Airline</th>\n",
       "      <th>Source</th>\n",
       "      <th>Destination</th>\n",
       "      <th>Dep_Time</th>\n",
       "      <th>Arrival_Time</th>\n",
       "      <th>Duration</th>\n",
       "      <th>Total_Stops</th>\n",
       "      <th>Price</th>\n",
       "    </tr>\n",
       "  </thead>\n",
       "  <tbody>\n",
       "    <tr>\n",
       "      <th>0</th>\n",
       "      <td>Air Asia</td>\n",
       "      <td>New Delhi</td>\n",
       "      <td>Mumbai</td>\n",
       "      <td>09:25</td>\n",
       "      <td>16:00</td>\n",
       "      <td>6h 35m</td>\n",
       "      <td>1 Stop</td>\n",
       "      <td>5,953</td>\n",
       "    </tr>\n",
       "    <tr>\n",
       "      <th>1</th>\n",
       "      <td>Air Asia</td>\n",
       "      <td>New Delhi</td>\n",
       "      <td>Mumbai</td>\n",
       "      <td>12:40</td>\n",
       "      <td>20:15</td>\n",
       "      <td>7h 35m</td>\n",
       "      <td>1 Stop</td>\n",
       "      <td>5,953</td>\n",
       "    </tr>\n",
       "    <tr>\n",
       "      <th>2</th>\n",
       "      <td>Air Asia</td>\n",
       "      <td>New Delhi</td>\n",
       "      <td>Mumbai</td>\n",
       "      <td>11:55</td>\n",
       "      <td>20:15</td>\n",
       "      <td>8h 20m</td>\n",
       "      <td>1 Stop</td>\n",
       "      <td>5,953</td>\n",
       "    </tr>\n",
       "    <tr>\n",
       "      <th>3</th>\n",
       "      <td>Air Asia</td>\n",
       "      <td>New Delhi</td>\n",
       "      <td>Mumbai</td>\n",
       "      <td>18:35</td>\n",
       "      <td>06:20\\n+ 1 day</td>\n",
       "      <td>11h 45m</td>\n",
       "      <td>1 Stop</td>\n",
       "      <td>5,953</td>\n",
       "    </tr>\n",
       "    <tr>\n",
       "      <th>4</th>\n",
       "      <td>Air Asia</td>\n",
       "      <td>New Delhi</td>\n",
       "      <td>Mumbai</td>\n",
       "      <td>16:15</td>\n",
       "      <td>06:20\\n+ 1 day</td>\n",
       "      <td>14h 05m</td>\n",
       "      <td>1 Stop</td>\n",
       "      <td>5,953</td>\n",
       "    </tr>\n",
       "    <tr>\n",
       "      <th>...</th>\n",
       "      <td>...</td>\n",
       "      <td>...</td>\n",
       "      <td>...</td>\n",
       "      <td>...</td>\n",
       "      <td>...</td>\n",
       "      <td>...</td>\n",
       "      <td>...</td>\n",
       "      <td>...</td>\n",
       "    </tr>\n",
       "    <tr>\n",
       "      <th>145</th>\n",
       "      <td>Air India</td>\n",
       "      <td>New Delhi</td>\n",
       "      <td>Mumbai</td>\n",
       "      <td>07:15</td>\n",
       "      <td>15:50</td>\n",
       "      <td>8h 35m</td>\n",
       "      <td>1 Stop</td>\n",
       "      <td>14,355</td>\n",
       "    </tr>\n",
       "    <tr>\n",
       "      <th>146</th>\n",
       "      <td>SpiceJet</td>\n",
       "      <td>New Delhi</td>\n",
       "      <td>Mumbai</td>\n",
       "      <td>16:40</td>\n",
       "      <td>16:55\\n+ 1 day</td>\n",
       "      <td>24h 15m</td>\n",
       "      <td>1 Stop</td>\n",
       "      <td>14,858</td>\n",
       "    </tr>\n",
       "    <tr>\n",
       "      <th>147</th>\n",
       "      <td>IndiGo</td>\n",
       "      <td>New Delhi</td>\n",
       "      <td>Mumbai</td>\n",
       "      <td>13:50</td>\n",
       "      <td>19:30</td>\n",
       "      <td>5h 40m</td>\n",
       "      <td>1 Stop</td>\n",
       "      <td>15,773</td>\n",
       "    </tr>\n",
       "    <tr>\n",
       "      <th>148</th>\n",
       "      <td>IndiGo</td>\n",
       "      <td>New Delhi</td>\n",
       "      <td>Mumbai</td>\n",
       "      <td>08:55</td>\n",
       "      <td>19:30</td>\n",
       "      <td>10h 35m</td>\n",
       "      <td>1 Stop</td>\n",
       "      <td>15,773</td>\n",
       "    </tr>\n",
       "    <tr>\n",
       "      <th>149</th>\n",
       "      <td>Air India</td>\n",
       "      <td>New Delhi</td>\n",
       "      <td>Mumbai</td>\n",
       "      <td>06:20</td>\n",
       "      <td>20:00</td>\n",
       "      <td>13h 40m</td>\n",
       "      <td>1 Stop</td>\n",
       "      <td>18,135</td>\n",
       "    </tr>\n",
       "  </tbody>\n",
       "</table>\n",
       "<p>150 rows × 8 columns</p>\n",
       "</div>"
      ],
      "text/plain": [
       "       Airline     Source Destination Dep_Time    Arrival_Time Duration  \\\n",
       "0     Air Asia  New Delhi      Mumbai    09:25           16:00   6h 35m   \n",
       "1     Air Asia  New Delhi      Mumbai    12:40           20:15   7h 35m   \n",
       "2     Air Asia  New Delhi      Mumbai    11:55           20:15   8h 20m   \n",
       "3     Air Asia  New Delhi      Mumbai    18:35  06:20\\n+ 1 day  11h 45m   \n",
       "4     Air Asia  New Delhi      Mumbai    16:15  06:20\\n+ 1 day  14h 05m   \n",
       "..         ...        ...         ...      ...             ...      ...   \n",
       "145  Air India  New Delhi      Mumbai    07:15           15:50   8h 35m   \n",
       "146   SpiceJet  New Delhi      Mumbai    16:40  16:55\\n+ 1 day  24h 15m   \n",
       "147     IndiGo  New Delhi      Mumbai    13:50           19:30   5h 40m   \n",
       "148     IndiGo  New Delhi      Mumbai    08:55           19:30  10h 35m   \n",
       "149  Air India  New Delhi      Mumbai    06:20           20:00  13h 40m   \n",
       "\n",
       "    Total_Stops   Price  \n",
       "0        1 Stop   5,953  \n",
       "1        1 Stop   5,953  \n",
       "2        1 Stop   5,953  \n",
       "3        1 Stop   5,953  \n",
       "4        1 Stop   5,953  \n",
       "..          ...     ...  \n",
       "145      1 Stop  14,355  \n",
       "146      1 Stop  14,858  \n",
       "147      1 Stop  15,773  \n",
       "148      1 Stop  15,773  \n",
       "149      1 Stop  18,135  \n",
       "\n",
       "[150 rows x 8 columns]"
      ]
     },
     "execution_count": 139,
     "metadata": {},
     "output_type": "execute_result"
    }
   ],
   "source": [
    "df"
   ]
  },
  {
   "cell_type": "code",
   "execution_count": 140,
   "metadata": {},
   "outputs": [],
   "source": [
    "df.to_csv(\"flight1.csv\")"
   ]
  },
  {
   "cell_type": "code",
   "execution_count": 141,
   "metadata": {},
   "outputs": [],
   "source": [
    "driver.close()"
   ]
  },
  {
   "cell_type": "code",
   "execution_count": null,
   "metadata": {},
   "outputs": [],
   "source": []
  },
  {
   "cell_type": "markdown",
   "metadata": {},
   "source": [
    "# 2)"
   ]
  },
  {
   "cell_type": "code",
   "execution_count": 44,
   "metadata": {},
   "outputs": [],
   "source": [
    "driver = webdriver.Chrome(\"chromedriver.exe\")\n",
    "url = 'https://www.yatra.com/'\n",
    "driver.get(url)"
   ]
  },
  {
   "cell_type": "code",
   "execution_count": 82,
   "metadata": {},
   "outputs": [],
   "source": [
    "search_bar = driver.find_element_by_id(\"BE_flight_origin_city\").click()\n"
   ]
  },
  {
   "cell_type": "code",
   "execution_count": 83,
   "metadata": {},
   "outputs": [],
   "source": [
    "driver.find_element_by_xpath(\"//div[@class='viewport']//div[2]\").click()"
   ]
  },
  {
   "cell_type": "code",
   "execution_count": 84,
   "metadata": {},
   "outputs": [],
   "source": [
    "driver.find_element_by_xpath('/html/body/div[2]/div/section/div[1]/div/div[1]/section/div/div/div/div[1]/div[1]/div[2]/ul/li[1]/ul/li[3]/div/div/ul/div/div/div/li[3]/div[1]/p[1]').click()"
   ]
  },
  {
   "cell_type": "code",
   "execution_count": 86,
   "metadata": {},
   "outputs": [],
   "source": [
    "driver.find_element_by_name('flight_origin_date').click()"
   ]
  },
  {
   "cell_type": "code",
   "execution_count": 87,
   "metadata": {},
   "outputs": [],
   "source": [
    "driver.find_element_by_xpath('/html/body/div[2]/div/section/div[1]/div/div[1]/section/div/div/div/div[1]/div[1]/div[2]/ul/li[2]/ul/li[1]/section/div/div[2]/div[2]/div[2]/div[1]/div/div/table/tbody/tr[3]/td[1]').click()"
   ]
  },
  {
   "cell_type": "code",
   "execution_count": 88,
   "metadata": {},
   "outputs": [],
   "source": [
    "driver.find_element_by_id(\"BE_flight_flsearch_btn\").click()"
   ]
  },
  {
   "cell_type": "code",
   "execution_count": 89,
   "metadata": {},
   "outputs": [],
   "source": [
    "Airline=[]\n",
    "Date_of_Journey=[]\n",
    "Source=[]\n",
    "Destination=[]\n",
    "Route=[]\n",
    "Dep_Time=[]\n",
    "Arrival_Time=[]\n",
    "Duration=[]\n",
    "Total_Stops=[]\n",
    "Additional_Info=[]\n",
    "Price=[]"
   ]
  },
  {
   "cell_type": "code",
   "execution_count": 90,
   "metadata": {},
   "outputs": [],
   "source": [
    "\n",
    "d = driver.find_elements_by_xpath(\"//span[@class='i-b text ellipsis']\")\n",
    "for i in d:\n",
    "    Airline.append(i.text)"
   ]
  },
  {
   "cell_type": "code",
   "execution_count": 92,
   "metadata": {},
   "outputs": [],
   "source": [
    "\n",
    "d = driver.find_elements_by_xpath(\"//p[@class='fs-10 font-lightgrey no-wrap city ellipsis']\")\n",
    "for i in d:\n",
    "    Source.append(i.text)"
   ]
  },
  {
   "cell_type": "code",
   "execution_count": 94,
   "metadata": {},
   "outputs": [],
   "source": [
    "Source1 = Source[0::2]"
   ]
  },
  {
   "cell_type": "code",
   "execution_count": 95,
   "metadata": {},
   "outputs": [],
   "source": [
    "Destination = Source[1::2]"
   ]
  },
  {
   "cell_type": "code",
   "execution_count": 96,
   "metadata": {},
   "outputs": [],
   "source": [
    "Total_Stops=[]\n",
    "d = driver.find_elements_by_xpath(\"//span[@class='dotted-borderbtm']|//span[@class='cursor-default']\")\n",
    "for i in d:\n",
    "    Total_Stops.append(i.text)\n"
   ]
  },
  {
   "cell_type": "code",
   "execution_count": 97,
   "metadata": {},
   "outputs": [],
   "source": [
    "\n",
    "d = driver.find_elements_by_xpath(\"//div[@class='i-b tipsy fare-summary-tooltip fs-18']\")\n",
    "for i in d:\n",
    "    Price.append(i.text)"
   ]
  },
  {
   "cell_type": "code",
   "execution_count": 98,
   "metadata": {},
   "outputs": [],
   "source": [
    "d = driver.find_elements_by_xpath(\"//div[@class='stop-cont pl-13']/p\")\n",
    "for i in d:\n",
    "    Duration.append(i.text)"
   ]
  },
  {
   "cell_type": "code",
   "execution_count": 99,
   "metadata": {},
   "outputs": [],
   "source": [
    "d = driver.find_elements_by_xpath(\"//div[@class='i-b pr']\")\n",
    "for i in d:\n",
    "    Dep_Time.append(i.text)"
   ]
  },
  {
   "cell_type": "code",
   "execution_count": 100,
   "metadata": {},
   "outputs": [],
   "source": [
    "d = driver.find_elements_by_xpath(\"//p[@class='bold fs-15 mb-2 pr time']\")\n",
    "for i in d:\n",
    "    Arrival_Time.append(i.text)"
   ]
  },
  {
   "cell_type": "code",
   "execution_count": 101,
   "metadata": {},
   "outputs": [],
   "source": [
    "df = pd.DataFrame({})\n",
    "df[\"Airline\"]=Airline\n",
    "df[\"Source\"]=Source1\n",
    "df[\"Destination\"]=Destination\n",
    "df[\"Dep_Time\"]= Dep_Time\n",
    "df[\"Arrival_Time\"]=Arrival_Time\n",
    "df[\"Duration\"]=Duration\n",
    "df[\"Total_Stops\"]=Total_Stops\n",
    "df[\"Price\"]=Price"
   ]
  },
  {
   "cell_type": "code",
   "execution_count": 102,
   "metadata": {},
   "outputs": [
    {
     "data": {
      "text/html": [
       "<div>\n",
       "<style scoped>\n",
       "    .dataframe tbody tr th:only-of-type {\n",
       "        vertical-align: middle;\n",
       "    }\n",
       "\n",
       "    .dataframe tbody tr th {\n",
       "        vertical-align: top;\n",
       "    }\n",
       "\n",
       "    .dataframe thead th {\n",
       "        text-align: right;\n",
       "    }\n",
       "</style>\n",
       "<table border=\"1\" class=\"dataframe\">\n",
       "  <thead>\n",
       "    <tr style=\"text-align: right;\">\n",
       "      <th></th>\n",
       "      <th>Airline</th>\n",
       "      <th>Source</th>\n",
       "      <th>Destination</th>\n",
       "      <th>Dep_Time</th>\n",
       "      <th>Arrival_Time</th>\n",
       "      <th>Duration</th>\n",
       "      <th>Total_Stops</th>\n",
       "      <th>Price</th>\n",
       "    </tr>\n",
       "  </thead>\n",
       "  <tbody>\n",
       "    <tr>\n",
       "      <th>0</th>\n",
       "      <td>Air Asia</td>\n",
       "      <td>New Delhi</td>\n",
       "      <td>Bangalore</td>\n",
       "      <td>08:50</td>\n",
       "      <td>14:00</td>\n",
       "      <td>5h 10m</td>\n",
       "      <td>1 Stop</td>\n",
       "      <td>7,422</td>\n",
       "    </tr>\n",
       "    <tr>\n",
       "      <th>1</th>\n",
       "      <td>Go First</td>\n",
       "      <td>New Delhi</td>\n",
       "      <td>Bangalore</td>\n",
       "      <td>06:00</td>\n",
       "      <td>16:55</td>\n",
       "      <td>10h 55m</td>\n",
       "      <td>1 Stop</td>\n",
       "      <td>7,424</td>\n",
       "    </tr>\n",
       "    <tr>\n",
       "      <th>2</th>\n",
       "      <td>Go First</td>\n",
       "      <td>New Delhi</td>\n",
       "      <td>Bangalore</td>\n",
       "      <td>05:45</td>\n",
       "      <td>17:05</td>\n",
       "      <td>11h 20m</td>\n",
       "      <td>1 Stop</td>\n",
       "      <td>7,424</td>\n",
       "    </tr>\n",
       "    <tr>\n",
       "      <th>3</th>\n",
       "      <td>Go First</td>\n",
       "      <td>New Delhi</td>\n",
       "      <td>Bangalore</td>\n",
       "      <td>08:45</td>\n",
       "      <td>20:50</td>\n",
       "      <td>12h 05m</td>\n",
       "      <td>1 Stop</td>\n",
       "      <td>7,424</td>\n",
       "    </tr>\n",
       "    <tr>\n",
       "      <th>4</th>\n",
       "      <td>SpiceJet</td>\n",
       "      <td>New Delhi</td>\n",
       "      <td>Bangalore</td>\n",
       "      <td>06:15</td>\n",
       "      <td>08:50</td>\n",
       "      <td>2h 35m</td>\n",
       "      <td>Non Stop</td>\n",
       "      <td>7,425</td>\n",
       "    </tr>\n",
       "    <tr>\n",
       "      <th>...</th>\n",
       "      <td>...</td>\n",
       "      <td>...</td>\n",
       "      <td>...</td>\n",
       "      <td>...</td>\n",
       "      <td>...</td>\n",
       "      <td>...</td>\n",
       "      <td>...</td>\n",
       "      <td>...</td>\n",
       "    </tr>\n",
       "    <tr>\n",
       "      <th>143</th>\n",
       "      <td>Air India</td>\n",
       "      <td>New Delhi</td>\n",
       "      <td>Bangalore</td>\n",
       "      <td>13:30</td>\n",
       "      <td>16:15</td>\n",
       "      <td>2h 45m</td>\n",
       "      <td>Non Stop</td>\n",
       "      <td>20,340</td>\n",
       "    </tr>\n",
       "    <tr>\n",
       "      <th>144</th>\n",
       "      <td>IndiGo</td>\n",
       "      <td>New Delhi</td>\n",
       "      <td>Bangalore</td>\n",
       "      <td>07:40</td>\n",
       "      <td>14:05</td>\n",
       "      <td>6h 25m</td>\n",
       "      <td>1 Stop</td>\n",
       "      <td>20,393</td>\n",
       "    </tr>\n",
       "    <tr>\n",
       "      <th>145</th>\n",
       "      <td>Vistara</td>\n",
       "      <td>New Delhi</td>\n",
       "      <td>Bangalore</td>\n",
       "      <td>13:40</td>\n",
       "      <td>18:30</td>\n",
       "      <td>4h 50m</td>\n",
       "      <td>1 Stop</td>\n",
       "      <td>21,233</td>\n",
       "    </tr>\n",
       "    <tr>\n",
       "      <th>146</th>\n",
       "      <td>SpiceJet</td>\n",
       "      <td>New Delhi</td>\n",
       "      <td>Bangalore</td>\n",
       "      <td>18:40</td>\n",
       "      <td>11:30\\n+ 1 day</td>\n",
       "      <td>16h 50m</td>\n",
       "      <td>1 Stop</td>\n",
       "      <td>22,021</td>\n",
       "    </tr>\n",
       "    <tr>\n",
       "      <th>147</th>\n",
       "      <td>Air India</td>\n",
       "      <td>New Delhi</td>\n",
       "      <td>Bangalore</td>\n",
       "      <td>07:00</td>\n",
       "      <td>23:20</td>\n",
       "      <td>16h 20m</td>\n",
       "      <td>1 Stop</td>\n",
       "      <td>26,640</td>\n",
       "    </tr>\n",
       "  </tbody>\n",
       "</table>\n",
       "<p>148 rows × 8 columns</p>\n",
       "</div>"
      ],
      "text/plain": [
       "       Airline     Source Destination Dep_Time    Arrival_Time Duration  \\\n",
       "0     Air Asia  New Delhi   Bangalore    08:50           14:00   5h 10m   \n",
       "1     Go First  New Delhi   Bangalore    06:00           16:55  10h 55m   \n",
       "2     Go First  New Delhi   Bangalore    05:45           17:05  11h 20m   \n",
       "3     Go First  New Delhi   Bangalore    08:45           20:50  12h 05m   \n",
       "4     SpiceJet  New Delhi   Bangalore    06:15           08:50   2h 35m   \n",
       "..         ...        ...         ...      ...             ...      ...   \n",
       "143  Air India  New Delhi   Bangalore    13:30           16:15   2h 45m   \n",
       "144     IndiGo  New Delhi   Bangalore    07:40           14:05   6h 25m   \n",
       "145    Vistara  New Delhi   Bangalore    13:40           18:30   4h 50m   \n",
       "146   SpiceJet  New Delhi   Bangalore    18:40  11:30\\n+ 1 day  16h 50m   \n",
       "147  Air India  New Delhi   Bangalore    07:00           23:20  16h 20m   \n",
       "\n",
       "    Total_Stops   Price  \n",
       "0        1 Stop   7,422  \n",
       "1        1 Stop   7,424  \n",
       "2        1 Stop   7,424  \n",
       "3        1 Stop   7,424  \n",
       "4      Non Stop   7,425  \n",
       "..          ...     ...  \n",
       "143    Non Stop  20,340  \n",
       "144      1 Stop  20,393  \n",
       "145      1 Stop  21,233  \n",
       "146      1 Stop  22,021  \n",
       "147      1 Stop  26,640  \n",
       "\n",
       "[148 rows x 8 columns]"
      ]
     },
     "execution_count": 102,
     "metadata": {},
     "output_type": "execute_result"
    }
   ],
   "source": [
    "df"
   ]
  },
  {
   "cell_type": "code",
   "execution_count": 103,
   "metadata": {},
   "outputs": [],
   "source": [
    "df.to_csv('flight2.csv')"
   ]
  },
  {
   "cell_type": "code",
   "execution_count": 104,
   "metadata": {},
   "outputs": [],
   "source": [
    "driver.close()"
   ]
  },
  {
   "cell_type": "markdown",
   "metadata": {},
   "source": [
    "# 3)"
   ]
  },
  {
   "cell_type": "code",
   "execution_count": 151,
   "metadata": {},
   "outputs": [],
   "source": [
    "driver = webdriver.Chrome(\"chromedriver.exe\")\n",
    "url = 'https://www.yatra.com/'\n",
    "driver.get(url)"
   ]
  },
  {
   "cell_type": "code",
   "execution_count": 152,
   "metadata": {},
   "outputs": [],
   "source": [
    "search_bar = driver.find_element_by_id(\"BE_flight_origin_city\").click()\n"
   ]
  },
  {
   "cell_type": "code",
   "execution_count": 153,
   "metadata": {},
   "outputs": [],
   "source": [
    "driver.find_element_by_xpath(\"//div[@class='viewport']//div[2]\").click()"
   ]
  },
  {
   "cell_type": "code",
   "execution_count": 154,
   "metadata": {},
   "outputs": [],
   "source": [
    "driver.find_element_by_xpath('/html/body/div[2]/div/section/div[1]/div/div[1]/section/div/div/div/div[1]/div[1]/div[2]/ul/li[1]/ul/li[3]/div/div/ul/div/div/div/li[4]/div[1]/p[1]').click()"
   ]
  },
  {
   "cell_type": "code",
   "execution_count": 155,
   "metadata": {},
   "outputs": [],
   "source": [
    "driver.find_element_by_name('flight_origin_date').click()"
   ]
  },
  {
   "cell_type": "code",
   "execution_count": 156,
   "metadata": {},
   "outputs": [],
   "source": [
    "driver.find_element_by_xpath('/html/body/div[2]/div/section/div[1]/div/div[1]/section/div/div/div/div[1]/div[1]/div[2]/ul/li[2]/ul/li[1]/section/div/div[2]/div[2]/div[2]/div[1]/div/div/table/tbody/tr[3]/td[1]').click()"
   ]
  },
  {
   "cell_type": "code",
   "execution_count": 157,
   "metadata": {},
   "outputs": [],
   "source": [
    "driver.find_element_by_id(\"BE_flight_flsearch_btn\").click()"
   ]
  },
  {
   "cell_type": "code",
   "execution_count": 170,
   "metadata": {},
   "outputs": [],
   "source": [
    "Airline=[]\n",
    "Source=[]\n",
    "Destination=[]\n",
    "Dep_Time=[]\n",
    "Arrival_Time=[]\n",
    "Duration=[]\n",
    "Total_Stops=[]\n",
    "Price=[]"
   ]
  },
  {
   "cell_type": "code",
   "execution_count": 171,
   "metadata": {},
   "outputs": [],
   "source": [
    "\n",
    "d = driver.find_elements_by_xpath(\"//span[@class='i-b text ellipsis']\")\n",
    "for i in d:\n",
    "    Airline.append(i.text)"
   ]
  },
  {
   "cell_type": "code",
   "execution_count": 172,
   "metadata": {},
   "outputs": [],
   "source": [
    "\n",
    "d = driver.find_elements_by_xpath(\"//p[@class='fs-10 font-lightgrey no-wrap city ellipsis']\")\n",
    "for i in d:\n",
    "    Source.append(i.text)"
   ]
  },
  {
   "cell_type": "code",
   "execution_count": 173,
   "metadata": {},
   "outputs": [],
   "source": [
    "Source1 = Source[0::2]\n",
    "Destination = Source[1::2]"
   ]
  },
  {
   "cell_type": "code",
   "execution_count": 174,
   "metadata": {},
   "outputs": [],
   "source": [
    "\n",
    "d = driver.find_elements_by_xpath(\"//span[@class='dotted-borderbtm']|//span[@class='cursor-default']\")\n",
    "for i in d:\n",
    "    Total_Stops.append(i.text)\n"
   ]
  },
  {
   "cell_type": "code",
   "execution_count": 175,
   "metadata": {},
   "outputs": [],
   "source": [
    "\n",
    "d = driver.find_elements_by_xpath(\"//div[@class='i-b tipsy fare-summary-tooltip fs-18']\")\n",
    "for i in d:\n",
    "    Price.append(i.text)"
   ]
  },
  {
   "cell_type": "code",
   "execution_count": 176,
   "metadata": {},
   "outputs": [],
   "source": [
    "d = driver.find_elements_by_xpath(\"//div[@class='stop-cont pl-13']/p\")\n",
    "for i in d:\n",
    "    Duration.append(i.text)"
   ]
  },
  {
   "cell_type": "code",
   "execution_count": 177,
   "metadata": {},
   "outputs": [],
   "source": [
    "d = driver.find_elements_by_xpath(\"//div[@class='i-b pr']\")\n",
    "for i in d:\n",
    "    Dep_Time.append(i.text)"
   ]
  },
  {
   "cell_type": "code",
   "execution_count": 178,
   "metadata": {},
   "outputs": [],
   "source": [
    "d = driver.find_elements_by_xpath(\"//p[@class='bold fs-15 mb-2 pr time']\")\n",
    "for i in d:\n",
    "    Arrival_Time.append(i.text)"
   ]
  },
  {
   "cell_type": "code",
   "execution_count": 179,
   "metadata": {},
   "outputs": [],
   "source": [
    "df = pd.DataFrame({})\n",
    "df[\"Airline\"]=Airline\n",
    "df[\"Source\"]=Source1\n",
    "df[\"Destination\"]=Destination\n",
    "df[\"Dep_Time\"]= Dep_Time\n",
    "df[\"Arrival_Time\"]=Arrival_Time\n",
    "df[\"Duration\"]=Duration\n",
    "df[\"Total_Stops\"]=Total_Stops\n",
    "df[\"Price\"]=Price"
   ]
  },
  {
   "cell_type": "code",
   "execution_count": 180,
   "metadata": {},
   "outputs": [
    {
     "data": {
      "text/html": [
       "<div>\n",
       "<style scoped>\n",
       "    .dataframe tbody tr th:only-of-type {\n",
       "        vertical-align: middle;\n",
       "    }\n",
       "\n",
       "    .dataframe tbody tr th {\n",
       "        vertical-align: top;\n",
       "    }\n",
       "\n",
       "    .dataframe thead th {\n",
       "        text-align: right;\n",
       "    }\n",
       "</style>\n",
       "<table border=\"1\" class=\"dataframe\">\n",
       "  <thead>\n",
       "    <tr style=\"text-align: right;\">\n",
       "      <th></th>\n",
       "      <th>Airline</th>\n",
       "      <th>Source</th>\n",
       "      <th>Destination</th>\n",
       "      <th>Dep_Time</th>\n",
       "      <th>Arrival_Time</th>\n",
       "      <th>Duration</th>\n",
       "      <th>Total_Stops</th>\n",
       "      <th>Price</th>\n",
       "    </tr>\n",
       "  </thead>\n",
       "  <tbody>\n",
       "    <tr>\n",
       "      <th>0</th>\n",
       "      <td>Air Asia</td>\n",
       "      <td>New Delhi</td>\n",
       "      <td>Chennai</td>\n",
       "      <td>05:35</td>\n",
       "      <td>20:30</td>\n",
       "      <td>14h 55m</td>\n",
       "      <td>1 Stop</td>\n",
       "      <td>7,423</td>\n",
       "    </tr>\n",
       "    <tr>\n",
       "      <th>1</th>\n",
       "      <td>SpiceJet</td>\n",
       "      <td>New Delhi</td>\n",
       "      <td>Chennai</td>\n",
       "      <td>06:50</td>\n",
       "      <td>00:05\\n+ 1 day</td>\n",
       "      <td>17h 15m</td>\n",
       "      <td>1 Stop</td>\n",
       "      <td>7,425</td>\n",
       "    </tr>\n",
       "    <tr>\n",
       "      <th>2</th>\n",
       "      <td>Go First</td>\n",
       "      <td>New Delhi</td>\n",
       "      <td>Chennai</td>\n",
       "      <td>16:10</td>\n",
       "      <td>23:50</td>\n",
       "      <td>7h 40m</td>\n",
       "      <td>1 Stop</td>\n",
       "      <td>7,426</td>\n",
       "    </tr>\n",
       "    <tr>\n",
       "      <th>3</th>\n",
       "      <td>Go First</td>\n",
       "      <td>New Delhi</td>\n",
       "      <td>Chennai</td>\n",
       "      <td>09:00</td>\n",
       "      <td>23:15</td>\n",
       "      <td>14h 15m</td>\n",
       "      <td>1 Stop</td>\n",
       "      <td>7,426</td>\n",
       "    </tr>\n",
       "    <tr>\n",
       "      <th>4</th>\n",
       "      <td>SpiceJet</td>\n",
       "      <td>New Delhi</td>\n",
       "      <td>Chennai</td>\n",
       "      <td>18:40</td>\n",
       "      <td>23:10</td>\n",
       "      <td>4h 30m</td>\n",
       "      <td>1 Stop</td>\n",
       "      <td>7,530</td>\n",
       "    </tr>\n",
       "    <tr>\n",
       "      <th>...</th>\n",
       "      <td>...</td>\n",
       "      <td>...</td>\n",
       "      <td>...</td>\n",
       "      <td>...</td>\n",
       "      <td>...</td>\n",
       "      <td>...</td>\n",
       "      <td>...</td>\n",
       "      <td>...</td>\n",
       "    </tr>\n",
       "    <tr>\n",
       "      <th>128</th>\n",
       "      <td>Air India</td>\n",
       "      <td>New Delhi</td>\n",
       "      <td>Chennai</td>\n",
       "      <td>16:35</td>\n",
       "      <td>07:15\\n+ 1 day</td>\n",
       "      <td>14h 40m</td>\n",
       "      <td>3 Stop(s)</td>\n",
       "      <td>25,170</td>\n",
       "    </tr>\n",
       "    <tr>\n",
       "      <th>129</th>\n",
       "      <td>Air India</td>\n",
       "      <td>New Delhi</td>\n",
       "      <td>Chennai</td>\n",
       "      <td>16:35</td>\n",
       "      <td>10:55\\n+ 1 day</td>\n",
       "      <td>18h 20m</td>\n",
       "      <td>3 Stop(s)</td>\n",
       "      <td>25,170</td>\n",
       "    </tr>\n",
       "    <tr>\n",
       "      <th>130</th>\n",
       "      <td>Air India</td>\n",
       "      <td>New Delhi</td>\n",
       "      <td>Chennai</td>\n",
       "      <td>16:35</td>\n",
       "      <td>10:55\\n+ 1 day</td>\n",
       "      <td>18h 20m</td>\n",
       "      <td>3 Stop(s)</td>\n",
       "      <td>25,170</td>\n",
       "    </tr>\n",
       "    <tr>\n",
       "      <th>131</th>\n",
       "      <td>Vistara</td>\n",
       "      <td>New Delhi</td>\n",
       "      <td>Chennai</td>\n",
       "      <td>07:30</td>\n",
       "      <td>20:25</td>\n",
       "      <td>12h 55m</td>\n",
       "      <td>2 Stop(s)</td>\n",
       "      <td>32,310</td>\n",
       "    </tr>\n",
       "    <tr>\n",
       "      <th>132</th>\n",
       "      <td>Vistara</td>\n",
       "      <td>New Delhi</td>\n",
       "      <td>Chennai</td>\n",
       "      <td>06:20</td>\n",
       "      <td>20:25</td>\n",
       "      <td>14h 05m</td>\n",
       "      <td>2 Stop(s)</td>\n",
       "      <td>33,570</td>\n",
       "    </tr>\n",
       "  </tbody>\n",
       "</table>\n",
       "<p>133 rows × 8 columns</p>\n",
       "</div>"
      ],
      "text/plain": [
       "       Airline     Source Destination Dep_Time    Arrival_Time Duration  \\\n",
       "0     Air Asia  New Delhi     Chennai    05:35           20:30  14h 55m   \n",
       "1     SpiceJet  New Delhi     Chennai    06:50  00:05\\n+ 1 day  17h 15m   \n",
       "2     Go First  New Delhi     Chennai    16:10           23:50   7h 40m   \n",
       "3     Go First  New Delhi     Chennai    09:00           23:15  14h 15m   \n",
       "4     SpiceJet  New Delhi     Chennai    18:40           23:10   4h 30m   \n",
       "..         ...        ...         ...      ...             ...      ...   \n",
       "128  Air India  New Delhi     Chennai    16:35  07:15\\n+ 1 day  14h 40m   \n",
       "129  Air India  New Delhi     Chennai    16:35  10:55\\n+ 1 day  18h 20m   \n",
       "130  Air India  New Delhi     Chennai    16:35  10:55\\n+ 1 day  18h 20m   \n",
       "131    Vistara  New Delhi     Chennai    07:30           20:25  12h 55m   \n",
       "132    Vistara  New Delhi     Chennai    06:20           20:25  14h 05m   \n",
       "\n",
       "    Total_Stops   Price  \n",
       "0        1 Stop   7,423  \n",
       "1        1 Stop   7,425  \n",
       "2        1 Stop   7,426  \n",
       "3        1 Stop   7,426  \n",
       "4        1 Stop   7,530  \n",
       "..          ...     ...  \n",
       "128   3 Stop(s)  25,170  \n",
       "129   3 Stop(s)  25,170  \n",
       "130   3 Stop(s)  25,170  \n",
       "131   2 Stop(s)  32,310  \n",
       "132   2 Stop(s)  33,570  \n",
       "\n",
       "[133 rows x 8 columns]"
      ]
     },
     "execution_count": 180,
     "metadata": {},
     "output_type": "execute_result"
    }
   ],
   "source": [
    "df"
   ]
  },
  {
   "cell_type": "code",
   "execution_count": 181,
   "metadata": {},
   "outputs": [],
   "source": [
    "df.to_csv('flight3.csv')"
   ]
  },
  {
   "cell_type": "code",
   "execution_count": 182,
   "metadata": {},
   "outputs": [],
   "source": [
    "driver.close()"
   ]
  },
  {
   "cell_type": "markdown",
   "metadata": {},
   "source": [
    "# 4)"
   ]
  },
  {
   "cell_type": "code",
   "execution_count": 127,
   "metadata": {},
   "outputs": [],
   "source": [
    "driver = webdriver.Chrome(\"chromedriver.exe\")\n",
    "url = 'https://www.yatra.com/'\n",
    "driver.get(url)"
   ]
  },
  {
   "cell_type": "code",
   "execution_count": 130,
   "metadata": {},
   "outputs": [],
   "source": [
    "search_bar = driver.find_element_by_id(\"BE_flight_origin_city\").click()\n"
   ]
  },
  {
   "cell_type": "code",
   "execution_count": 131,
   "metadata": {},
   "outputs": [],
   "source": [
    "driver.find_element_by_xpath(\"//div[@class='viewport']//div[2]\").click()"
   ]
  },
  {
   "cell_type": "code",
   "execution_count": 132,
   "metadata": {},
   "outputs": [],
   "source": [
    "driver.find_element_by_xpath('/html/body/div[2]/div/section/div[1]/div/div[1]/section/div/div/div/div[1]/div[1]/div[2]/ul/li[1]/ul/li[3]/div/div/ul/div/div/div/li[5]/div[1]/p[1]').click()"
   ]
  },
  {
   "cell_type": "code",
   "execution_count": 133,
   "metadata": {},
   "outputs": [],
   "source": [
    "driver.find_element_by_name('flight_origin_date').click()"
   ]
  },
  {
   "cell_type": "code",
   "execution_count": 134,
   "metadata": {},
   "outputs": [],
   "source": [
    "driver.find_element_by_xpath('/html/body/div[2]/div/section/div[1]/div/div[1]/section/div/div/div/div[1]/div[1]/div[2]/ul/li[2]/ul/li[1]/section/div/div[2]/div[2]/div[2]/div[1]/div/div/table/tbody/tr[3]/td[1]').click()"
   ]
  },
  {
   "cell_type": "code",
   "execution_count": 135,
   "metadata": {},
   "outputs": [],
   "source": [
    "driver.find_element_by_id(\"BE_flight_flsearch_btn\").click()"
   ]
  },
  {
   "cell_type": "code",
   "execution_count": 145,
   "metadata": {},
   "outputs": [],
   "source": [
    "Airline=[]\n",
    "Source=[]\n",
    "Destination=[]\n",
    "Dep_Time=[]\n",
    "Arrival_Time=[]\n",
    "Duration=[]\n",
    "Total_Stops=[]\n",
    "Price=[]"
   ]
  },
  {
   "cell_type": "code",
   "execution_count": 146,
   "metadata": {},
   "outputs": [],
   "source": [
    "\n",
    "d = driver.find_elements_by_xpath(\"//span[@class='i-b text ellipsis']\")\n",
    "for i in d:\n",
    "    Airline.append(i.text)\n",
    "    \n",
    "\n",
    "d = driver.find_elements_by_xpath(\"//p[@class='fs-10 font-lightgrey no-wrap city ellipsis']\")\n",
    "for i in d:\n",
    "    Source.append(i.text)\n",
    "    \n",
    "\n",
    "d = driver.find_elements_by_xpath(\"//span[@class='dotted-borderbtm']|//span[@class='cursor-default']\")\n",
    "for i in d:\n",
    "    Total_Stops.append(i.text)\n",
    "\n",
    "\n",
    "d = driver.find_elements_by_xpath(\"//div[@class='i-b tipsy fare-summary-tooltip fs-18']\")\n",
    "for i in d:\n",
    "    Price.append(i.text)\n",
    "\n",
    "d = driver.find_elements_by_xpath(\"//div[@class='stop-cont pl-13']/p\")\n",
    "for i in d:\n",
    "    Duration.append(i.text)\n",
    "    \n",
    "d = driver.find_elements_by_xpath(\"//div[@class='i-b pr']\")\n",
    "for i in d:\n",
    "    Dep_Time.append(i.text)\n",
    "    \n",
    "d = driver.find_elements_by_xpath(\"//p[@class='bold fs-15 mb-2 pr time']\")\n",
    "for i in d:\n",
    "    Arrival_Time.append(i.text)\n",
    "    \n",
    "Source1 = Source[0::2]\n",
    "Destination = Source[1::2]\n"
   ]
  },
  {
   "cell_type": "code",
   "execution_count": 147,
   "metadata": {},
   "outputs": [],
   "source": [
    "df = pd.DataFrame({})\n",
    "df[\"Airline\"]=Airline\n",
    "df[\"Source\"]=Source1\n",
    "df[\"Destination\"]=Destination\n",
    "df[\"Dep_Time\"]= Dep_Time\n",
    "df[\"Arrival_Time\"]=Arrival_Time\n",
    "df[\"Duration\"]=Duration\n",
    "df[\"Total_Stops\"]=Total_Stops\n",
    "df[\"Price\"]=Price"
   ]
  },
  {
   "cell_type": "code",
   "execution_count": 148,
   "metadata": {},
   "outputs": [
    {
     "data": {
      "text/html": [
       "<div>\n",
       "<style scoped>\n",
       "    .dataframe tbody tr th:only-of-type {\n",
       "        vertical-align: middle;\n",
       "    }\n",
       "\n",
       "    .dataframe tbody tr th {\n",
       "        vertical-align: top;\n",
       "    }\n",
       "\n",
       "    .dataframe thead th {\n",
       "        text-align: right;\n",
       "    }\n",
       "</style>\n",
       "<table border=\"1\" class=\"dataframe\">\n",
       "  <thead>\n",
       "    <tr style=\"text-align: right;\">\n",
       "      <th></th>\n",
       "      <th>Airline</th>\n",
       "      <th>Source</th>\n",
       "      <th>Destination</th>\n",
       "      <th>Dep_Time</th>\n",
       "      <th>Arrival_Time</th>\n",
       "      <th>Duration</th>\n",
       "      <th>Total_Stops</th>\n",
       "      <th>Price</th>\n",
       "    </tr>\n",
       "  </thead>\n",
       "  <tbody>\n",
       "    <tr>\n",
       "      <th>0</th>\n",
       "      <td>Go First</td>\n",
       "      <td>New Delhi</td>\n",
       "      <td>Hyderabad</td>\n",
       "      <td>10:45</td>\n",
       "      <td>12:45</td>\n",
       "      <td>2h 00m</td>\n",
       "      <td>Non Stop</td>\n",
       "      <td>5,954</td>\n",
       "    </tr>\n",
       "    <tr>\n",
       "      <th>1</th>\n",
       "      <td>IndiGo</td>\n",
       "      <td>New Delhi</td>\n",
       "      <td>Hyderabad</td>\n",
       "      <td>07:10</td>\n",
       "      <td>09:20</td>\n",
       "      <td>2h 10m</td>\n",
       "      <td>Non Stop</td>\n",
       "      <td>5,955</td>\n",
       "    </tr>\n",
       "    <tr>\n",
       "      <th>2</th>\n",
       "      <td>Vistara</td>\n",
       "      <td>New Delhi</td>\n",
       "      <td>Hyderabad</td>\n",
       "      <td>07:10</td>\n",
       "      <td>09:25</td>\n",
       "      <td>2h 15m</td>\n",
       "      <td>Non Stop</td>\n",
       "      <td>5,955</td>\n",
       "    </tr>\n",
       "    <tr>\n",
       "      <th>3</th>\n",
       "      <td>IndiGo</td>\n",
       "      <td>New Delhi</td>\n",
       "      <td>Hyderabad</td>\n",
       "      <td>05:55</td>\n",
       "      <td>08:15</td>\n",
       "      <td>2h 20m</td>\n",
       "      <td>Non Stop</td>\n",
       "      <td>5,955</td>\n",
       "    </tr>\n",
       "    <tr>\n",
       "      <th>4</th>\n",
       "      <td>Air Asia</td>\n",
       "      <td>New Delhi</td>\n",
       "      <td>Hyderabad</td>\n",
       "      <td>05:35</td>\n",
       "      <td>07:45</td>\n",
       "      <td>2h 10m</td>\n",
       "      <td>Non Stop</td>\n",
       "      <td>5,956</td>\n",
       "    </tr>\n",
       "    <tr>\n",
       "      <th>...</th>\n",
       "      <td>...</td>\n",
       "      <td>...</td>\n",
       "      <td>...</td>\n",
       "      <td>...</td>\n",
       "      <td>...</td>\n",
       "      <td>...</td>\n",
       "      <td>...</td>\n",
       "      <td>...</td>\n",
       "    </tr>\n",
       "    <tr>\n",
       "      <th>97</th>\n",
       "      <td>Air India</td>\n",
       "      <td>New Delhi</td>\n",
       "      <td>Hyderabad</td>\n",
       "      <td>21:15</td>\n",
       "      <td>09:45\\n+ 1 day</td>\n",
       "      <td>12h 30m</td>\n",
       "      <td>2 Stop(s)</td>\n",
       "      <td>21,915</td>\n",
       "    </tr>\n",
       "    <tr>\n",
       "      <th>98</th>\n",
       "      <td>Air India</td>\n",
       "      <td>New Delhi</td>\n",
       "      <td>Hyderabad</td>\n",
       "      <td>21:15</td>\n",
       "      <td>18:55\\n+ 1 day</td>\n",
       "      <td>21h 40m</td>\n",
       "      <td>2 Stop(s)</td>\n",
       "      <td>21,915</td>\n",
       "    </tr>\n",
       "    <tr>\n",
       "      <th>99</th>\n",
       "      <td>Air India</td>\n",
       "      <td>New Delhi</td>\n",
       "      <td>Hyderabad</td>\n",
       "      <td>21:15</td>\n",
       "      <td>20:15\\n+ 1 day</td>\n",
       "      <td>23h 00m</td>\n",
       "      <td>1 Stop</td>\n",
       "      <td>21,915</td>\n",
       "    </tr>\n",
       "    <tr>\n",
       "      <th>100</th>\n",
       "      <td>Air India</td>\n",
       "      <td>New Delhi</td>\n",
       "      <td>Hyderabad</td>\n",
       "      <td>13:30</td>\n",
       "      <td>20:15</td>\n",
       "      <td>6h 45m</td>\n",
       "      <td>1 Stop</td>\n",
       "      <td>22,703</td>\n",
       "    </tr>\n",
       "    <tr>\n",
       "      <th>101</th>\n",
       "      <td>Air India</td>\n",
       "      <td>New Delhi</td>\n",
       "      <td>Hyderabad</td>\n",
       "      <td>07:00</td>\n",
       "      <td>21:15</td>\n",
       "      <td>14h 15m</td>\n",
       "      <td>1 Stop</td>\n",
       "      <td>31,050</td>\n",
       "    </tr>\n",
       "  </tbody>\n",
       "</table>\n",
       "<p>102 rows × 8 columns</p>\n",
       "</div>"
      ],
      "text/plain": [
       "       Airline     Source Destination Dep_Time    Arrival_Time Duration  \\\n",
       "0     Go First  New Delhi   Hyderabad    10:45           12:45   2h 00m   \n",
       "1       IndiGo  New Delhi   Hyderabad    07:10           09:20   2h 10m   \n",
       "2      Vistara  New Delhi   Hyderabad    07:10           09:25   2h 15m   \n",
       "3       IndiGo  New Delhi   Hyderabad    05:55           08:15   2h 20m   \n",
       "4     Air Asia  New Delhi   Hyderabad    05:35           07:45   2h 10m   \n",
       "..         ...        ...         ...      ...             ...      ...   \n",
       "97   Air India  New Delhi   Hyderabad    21:15  09:45\\n+ 1 day  12h 30m   \n",
       "98   Air India  New Delhi   Hyderabad    21:15  18:55\\n+ 1 day  21h 40m   \n",
       "99   Air India  New Delhi   Hyderabad    21:15  20:15\\n+ 1 day  23h 00m   \n",
       "100  Air India  New Delhi   Hyderabad    13:30           20:15   6h 45m   \n",
       "101  Air India  New Delhi   Hyderabad    07:00           21:15  14h 15m   \n",
       "\n",
       "    Total_Stops   Price  \n",
       "0      Non Stop   5,954  \n",
       "1      Non Stop   5,955  \n",
       "2      Non Stop   5,955  \n",
       "3      Non Stop   5,955  \n",
       "4      Non Stop   5,956  \n",
       "..          ...     ...  \n",
       "97    2 Stop(s)  21,915  \n",
       "98    2 Stop(s)  21,915  \n",
       "99       1 Stop  21,915  \n",
       "100      1 Stop  22,703  \n",
       "101      1 Stop  31,050  \n",
       "\n",
       "[102 rows x 8 columns]"
      ]
     },
     "execution_count": 148,
     "metadata": {},
     "output_type": "execute_result"
    }
   ],
   "source": [
    "df"
   ]
  },
  {
   "cell_type": "code",
   "execution_count": 149,
   "metadata": {},
   "outputs": [],
   "source": [
    "df.to_csv('flight4.csv')"
   ]
  },
  {
   "cell_type": "code",
   "execution_count": 150,
   "metadata": {},
   "outputs": [],
   "source": [
    "driver.close()"
   ]
  },
  {
   "cell_type": "markdown",
   "metadata": {},
   "source": [
    "# 5)"
   ]
  },
  {
   "cell_type": "code",
   "execution_count": 183,
   "metadata": {},
   "outputs": [],
   "source": [
    "driver = webdriver.Chrome(\"chromedriver.exe\")\n",
    "url = 'https://www.yatra.com/'\n",
    "driver.get(url)"
   ]
  },
  {
   "cell_type": "code",
   "execution_count": 187,
   "metadata": {},
   "outputs": [],
   "source": [
    "search_bar = driver.find_element_by_id(\"BE_flight_origin_city\").click()\n"
   ]
  },
  {
   "cell_type": "code",
   "execution_count": 188,
   "metadata": {},
   "outputs": [],
   "source": [
    "driver.find_element_by_xpath(\"//div[@class='viewport']//div[2]\").click()"
   ]
  },
  {
   "cell_type": "code",
   "execution_count": 189,
   "metadata": {},
   "outputs": [],
   "source": [
    "driver.find_element_by_xpath('/html/body/div[2]/div/section/div[1]/div/div[1]/section/div/div/div/div[1]/div[1]/div[2]/ul/li[1]/ul/li[3]/div/div/ul/div/div/div/li[6]/div[1]/p[1]').click()"
   ]
  },
  {
   "cell_type": "code",
   "execution_count": 190,
   "metadata": {},
   "outputs": [],
   "source": [
    "driver.find_element_by_name('flight_origin_date').click()"
   ]
  },
  {
   "cell_type": "code",
   "execution_count": 191,
   "metadata": {},
   "outputs": [],
   "source": [
    "driver.find_element_by_xpath('/html/body/div[2]/div/section/div[1]/div/div[1]/section/div/div/div/div[1]/div[1]/div[2]/ul/li[2]/ul/li[1]/section/div/div[2]/div[2]/div[2]/div[1]/div/div/table/tbody/tr[3]/td[1]').click()"
   ]
  },
  {
   "cell_type": "code",
   "execution_count": 192,
   "metadata": {},
   "outputs": [],
   "source": [
    "driver.find_element_by_id(\"BE_flight_flsearch_btn\").click()"
   ]
  },
  {
   "cell_type": "code",
   "execution_count": 193,
   "metadata": {},
   "outputs": [],
   "source": [
    "Airline=[]\n",
    "Source=[]\n",
    "Destination=[]\n",
    "Dep_Time=[]\n",
    "Arrival_Time=[]\n",
    "Duration=[]\n",
    "Total_Stops=[]\n",
    "Price=[]"
   ]
  },
  {
   "cell_type": "code",
   "execution_count": 194,
   "metadata": {},
   "outputs": [],
   "source": [
    "\n",
    "d = driver.find_elements_by_xpath(\"//span[@class='i-b text ellipsis']\")\n",
    "for i in d:\n",
    "    Airline.append(i.text)\n",
    "    \n",
    "\n",
    "d = driver.find_elements_by_xpath(\"//p[@class='fs-10 font-lightgrey no-wrap city ellipsis']\")\n",
    "for i in d:\n",
    "    Source.append(i.text)\n",
    "    \n",
    "\n",
    "d = driver.find_elements_by_xpath(\"//span[@class='dotted-borderbtm']|//span[@class='cursor-default']\")\n",
    "for i in d:\n",
    "    Total_Stops.append(i.text)\n",
    "\n",
    "\n",
    "d = driver.find_elements_by_xpath(\"//div[@class='i-b tipsy fare-summary-tooltip fs-18']\")\n",
    "for i in d:\n",
    "    Price.append(i.text)\n",
    "\n",
    "d = driver.find_elements_by_xpath(\"//div[@class='stop-cont pl-13']/p\")\n",
    "for i in d:\n",
    "    Duration.append(i.text)\n",
    "    \n",
    "d = driver.find_elements_by_xpath(\"//div[@class='i-b pr']\")\n",
    "for i in d:\n",
    "    Dep_Time.append(i.text)\n",
    "    \n",
    "d = driver.find_elements_by_xpath(\"//p[@class='bold fs-15 mb-2 pr time']\")\n",
    "for i in d:\n",
    "    Arrival_Time.append(i.text)\n",
    "    \n",
    "Source1 = Source[0::2]\n",
    "Destination = Source[1::2]\n"
   ]
  },
  {
   "cell_type": "code",
   "execution_count": 195,
   "metadata": {},
   "outputs": [],
   "source": [
    "df = pd.DataFrame({})\n",
    "df[\"Airline\"]=Airline\n",
    "df[\"Source\"]=Source1\n",
    "df[\"Destination\"]=Destination\n",
    "df[\"Dep_Time\"]= Dep_Time\n",
    "df[\"Arrival_Time\"]=Arrival_Time\n",
    "df[\"Duration\"]=Duration\n",
    "df[\"Total_Stops\"]=Total_Stops\n",
    "df[\"Price\"]=Price"
   ]
  },
  {
   "cell_type": "code",
   "execution_count": 196,
   "metadata": {},
   "outputs": [
    {
     "data": {
      "text/html": [
       "<div>\n",
       "<style scoped>\n",
       "    .dataframe tbody tr th:only-of-type {\n",
       "        vertical-align: middle;\n",
       "    }\n",
       "\n",
       "    .dataframe tbody tr th {\n",
       "        vertical-align: top;\n",
       "    }\n",
       "\n",
       "    .dataframe thead th {\n",
       "        text-align: right;\n",
       "    }\n",
       "</style>\n",
       "<table border=\"1\" class=\"dataframe\">\n",
       "  <thead>\n",
       "    <tr style=\"text-align: right;\">\n",
       "      <th></th>\n",
       "      <th>Airline</th>\n",
       "      <th>Source</th>\n",
       "      <th>Destination</th>\n",
       "      <th>Dep_Time</th>\n",
       "      <th>Arrival_Time</th>\n",
       "      <th>Duration</th>\n",
       "      <th>Total_Stops</th>\n",
       "      <th>Price</th>\n",
       "    </tr>\n",
       "  </thead>\n",
       "  <tbody>\n",
       "    <tr>\n",
       "      <th>0</th>\n",
       "      <td>Air Asia</td>\n",
       "      <td>New Delhi</td>\n",
       "      <td>Goa</td>\n",
       "      <td>05:35</td>\n",
       "      <td>12:25</td>\n",
       "      <td>6h 50m</td>\n",
       "      <td>1 Stop</td>\n",
       "      <td>7,422</td>\n",
       "    </tr>\n",
       "    <tr>\n",
       "      <th>1</th>\n",
       "      <td>Air Asia</td>\n",
       "      <td>New Delhi</td>\n",
       "      <td>Goa</td>\n",
       "      <td>05:35</td>\n",
       "      <td>15:00</td>\n",
       "      <td>9h 25m</td>\n",
       "      <td>1 Stop</td>\n",
       "      <td>7,422</td>\n",
       "    </tr>\n",
       "    <tr>\n",
       "      <th>2</th>\n",
       "      <td>Air Asia</td>\n",
       "      <td>New Delhi</td>\n",
       "      <td>Goa</td>\n",
       "      <td>08:50</td>\n",
       "      <td>18:25</td>\n",
       "      <td>9h 35m</td>\n",
       "      <td>1 Stop</td>\n",
       "      <td>7,422</td>\n",
       "    </tr>\n",
       "    <tr>\n",
       "      <th>3</th>\n",
       "      <td>Air Asia</td>\n",
       "      <td>New Delhi</td>\n",
       "      <td>Goa</td>\n",
       "      <td>19:55</td>\n",
       "      <td>07:25\\n+ 1 day</td>\n",
       "      <td>11h 30m</td>\n",
       "      <td>1 Stop</td>\n",
       "      <td>7,422</td>\n",
       "    </tr>\n",
       "    <tr>\n",
       "      <th>4</th>\n",
       "      <td>Air Asia</td>\n",
       "      <td>New Delhi</td>\n",
       "      <td>Goa</td>\n",
       "      <td>18:35</td>\n",
       "      <td>07:00\\n+ 1 day</td>\n",
       "      <td>12h 25m</td>\n",
       "      <td>1 Stop</td>\n",
       "      <td>7,422</td>\n",
       "    </tr>\n",
       "    <tr>\n",
       "      <th>...</th>\n",
       "      <td>...</td>\n",
       "      <td>...</td>\n",
       "      <td>...</td>\n",
       "      <td>...</td>\n",
       "      <td>...</td>\n",
       "      <td>...</td>\n",
       "      <td>...</td>\n",
       "      <td>...</td>\n",
       "    </tr>\n",
       "    <tr>\n",
       "      <th>128</th>\n",
       "      <td>Vistara</td>\n",
       "      <td>New Delhi</td>\n",
       "      <td>Goa</td>\n",
       "      <td>14:10</td>\n",
       "      <td>13:50\\n+ 1 day</td>\n",
       "      <td>23h 40m</td>\n",
       "      <td>1 Stop</td>\n",
       "      <td>17,190</td>\n",
       "    </tr>\n",
       "    <tr>\n",
       "      <th>129</th>\n",
       "      <td>Air India</td>\n",
       "      <td>New Delhi</td>\n",
       "      <td>Goa</td>\n",
       "      <td>21:25</td>\n",
       "      <td>10:50\\n+ 1 day</td>\n",
       "      <td>13h 25m</td>\n",
       "      <td>2 Stop(s)</td>\n",
       "      <td>18,030</td>\n",
       "    </tr>\n",
       "    <tr>\n",
       "      <th>130</th>\n",
       "      <td>Air India</td>\n",
       "      <td>New Delhi</td>\n",
       "      <td>Goa</td>\n",
       "      <td>16:35</td>\n",
       "      <td>10:50\\n+ 1 day</td>\n",
       "      <td>18h 15m</td>\n",
       "      <td>3 Stop(s)</td>\n",
       "      <td>19,605</td>\n",
       "    </tr>\n",
       "    <tr>\n",
       "      <th>131</th>\n",
       "      <td>Air India</td>\n",
       "      <td>New Delhi</td>\n",
       "      <td>Goa</td>\n",
       "      <td>09:45</td>\n",
       "      <td>10:50\\n+ 1 day</td>\n",
       "      <td>25h 05m</td>\n",
       "      <td>2 Stop(s)</td>\n",
       "      <td>19,605</td>\n",
       "    </tr>\n",
       "    <tr>\n",
       "      <th>132</th>\n",
       "      <td>IndiGo</td>\n",
       "      <td>New Delhi</td>\n",
       "      <td>Goa</td>\n",
       "      <td>09:50</td>\n",
       "      <td>17:25</td>\n",
       "      <td>7h 35m</td>\n",
       "      <td>1 Stop</td>\n",
       "      <td>23,595</td>\n",
       "    </tr>\n",
       "  </tbody>\n",
       "</table>\n",
       "<p>133 rows × 8 columns</p>\n",
       "</div>"
      ],
      "text/plain": [
       "       Airline     Source Destination Dep_Time    Arrival_Time Duration  \\\n",
       "0     Air Asia  New Delhi         Goa    05:35           12:25   6h 50m   \n",
       "1     Air Asia  New Delhi         Goa    05:35           15:00   9h 25m   \n",
       "2     Air Asia  New Delhi         Goa    08:50           18:25   9h 35m   \n",
       "3     Air Asia  New Delhi         Goa    19:55  07:25\\n+ 1 day  11h 30m   \n",
       "4     Air Asia  New Delhi         Goa    18:35  07:00\\n+ 1 day  12h 25m   \n",
       "..         ...        ...         ...      ...             ...      ...   \n",
       "128    Vistara  New Delhi         Goa    14:10  13:50\\n+ 1 day  23h 40m   \n",
       "129  Air India  New Delhi         Goa    21:25  10:50\\n+ 1 day  13h 25m   \n",
       "130  Air India  New Delhi         Goa    16:35  10:50\\n+ 1 day  18h 15m   \n",
       "131  Air India  New Delhi         Goa    09:45  10:50\\n+ 1 day  25h 05m   \n",
       "132     IndiGo  New Delhi         Goa    09:50           17:25   7h 35m   \n",
       "\n",
       "    Total_Stops   Price  \n",
       "0        1 Stop   7,422  \n",
       "1        1 Stop   7,422  \n",
       "2        1 Stop   7,422  \n",
       "3        1 Stop   7,422  \n",
       "4        1 Stop   7,422  \n",
       "..          ...     ...  \n",
       "128      1 Stop  17,190  \n",
       "129   2 Stop(s)  18,030  \n",
       "130   3 Stop(s)  19,605  \n",
       "131   2 Stop(s)  19,605  \n",
       "132      1 Stop  23,595  \n",
       "\n",
       "[133 rows x 8 columns]"
      ]
     },
     "execution_count": 196,
     "metadata": {},
     "output_type": "execute_result"
    }
   ],
   "source": [
    "df"
   ]
  },
  {
   "cell_type": "code",
   "execution_count": 197,
   "metadata": {},
   "outputs": [],
   "source": [
    "df.to_csv('flight5.csv')"
   ]
  },
  {
   "cell_type": "code",
   "execution_count": 198,
   "metadata": {},
   "outputs": [],
   "source": [
    "driver.close()"
   ]
  },
  {
   "cell_type": "code",
   "execution_count": null,
   "metadata": {},
   "outputs": [],
   "source": []
  },
  {
   "cell_type": "markdown",
   "metadata": {},
   "source": [
    "# 6)"
   ]
  },
  {
   "cell_type": "code",
   "execution_count": 199,
   "metadata": {},
   "outputs": [],
   "source": [
    "driver = webdriver.Chrome(\"chromedriver.exe\")\n",
    "url = 'https://www.yatra.com/'\n",
    "driver.get(url)"
   ]
  },
  {
   "cell_type": "code",
   "execution_count": 206,
   "metadata": {},
   "outputs": [],
   "source": [
    "driver.find_element_by_id(\"BE_flight_origin_city\").click()\n"
   ]
  },
  {
   "cell_type": "code",
   "execution_count": 207,
   "metadata": {},
   "outputs": [],
   "source": [
    "driver.find_element_by_xpath(\"//div[@class='viewport']//div[2]\").click()"
   ]
  },
  {
   "cell_type": "code",
   "execution_count": 208,
   "metadata": {},
   "outputs": [],
   "source": [
    "driver.find_element_by_xpath('/html/body/div[2]/div/section/div[1]/div/div[1]/section/div/div/div/div[1]/div[1]/div[2]/ul/li[1]/ul/li[3]/div/div/ul/div/div/div/li[6]/div[1]/p[1]').click()"
   ]
  },
  {
   "cell_type": "code",
   "execution_count": 210,
   "metadata": {},
   "outputs": [],
   "source": [
    "driver.find_element_by_name('flight_origin_date').click()\n"
   ]
  },
  {
   "cell_type": "code",
   "execution_count": 211,
   "metadata": {},
   "outputs": [],
   "source": [
    "driver.find_element_by_xpath('/html/body/div[2]/div/section/div[1]/div/div[1]/section/div/div/div/div[1]/div[1]/div[2]/ul/li[2]/ul/li[1]/section/div/div[2]/div[2]/div[2]/div[1]/div/div/table/tbody/tr[3]/td[1]').click()\n"
   ]
  },
  {
   "cell_type": "code",
   "execution_count": 212,
   "metadata": {},
   "outputs": [],
   "source": [
    "driver.find_element_by_id(\"BE_flight_flsearch_btn\").click()"
   ]
  },
  {
   "cell_type": "code",
   "execution_count": 214,
   "metadata": {},
   "outputs": [],
   "source": [
    "Airline=[]\n",
    "Source=[]\n",
    "Destination=[]\n",
    "Dep_Time=[]\n",
    "Arrival_Time=[]\n",
    "Duration=[]\n",
    "Total_Stops=[]\n",
    "Price=[]\n",
    "\n",
    "d = driver.find_elements_by_xpath(\"//span[@class='i-b text ellipsis']\")\n",
    "for i in d:\n",
    "    Airline.append(i.text)\n",
    "    \n",
    "\n",
    "d = driver.find_elements_by_xpath(\"//p[@class='fs-10 font-lightgrey no-wrap city ellipsis']\")\n",
    "for i in d:\n",
    "    Source.append(i.text)\n",
    "    \n",
    "\n",
    "d = driver.find_elements_by_xpath(\"//span[@class='dotted-borderbtm']|//span[@class='cursor-default']\")\n",
    "for i in d:\n",
    "    Total_Stops.append(i.text)\n",
    "\n",
    "\n",
    "d = driver.find_elements_by_xpath(\"//div[@class='i-b tipsy fare-summary-tooltip fs-18']\")\n",
    "for i in d:\n",
    "    Price.append(i.text)\n",
    "\n",
    "d = driver.find_elements_by_xpath(\"//div[@class='stop-cont pl-13']/p\")\n",
    "for i in d:\n",
    "    Duration.append(i.text)\n",
    "    \n",
    "d = driver.find_elements_by_xpath(\"//div[@class='i-b pr']\")\n",
    "for i in d:\n",
    "    Dep_Time.append(i.text)\n",
    "    \n",
    "d = driver.find_elements_by_xpath(\"//p[@class='bold fs-15 mb-2 pr time']\")\n",
    "for i in d:\n",
    "    Arrival_Time.append(i.text)\n",
    "    \n",
    "Source1 = Source[0::2]\n",
    "Destination = Source[1::2]\n"
   ]
  },
  {
   "cell_type": "code",
   "execution_count": 215,
   "metadata": {},
   "outputs": [
    {
     "data": {
      "text/html": [
       "<div>\n",
       "<style scoped>\n",
       "    .dataframe tbody tr th:only-of-type {\n",
       "        vertical-align: middle;\n",
       "    }\n",
       "\n",
       "    .dataframe tbody tr th {\n",
       "        vertical-align: top;\n",
       "    }\n",
       "\n",
       "    .dataframe thead th {\n",
       "        text-align: right;\n",
       "    }\n",
       "</style>\n",
       "<table border=\"1\" class=\"dataframe\">\n",
       "  <thead>\n",
       "    <tr style=\"text-align: right;\">\n",
       "      <th></th>\n",
       "      <th>Airline</th>\n",
       "      <th>Source</th>\n",
       "      <th>Destination</th>\n",
       "      <th>Dep_Time</th>\n",
       "      <th>Arrival_Time</th>\n",
       "      <th>Duration</th>\n",
       "      <th>Total_Stops</th>\n",
       "      <th>Price</th>\n",
       "    </tr>\n",
       "  </thead>\n",
       "  <tbody>\n",
       "    <tr>\n",
       "      <th>0</th>\n",
       "      <td>Air Asia</td>\n",
       "      <td>New Delhi</td>\n",
       "      <td>Goa</td>\n",
       "      <td>05:35</td>\n",
       "      <td>12:25</td>\n",
       "      <td>6h 50m</td>\n",
       "      <td>1 Stop</td>\n",
       "      <td>7,422</td>\n",
       "    </tr>\n",
       "    <tr>\n",
       "      <th>1</th>\n",
       "      <td>Air Asia</td>\n",
       "      <td>New Delhi</td>\n",
       "      <td>Goa</td>\n",
       "      <td>05:35</td>\n",
       "      <td>15:00</td>\n",
       "      <td>9h 25m</td>\n",
       "      <td>1 Stop</td>\n",
       "      <td>7,422</td>\n",
       "    </tr>\n",
       "    <tr>\n",
       "      <th>2</th>\n",
       "      <td>Air Asia</td>\n",
       "      <td>New Delhi</td>\n",
       "      <td>Goa</td>\n",
       "      <td>08:50</td>\n",
       "      <td>18:25</td>\n",
       "      <td>9h 35m</td>\n",
       "      <td>1 Stop</td>\n",
       "      <td>7,422</td>\n",
       "    </tr>\n",
       "    <tr>\n",
       "      <th>3</th>\n",
       "      <td>Air Asia</td>\n",
       "      <td>New Delhi</td>\n",
       "      <td>Goa</td>\n",
       "      <td>19:55</td>\n",
       "      <td>07:25\\n+ 1 day</td>\n",
       "      <td>11h 30m</td>\n",
       "      <td>1 Stop</td>\n",
       "      <td>7,422</td>\n",
       "    </tr>\n",
       "    <tr>\n",
       "      <th>4</th>\n",
       "      <td>Air Asia</td>\n",
       "      <td>New Delhi</td>\n",
       "      <td>Goa</td>\n",
       "      <td>18:35</td>\n",
       "      <td>07:00\\n+ 1 day</td>\n",
       "      <td>12h 25m</td>\n",
       "      <td>1 Stop</td>\n",
       "      <td>7,422</td>\n",
       "    </tr>\n",
       "    <tr>\n",
       "      <th>...</th>\n",
       "      <td>...</td>\n",
       "      <td>...</td>\n",
       "      <td>...</td>\n",
       "      <td>...</td>\n",
       "      <td>...</td>\n",
       "      <td>...</td>\n",
       "      <td>...</td>\n",
       "      <td>...</td>\n",
       "    </tr>\n",
       "    <tr>\n",
       "      <th>128</th>\n",
       "      <td>Vistara</td>\n",
       "      <td>New Delhi</td>\n",
       "      <td>Goa</td>\n",
       "      <td>14:10</td>\n",
       "      <td>13:50\\n+ 1 day</td>\n",
       "      <td>23h 40m</td>\n",
       "      <td>1 Stop</td>\n",
       "      <td>17,190</td>\n",
       "    </tr>\n",
       "    <tr>\n",
       "      <th>129</th>\n",
       "      <td>Air India</td>\n",
       "      <td>New Delhi</td>\n",
       "      <td>Goa</td>\n",
       "      <td>21:25</td>\n",
       "      <td>10:50\\n+ 1 day</td>\n",
       "      <td>13h 25m</td>\n",
       "      <td>2 Stop(s)</td>\n",
       "      <td>18,030</td>\n",
       "    </tr>\n",
       "    <tr>\n",
       "      <th>130</th>\n",
       "      <td>Air India</td>\n",
       "      <td>New Delhi</td>\n",
       "      <td>Goa</td>\n",
       "      <td>16:35</td>\n",
       "      <td>10:50\\n+ 1 day</td>\n",
       "      <td>18h 15m</td>\n",
       "      <td>3 Stop(s)</td>\n",
       "      <td>19,605</td>\n",
       "    </tr>\n",
       "    <tr>\n",
       "      <th>131</th>\n",
       "      <td>Air India</td>\n",
       "      <td>New Delhi</td>\n",
       "      <td>Goa</td>\n",
       "      <td>09:45</td>\n",
       "      <td>10:50\\n+ 1 day</td>\n",
       "      <td>25h 05m</td>\n",
       "      <td>2 Stop(s)</td>\n",
       "      <td>19,605</td>\n",
       "    </tr>\n",
       "    <tr>\n",
       "      <th>132</th>\n",
       "      <td>IndiGo</td>\n",
       "      <td>New Delhi</td>\n",
       "      <td>Goa</td>\n",
       "      <td>09:50</td>\n",
       "      <td>17:25</td>\n",
       "      <td>7h 35m</td>\n",
       "      <td>1 Stop</td>\n",
       "      <td>23,595</td>\n",
       "    </tr>\n",
       "  </tbody>\n",
       "</table>\n",
       "<p>133 rows × 8 columns</p>\n",
       "</div>"
      ],
      "text/plain": [
       "       Airline     Source Destination Dep_Time    Arrival_Time Duration  \\\n",
       "0     Air Asia  New Delhi         Goa    05:35           12:25   6h 50m   \n",
       "1     Air Asia  New Delhi         Goa    05:35           15:00   9h 25m   \n",
       "2     Air Asia  New Delhi         Goa    08:50           18:25   9h 35m   \n",
       "3     Air Asia  New Delhi         Goa    19:55  07:25\\n+ 1 day  11h 30m   \n",
       "4     Air Asia  New Delhi         Goa    18:35  07:00\\n+ 1 day  12h 25m   \n",
       "..         ...        ...         ...      ...             ...      ...   \n",
       "128    Vistara  New Delhi         Goa    14:10  13:50\\n+ 1 day  23h 40m   \n",
       "129  Air India  New Delhi         Goa    21:25  10:50\\n+ 1 day  13h 25m   \n",
       "130  Air India  New Delhi         Goa    16:35  10:50\\n+ 1 day  18h 15m   \n",
       "131  Air India  New Delhi         Goa    09:45  10:50\\n+ 1 day  25h 05m   \n",
       "132     IndiGo  New Delhi         Goa    09:50           17:25   7h 35m   \n",
       "\n",
       "    Total_Stops   Price  \n",
       "0        1 Stop   7,422  \n",
       "1        1 Stop   7,422  \n",
       "2        1 Stop   7,422  \n",
       "3        1 Stop   7,422  \n",
       "4        1 Stop   7,422  \n",
       "..          ...     ...  \n",
       "128      1 Stop  17,190  \n",
       "129   2 Stop(s)  18,030  \n",
       "130   3 Stop(s)  19,605  \n",
       "131   2 Stop(s)  19,605  \n",
       "132      1 Stop  23,595  \n",
       "\n",
       "[133 rows x 8 columns]"
      ]
     },
     "execution_count": 215,
     "metadata": {},
     "output_type": "execute_result"
    }
   ],
   "source": [
    "df = pd.DataFrame({})\n",
    "df[\"Airline\"]=Airline\n",
    "df[\"Source\"]=Source1\n",
    "df[\"Destination\"]=Destination\n",
    "df[\"Dep_Time\"]= Dep_Time\n",
    "df[\"Arrival_Time\"]=Arrival_Time\n",
    "df[\"Duration\"]=Duration\n",
    "df[\"Total_Stops\"]=Total_Stops\n",
    "df[\"Price\"]=Price\n",
    "df"
   ]
  },
  {
   "cell_type": "code",
   "execution_count": 216,
   "metadata": {},
   "outputs": [],
   "source": [
    "df.to_csv('flight6.csv')"
   ]
  },
  {
   "cell_type": "code",
   "execution_count": 217,
   "metadata": {},
   "outputs": [],
   "source": [
    "driver.close()"
   ]
  },
  {
   "cell_type": "markdown",
   "metadata": {},
   "source": [
    "# 7)"
   ]
  },
  {
   "cell_type": "code",
   "execution_count": 255,
   "metadata": {},
   "outputs": [],
   "source": [
    "driver = webdriver.Chrome(\"chromedriver.exe\")\n",
    "url = 'https://www.yatra.com/'\n",
    "driver.get(url)"
   ]
  },
  {
   "cell_type": "code",
   "execution_count": 259,
   "metadata": {},
   "outputs": [],
   "source": [
    "driver.find_element_by_id(\"BE_flight_origin_city\").click()\n"
   ]
  },
  {
   "cell_type": "code",
   "execution_count": 260,
   "metadata": {},
   "outputs": [],
   "source": [
    "driver.find_element_by_xpath(\"//div[@class='viewport']//div[2]\").click()"
   ]
  },
  {
   "cell_type": "code",
   "execution_count": 261,
   "metadata": {},
   "outputs": [],
   "source": [
    "driver.find_element_by_xpath('//*[@id=\"BE_flight_form_wrapper\"]/div[1]/div[2]/ul/li[1]/ul/li[3]/div/div/ul/div/div/div/li[7]/div[1]/p[1]').click()"
   ]
  },
  {
   "cell_type": "code",
   "execution_count": 262,
   "metadata": {},
   "outputs": [],
   "source": [
    "driver.find_element_by_name('flight_origin_date').click()\n"
   ]
  },
  {
   "cell_type": "code",
   "execution_count": 263,
   "metadata": {},
   "outputs": [],
   "source": [
    "driver.find_element_by_xpath('/html/body/div[2]/div/section/div[1]/div/div[1]/section/div/div/div/div[1]/div[1]/div[2]/ul/li[2]/ul/li[1]/section/div/div[2]/div[2]/div[2]/div[1]/div/div/table/tbody/tr[3]/td[1]').click()\n"
   ]
  },
  {
   "cell_type": "code",
   "execution_count": 264,
   "metadata": {},
   "outputs": [],
   "source": [
    "driver.find_element_by_id(\"BE_flight_flsearch_btn\").click()"
   ]
  },
  {
   "cell_type": "code",
   "execution_count": 265,
   "metadata": {},
   "outputs": [],
   "source": [
    "Airline=[]\n",
    "Source=[]\n",
    "Destination=[]\n",
    "Dep_Time=[]\n",
    "Arrival_Time=[]\n",
    "Duration=[]\n",
    "Total_Stops=[]\n",
    "Price=[]\n",
    "\n",
    "d = driver.find_elements_by_xpath(\"//span[@class='i-b text ellipsis']\")\n",
    "for i in d:\n",
    "    Airline.append(i.text)\n",
    "    \n",
    "\n",
    "d = driver.find_elements_by_xpath(\"//p[@class='fs-10 font-lightgrey no-wrap city ellipsis']\")\n",
    "for i in d:\n",
    "    Source.append(i.text)\n",
    "    \n",
    "\n",
    "d = driver.find_elements_by_xpath(\"//span[@class='dotted-borderbtm']|//span[@class='cursor-default']\")\n",
    "for i in d:\n",
    "    Total_Stops.append(i.text)\n",
    "\n",
    "\n",
    "d = driver.find_elements_by_xpath(\"//div[@class='i-b tipsy fare-summary-tooltip fs-18']\")\n",
    "for i in d:\n",
    "    Price.append(i.text)\n",
    "\n",
    "d = driver.find_elements_by_xpath(\"//div[@class='stop-cont pl-13']/p\")\n",
    "for i in d:\n",
    "    Duration.append(i.text)\n",
    "    \n",
    "d = driver.find_elements_by_xpath(\"//div[@class='i-b pr']\")\n",
    "for i in d:\n",
    "    Dep_Time.append(i.text)\n",
    "    \n",
    "d = driver.find_elements_by_xpath(\"//p[@class='bold fs-15 mb-2 pr time']\")\n",
    "for i in d:\n",
    "    Arrival_Time.append(i.text)\n",
    "    \n",
    "Source1 = Source[0::2]\n",
    "Destination = Source[1::2]\n"
   ]
  },
  {
   "cell_type": "code",
   "execution_count": 267,
   "metadata": {},
   "outputs": [],
   "source": [
    "driver.close()"
   ]
  },
  {
   "cell_type": "markdown",
   "metadata": {},
   "source": [
    "# 8)"
   ]
  },
  {
   "cell_type": "code",
   "execution_count": 268,
   "metadata": {},
   "outputs": [],
   "source": [
    "driver = webdriver.Chrome(\"chromedriver.exe\")\n",
    "url = 'https://www.yatra.com/'\n",
    "driver.get(url)"
   ]
  },
  {
   "cell_type": "code",
   "execution_count": 269,
   "metadata": {},
   "outputs": [],
   "source": [
    "driver.find_element_by_id(\"BE_flight_origin_city\").click()\n"
   ]
  },
  {
   "cell_type": "code",
   "execution_count": 270,
   "metadata": {},
   "outputs": [],
   "source": [
    "driver.find_element_by_xpath(\"//div[@class='viewport']//div[2]\").click()"
   ]
  },
  {
   "cell_type": "code",
   "execution_count": 271,
   "metadata": {},
   "outputs": [],
   "source": [
    "driver.find_element_by_xpath('/html/body/div[2]/div/section/div[1]/div/div[1]/section/div/div/div/div[1]/div[1]/div[2]/ul/li[1]/ul/li[3]/div/div/ul/div/div/div/li[9]/div[1]/p[1]').click()"
   ]
  },
  {
   "cell_type": "code",
   "execution_count": 272,
   "metadata": {},
   "outputs": [],
   "source": [
    "driver.find_element_by_name('flight_origin_date').click()\n"
   ]
  },
  {
   "cell_type": "code",
   "execution_count": 273,
   "metadata": {},
   "outputs": [],
   "source": [
    "driver.find_element_by_xpath('/html/body/div[2]/div/section/div[1]/div/div[1]/section/div/div/div/div[1]/div[1]/div[2]/ul/li[2]/ul/li[1]/section/div/div[2]/div[2]/div[2]/div[1]/div/div/table/tbody/tr[3]/td[1]').click()\n"
   ]
  },
  {
   "cell_type": "code",
   "execution_count": 274,
   "metadata": {},
   "outputs": [],
   "source": [
    "driver.find_element_by_id(\"BE_flight_flsearch_btn\").click()"
   ]
  },
  {
   "cell_type": "code",
   "execution_count": 275,
   "metadata": {},
   "outputs": [],
   "source": [
    "d = driver.find_elements_by_xpath(\"//span[@class='i-b text ellipsis']\")\n",
    "for i in d:\n",
    "    Airline.append(i.text)\n",
    "    \n",
    "\n",
    "d = driver.find_elements_by_xpath(\"//p[@class='fs-10 font-lightgrey no-wrap city ellipsis']\")\n",
    "for i in d:\n",
    "    Source.append(i.text)\n",
    "    \n",
    "\n",
    "d = driver.find_elements_by_xpath(\"//span[@class='dotted-borderbtm']|//span[@class='cursor-default']\")\n",
    "for i in d:\n",
    "    Total_Stops.append(i.text)\n",
    "\n",
    "\n",
    "d = driver.find_elements_by_xpath(\"//div[@class='i-b tipsy fare-summary-tooltip fs-18']\")\n",
    "for i in d:\n",
    "    Price.append(i.text)\n",
    "\n",
    "d = driver.find_elements_by_xpath(\"//div[@class='stop-cont pl-13']/p\")\n",
    "for i in d:\n",
    "    Duration.append(i.text)\n",
    "    \n",
    "d = driver.find_elements_by_xpath(\"//div[@class='i-b pr']\")\n",
    "for i in d:\n",
    "    Dep_Time.append(i.text)\n",
    "    \n",
    "d = driver.find_elements_by_xpath(\"//p[@class='bold fs-15 mb-2 pr time']\")\n",
    "for i in d:\n",
    "    Arrival_Time.append(i.text)\n",
    "    \n",
    "Source1 = Source[0::2]\n",
    "Destination = Source[1::2]\n"
   ]
  },
  {
   "cell_type": "code",
   "execution_count": 276,
   "metadata": {},
   "outputs": [
    {
     "data": {
      "text/html": [
       "<div>\n",
       "<style scoped>\n",
       "    .dataframe tbody tr th:only-of-type {\n",
       "        vertical-align: middle;\n",
       "    }\n",
       "\n",
       "    .dataframe tbody tr th {\n",
       "        vertical-align: top;\n",
       "    }\n",
       "\n",
       "    .dataframe thead th {\n",
       "        text-align: right;\n",
       "    }\n",
       "</style>\n",
       "<table border=\"1\" class=\"dataframe\">\n",
       "  <thead>\n",
       "    <tr style=\"text-align: right;\">\n",
       "      <th></th>\n",
       "      <th>Airline</th>\n",
       "      <th>Source</th>\n",
       "      <th>Destination</th>\n",
       "      <th>Dep_Time</th>\n",
       "      <th>Arrival_Time</th>\n",
       "      <th>Duration</th>\n",
       "      <th>Total_Stops</th>\n",
       "      <th>Price</th>\n",
       "    </tr>\n",
       "  </thead>\n",
       "  <tbody>\n",
       "    <tr>\n",
       "      <th>0</th>\n",
       "      <td>Air Asia</td>\n",
       "      <td>New Delhi</td>\n",
       "      <td>Kolkata</td>\n",
       "      <td>08:50</td>\n",
       "      <td>20:50</td>\n",
       "      <td>12h 00m</td>\n",
       "      <td>2 Stop(s)</td>\n",
       "      <td>5,951</td>\n",
       "    </tr>\n",
       "    <tr>\n",
       "      <th>1</th>\n",
       "      <td>SpiceJet</td>\n",
       "      <td>New Delhi</td>\n",
       "      <td>Kolkata</td>\n",
       "      <td>07:30</td>\n",
       "      <td>13:50</td>\n",
       "      <td>6h 20m</td>\n",
       "      <td>1 Stop</td>\n",
       "      <td>5,954</td>\n",
       "    </tr>\n",
       "    <tr>\n",
       "      <th>2</th>\n",
       "      <td>SpiceJet</td>\n",
       "      <td>New Delhi</td>\n",
       "      <td>Kolkata</td>\n",
       "      <td>07:30</td>\n",
       "      <td>16:50</td>\n",
       "      <td>9h 20m</td>\n",
       "      <td>1 Stop</td>\n",
       "      <td>5,954</td>\n",
       "    </tr>\n",
       "    <tr>\n",
       "      <th>3</th>\n",
       "      <td>Go First</td>\n",
       "      <td>New Delhi</td>\n",
       "      <td>Kolkata</td>\n",
       "      <td>09:00</td>\n",
       "      <td>00:05\\n+ 1 day</td>\n",
       "      <td>15h 05m</td>\n",
       "      <td>1 Stop</td>\n",
       "      <td>5,954</td>\n",
       "    </tr>\n",
       "    <tr>\n",
       "      <th>4</th>\n",
       "      <td>SpiceJet</td>\n",
       "      <td>New Delhi</td>\n",
       "      <td>Kolkata</td>\n",
       "      <td>20:50</td>\n",
       "      <td>21:05\\n+ 1 day</td>\n",
       "      <td>24h 15m</td>\n",
       "      <td>1 Stop</td>\n",
       "      <td>5,954</td>\n",
       "    </tr>\n",
       "    <tr>\n",
       "      <th>...</th>\n",
       "      <td>...</td>\n",
       "      <td>...</td>\n",
       "      <td>...</td>\n",
       "      <td>...</td>\n",
       "      <td>...</td>\n",
       "      <td>...</td>\n",
       "      <td>...</td>\n",
       "      <td>...</td>\n",
       "    </tr>\n",
       "    <tr>\n",
       "      <th>156</th>\n",
       "      <td>Air India</td>\n",
       "      <td>New Delhi</td>\n",
       "      <td>Jaipur</td>\n",
       "      <td>08:00</td>\n",
       "      <td>13:15</td>\n",
       "      <td>5h 15m</td>\n",
       "      <td>1 Stop</td>\n",
       "      <td>19,815</td>\n",
       "    </tr>\n",
       "    <tr>\n",
       "      <th>157</th>\n",
       "      <td>Air India</td>\n",
       "      <td>New Delhi</td>\n",
       "      <td>Jaipur</td>\n",
       "      <td>07:00</td>\n",
       "      <td>13:15</td>\n",
       "      <td>6h 15m</td>\n",
       "      <td>1 Stop</td>\n",
       "      <td>19,815</td>\n",
       "    </tr>\n",
       "    <tr>\n",
       "      <th>158</th>\n",
       "      <td>Air India</td>\n",
       "      <td>New Delhi</td>\n",
       "      <td>Jaipur</td>\n",
       "      <td>09:45</td>\n",
       "      <td>09:20\\n+ 1 day</td>\n",
       "      <td>23h 35m</td>\n",
       "      <td>1 Stop</td>\n",
       "      <td>23,490</td>\n",
       "    </tr>\n",
       "    <tr>\n",
       "      <th>159</th>\n",
       "      <td>Air India</td>\n",
       "      <td>New Delhi</td>\n",
       "      <td>Jaipur</td>\n",
       "      <td>21:15</td>\n",
       "      <td>09:20\\n+ 1 day</td>\n",
       "      <td>12h 05m</td>\n",
       "      <td>1 Stop</td>\n",
       "      <td>25,065</td>\n",
       "    </tr>\n",
       "    <tr>\n",
       "      <th>160</th>\n",
       "      <td>Air India</td>\n",
       "      <td>New Delhi</td>\n",
       "      <td>Jaipur</td>\n",
       "      <td>13:30</td>\n",
       "      <td>09:20\\n+ 1 day</td>\n",
       "      <td>19h 50m</td>\n",
       "      <td>1 Stop</td>\n",
       "      <td>25,065</td>\n",
       "    </tr>\n",
       "  </tbody>\n",
       "</table>\n",
       "<p>161 rows × 8 columns</p>\n",
       "</div>"
      ],
      "text/plain": [
       "       Airline     Source Destination Dep_Time    Arrival_Time Duration  \\\n",
       "0     Air Asia  New Delhi     Kolkata    08:50           20:50  12h 00m   \n",
       "1     SpiceJet  New Delhi     Kolkata    07:30           13:50   6h 20m   \n",
       "2     SpiceJet  New Delhi     Kolkata    07:30           16:50   9h 20m   \n",
       "3     Go First  New Delhi     Kolkata    09:00  00:05\\n+ 1 day  15h 05m   \n",
       "4     SpiceJet  New Delhi     Kolkata    20:50  21:05\\n+ 1 day  24h 15m   \n",
       "..         ...        ...         ...      ...             ...      ...   \n",
       "156  Air India  New Delhi      Jaipur    08:00           13:15   5h 15m   \n",
       "157  Air India  New Delhi      Jaipur    07:00           13:15   6h 15m   \n",
       "158  Air India  New Delhi      Jaipur    09:45  09:20\\n+ 1 day  23h 35m   \n",
       "159  Air India  New Delhi      Jaipur    21:15  09:20\\n+ 1 day  12h 05m   \n",
       "160  Air India  New Delhi      Jaipur    13:30  09:20\\n+ 1 day  19h 50m   \n",
       "\n",
       "    Total_Stops   Price  \n",
       "0     2 Stop(s)   5,951  \n",
       "1        1 Stop   5,954  \n",
       "2        1 Stop   5,954  \n",
       "3        1 Stop   5,954  \n",
       "4        1 Stop   5,954  \n",
       "..          ...     ...  \n",
       "156      1 Stop  19,815  \n",
       "157      1 Stop  19,815  \n",
       "158      1 Stop  23,490  \n",
       "159      1 Stop  25,065  \n",
       "160      1 Stop  25,065  \n",
       "\n",
       "[161 rows x 8 columns]"
      ]
     },
     "execution_count": 276,
     "metadata": {},
     "output_type": "execute_result"
    }
   ],
   "source": [
    "df = pd.DataFrame({})\n",
    "df[\"Airline\"]=Airline\n",
    "df[\"Source\"]=Source1\n",
    "df[\"Destination\"]=Destination\n",
    "df[\"Dep_Time\"]= Dep_Time\n",
    "df[\"Arrival_Time\"]=Arrival_Time\n",
    "df[\"Duration\"]=Duration\n",
    "df[\"Total_Stops\"]=Total_Stops\n",
    "df[\"Price\"]=Price\n",
    "df"
   ]
  },
  {
   "cell_type": "code",
   "execution_count": 277,
   "metadata": {},
   "outputs": [],
   "source": [
    "df.to_csv('flight7.csv')"
   ]
  },
  {
   "cell_type": "code",
   "execution_count": 278,
   "metadata": {},
   "outputs": [],
   "source": [
    "driver.close()"
   ]
  },
  {
   "cell_type": "markdown",
   "metadata": {},
   "source": [
    "# 9)"
   ]
  },
  {
   "cell_type": "code",
   "execution_count": 279,
   "metadata": {},
   "outputs": [],
   "source": [
    "driver = webdriver.Chrome(\"chromedriver.exe\")\n",
    "url = 'https://www.yatra.com/'\n",
    "driver.get(url)"
   ]
  },
  {
   "cell_type": "code",
   "execution_count": 293,
   "metadata": {},
   "outputs": [],
   "source": [
    "driver.find_element_by_id(\"BE_flight_origin_city\").click()\n"
   ]
  },
  {
   "cell_type": "code",
   "execution_count": 295,
   "metadata": {},
   "outputs": [],
   "source": [
    "driver.find_element_by_xpath('/html/body/div[2]/div/section/div[1]/div/div[1]/section/div/div/div/div[1]/div[1]/div[2]/ul/li[1]/ul/li[3]/div/div/ul/div/div/div/li[2]/div[1]/p[1]').click()"
   ]
  },
  {
   "cell_type": "code",
   "execution_count": 296,
   "metadata": {},
   "outputs": [],
   "source": [
    "driver.find_element_by_xpath('/html/body/div[2]/div/section/div[1]/div/div[1]/section/div/div/div/div[1]/div[1]/div[2]/ul/li[1]/ul/li[3]/div/div/ul/div/div/div/li[3]/div[1]/p[1]').click()"
   ]
  },
  {
   "cell_type": "code",
   "execution_count": 297,
   "metadata": {},
   "outputs": [],
   "source": [
    "driver.find_element_by_name('flight_origin_date').click()\n"
   ]
  },
  {
   "cell_type": "code",
   "execution_count": 298,
   "metadata": {},
   "outputs": [],
   "source": [
    "driver.find_element_by_xpath('/html/body/div[2]/div/section/div[1]/div/div[1]/section/div/div/div/div[1]/div[1]/div[2]/ul/li[2]/ul/li[1]/section/div/div[2]/div[2]/div[2]/div[1]/div/div/table/tbody/tr[3]/td[1]').click()\n"
   ]
  },
  {
   "cell_type": "code",
   "execution_count": 299,
   "metadata": {},
   "outputs": [],
   "source": [
    "driver.find_element_by_id(\"BE_flight_flsearch_btn\").click()"
   ]
  },
  {
   "cell_type": "code",
   "execution_count": 305,
   "metadata": {},
   "outputs": [],
   "source": [
    "Airline=[]\n",
    "Source=[]\n",
    "Destination=[]\n",
    "Dep_Time=[]\n",
    "Arrival_Time=[]\n",
    "Duration=[]\n",
    "Total_Stops=[]\n",
    "Price=[]\n",
    "\n",
    "d = driver.find_elements_by_xpath(\"//span[@class='i-b text ellipsis']\")\n",
    "for i in d:\n",
    "    Airline.append(i.text)\n",
    "    \n",
    "\n",
    "d = driver.find_elements_by_xpath(\"//p[@class='fs-10 font-lightgrey no-wrap city ellipsis']\")\n",
    "for i in d:\n",
    "    Source.append(i.text)\n",
    "    \n",
    "\n",
    "d = driver.find_elements_by_xpath(\"//span[@class='dotted-borderbtm']|//span[@class='cursor-default']\")\n",
    "for i in d:\n",
    "    Total_Stops.append(i.text)\n",
    "\n",
    "\n",
    "d = driver.find_elements_by_xpath(\"//div[@class='i-b tipsy fare-summary-tooltip fs-18']\")\n",
    "for i in d:\n",
    "    Price.append(i.text)\n",
    "\n",
    "d = driver.find_elements_by_xpath(\"//div[@class='stop-cont pl-13']/p\")\n",
    "for i in d:\n",
    "    Duration.append(i.text)\n",
    "    \n",
    "d = driver.find_elements_by_xpath(\"//div[@class='i-b pr']\")\n",
    "for i in d:\n",
    "    Dep_Time.append(i.text)\n",
    "    \n",
    "d = driver.find_elements_by_xpath(\"//p[@class='bold fs-15 mb-2 pr time']\")\n",
    "for i in d:\n",
    "    Arrival_Time.append(i.text)\n",
    "    \n",
    "Source1 = Source[0::2]\n",
    "Destination = Source[1::2]\n"
   ]
  },
  {
   "cell_type": "code",
   "execution_count": 307,
   "metadata": {},
   "outputs": [],
   "source": [
    "driver.close()"
   ]
  },
  {
   "cell_type": "markdown",
   "metadata": {},
   "source": [
    "# 10)"
   ]
  },
  {
   "cell_type": "code",
   "execution_count": 308,
   "metadata": {},
   "outputs": [],
   "source": [
    "driver = webdriver.Chrome(\"chromedriver.exe\")\n",
    "url = 'https://www.yatra.com/'\n",
    "driver.get(url)"
   ]
  },
  {
   "cell_type": "code",
   "execution_count": 322,
   "metadata": {},
   "outputs": [],
   "source": [
    "driver.find_element_by_id(\"BE_flight_origin_city\").click()\n"
   ]
  },
  {
   "cell_type": "code",
   "execution_count": 325,
   "metadata": {},
   "outputs": [],
   "source": [
    "driver.find_element_by_xpath('/html/body/div[2]/div/section/div[1]/div/div[1]/section/div/div/div/div[1]/div[1]/div[2]/ul/li[1]/ul/li[3]/div/div/ul/div/div/div/li[2]/div[1]/p[1]').click()"
   ]
  },
  {
   "cell_type": "code",
   "execution_count": 326,
   "metadata": {},
   "outputs": [],
   "source": [
    "driver.find_element_by_xpath('/html/body/div[2]/div/section/div[1]/div/div[1]/section/div/div/div/div[1]/div[1]/div[2]/ul/li[1]/ul/li[3]/div/div/ul/div/div/div/li[4]/div[1]/p[1]').click()"
   ]
  },
  {
   "cell_type": "code",
   "execution_count": 327,
   "metadata": {},
   "outputs": [],
   "source": [
    "driver.find_element_by_name('flight_origin_date').click()\n"
   ]
  },
  {
   "cell_type": "code",
   "execution_count": 328,
   "metadata": {},
   "outputs": [],
   "source": [
    "driver.find_element_by_xpath('/html/body/div[2]/div/section/div[1]/div/div[1]/section/div/div/div/div[1]/div[1]/div[2]/ul/li[2]/ul/li[1]/section/div/div[2]/div[2]/div[2]/div[1]/div/div/table/tbody/tr[3]/td[1]').click()\n"
   ]
  },
  {
   "cell_type": "code",
   "execution_count": 329,
   "metadata": {},
   "outputs": [],
   "source": [
    "driver.find_element_by_id(\"BE_flight_flsearch_btn\").click()"
   ]
  },
  {
   "cell_type": "code",
   "execution_count": 330,
   "metadata": {},
   "outputs": [],
   "source": [
    "d = driver.find_elements_by_xpath(\"//span[@class='i-b text ellipsis']\")\n",
    "for i in d:\n",
    "    Airline.append(i.text)\n",
    "    \n",
    "\n",
    "d = driver.find_elements_by_xpath(\"//p[@class='fs-10 font-lightgrey no-wrap city ellipsis']\")\n",
    "for i in d:\n",
    "    Source.append(i.text)\n",
    "    \n",
    "\n",
    "d = driver.find_elements_by_xpath(\"//span[@class='dotted-borderbtm']|//span[@class='cursor-default']\")\n",
    "for i in d:\n",
    "    Total_Stops.append(i.text)\n",
    "\n",
    "\n",
    "d = driver.find_elements_by_xpath(\"//div[@class='i-b tipsy fare-summary-tooltip fs-18']\")\n",
    "for i in d:\n",
    "    Price.append(i.text)\n",
    "\n",
    "d = driver.find_elements_by_xpath(\"//div[@class='stop-cont pl-13']/p\")\n",
    "for i in d:\n",
    "    Duration.append(i.text)\n",
    "    \n",
    "d = driver.find_elements_by_xpath(\"//div[@class='i-b pr']\")\n",
    "for i in d:\n",
    "    Dep_Time.append(i.text)\n",
    "    \n",
    "d = driver.find_elements_by_xpath(\"//p[@class='bold fs-15 mb-2 pr time']\")\n",
    "for i in d:\n",
    "    Arrival_Time.append(i.text)\n",
    "    \n",
    "Source1 = Source[0::2]\n",
    "Destination = Source[1::2]\n"
   ]
  },
  {
   "cell_type": "code",
   "execution_count": 333,
   "metadata": {},
   "outputs": [],
   "source": [
    "driver.close()"
   ]
  },
  {
   "cell_type": "markdown",
   "metadata": {},
   "source": [
    "# 11)"
   ]
  },
  {
   "cell_type": "code",
   "execution_count": 335,
   "metadata": {},
   "outputs": [],
   "source": [
    "driver = webdriver.Chrome(\"chromedriver.exe\")\n",
    "url = 'https://www.yatra.com/'\n",
    "driver.get(url)"
   ]
  },
  {
   "cell_type": "code",
   "execution_count": 336,
   "metadata": {},
   "outputs": [],
   "source": [
    "driver.find_element_by_id(\"BE_flight_origin_city\").click()\n"
   ]
  },
  {
   "cell_type": "code",
   "execution_count": 342,
   "metadata": {},
   "outputs": [],
   "source": [
    "driver.find_element_by_xpath('/html/body/div[2]/div/section/div[1]/div/div[1]/section/div/div/div/div[1]/div[1]/div[2]/ul/li[1]/ul/li[3]/div/div/ul/div/div/div/li[2]/div[1]/p[1]').click()"
   ]
  },
  {
   "cell_type": "code",
   "execution_count": 341,
   "metadata": {},
   "outputs": [],
   "source": [
    "driver.find_element_by_xpath('/html/body/div[2]/div/section/div[1]/div/div[1]/section/div/div/div/div[1]/div[1]/div[2]/ul/li[1]/ul/li[3]/div/div/ul/div/div/div/li[5]/div[1]/p[1]').click()"
   ]
  },
  {
   "cell_type": "code",
   "execution_count": 343,
   "metadata": {},
   "outputs": [],
   "source": [
    "driver.find_element_by_name('flight_origin_date').click()\n"
   ]
  },
  {
   "cell_type": "code",
   "execution_count": 344,
   "metadata": {},
   "outputs": [],
   "source": [
    "driver.find_element_by_xpath('/html/body/div[2]/div/section/div[1]/div/div[1]/section/div/div/div/div[1]/div[1]/div[2]/ul/li[2]/ul/li[1]/section/div/div[2]/div[2]/div[2]/div[1]/div/div/table/tbody/tr[3]/td[1]').click()\n"
   ]
  },
  {
   "cell_type": "code",
   "execution_count": 345,
   "metadata": {},
   "outputs": [],
   "source": [
    "driver.find_element_by_id(\"BE_flight_flsearch_btn\").click()"
   ]
  },
  {
   "cell_type": "code",
   "execution_count": 346,
   "metadata": {},
   "outputs": [],
   "source": [
    "d = driver.find_elements_by_xpath(\"//span[@class='i-b text ellipsis']\")\n",
    "for i in d:\n",
    "    Airline.append(i.text)\n",
    "    \n",
    "\n",
    "d = driver.find_elements_by_xpath(\"//p[@class='fs-10 font-lightgrey no-wrap city ellipsis']\")\n",
    "for i in d:\n",
    "    Source.append(i.text)\n",
    "    \n",
    "\n",
    "d = driver.find_elements_by_xpath(\"//span[@class='dotted-borderbtm']|//span[@class='cursor-default']\")\n",
    "for i in d:\n",
    "    Total_Stops.append(i.text)\n",
    "\n",
    "\n",
    "d = driver.find_elements_by_xpath(\"//div[@class='i-b tipsy fare-summary-tooltip fs-18']\")\n",
    "for i in d:\n",
    "    Price.append(i.text)\n",
    "\n",
    "d = driver.find_elements_by_xpath(\"//div[@class='stop-cont pl-13']/p\")\n",
    "for i in d:\n",
    "    Duration.append(i.text)\n",
    "    \n",
    "d = driver.find_elements_by_xpath(\"//div[@class='i-b pr']\")\n",
    "for i in d:\n",
    "    Dep_Time.append(i.text)\n",
    "    \n",
    "d = driver.find_elements_by_xpath(\"//p[@class='bold fs-15 mb-2 pr time']\")\n",
    "for i in d:\n",
    "    Arrival_Time.append(i.text)\n",
    "    \n",
    "Source1 = Source[0::2]\n",
    "Destination = Source[1::2]\n"
   ]
  },
  {
   "cell_type": "code",
   "execution_count": 348,
   "metadata": {},
   "outputs": [],
   "source": [
    "driver.close()"
   ]
  },
  {
   "cell_type": "markdown",
   "metadata": {},
   "source": [
    "# 12)"
   ]
  },
  {
   "cell_type": "code",
   "execution_count": 349,
   "metadata": {},
   "outputs": [],
   "source": [
    "driver = webdriver.Chrome(\"chromedriver.exe\")\n",
    "url = 'https://www.yatra.com/'\n",
    "driver.get(url)"
   ]
  },
  {
   "cell_type": "code",
   "execution_count": 354,
   "metadata": {},
   "outputs": [],
   "source": [
    "driver.find_element_by_id(\"BE_flight_origin_city\").click()\n"
   ]
  },
  {
   "cell_type": "code",
   "execution_count": 356,
   "metadata": {},
   "outputs": [],
   "source": [
    "driver.find_element_by_xpath('/html/body/div[2]/div/section/div[1]/div/div[1]/section/div/div/div/div[1]/div[1]/div[2]/ul/li[1]/ul/li[3]/div/div/ul/div/div/div/li[2]/div[1]/p[1]').click()"
   ]
  },
  {
   "cell_type": "code",
   "execution_count": 357,
   "metadata": {},
   "outputs": [],
   "source": [
    "driver.find_element_by_xpath('/html/body/div[2]/div/section/div[1]/div/div[1]/section/div/div/div/div[1]/div[1]/div[2]/ul/li[1]/ul/li[3]/div/div/ul/div/div/div/li[5]/div[1]/p[1]').click()"
   ]
  },
  {
   "cell_type": "code",
   "execution_count": 358,
   "metadata": {},
   "outputs": [],
   "source": [
    "driver.find_element_by_name('flight_origin_date').click()\n"
   ]
  },
  {
   "cell_type": "code",
   "execution_count": 359,
   "metadata": {},
   "outputs": [],
   "source": [
    "driver.find_element_by_xpath('/html/body/div[2]/div/section/div[1]/div/div[1]/section/div/div/div/div[1]/div[1]/div[2]/ul/li[2]/ul/li[1]/section/div/div[2]/div[2]/div[2]/div[1]/div/div/table/tbody/tr[3]/td[1]').click()\n"
   ]
  },
  {
   "cell_type": "code",
   "execution_count": 360,
   "metadata": {},
   "outputs": [],
   "source": [
    "driver.find_element_by_id(\"BE_flight_flsearch_btn\").click()"
   ]
  },
  {
   "cell_type": "code",
   "execution_count": 361,
   "metadata": {},
   "outputs": [],
   "source": [
    "d = driver.find_elements_by_xpath(\"//span[@class='i-b text ellipsis']\")\n",
    "for i in d:\n",
    "    Airline.append(i.text)\n",
    "    \n",
    "\n",
    "d = driver.find_elements_by_xpath(\"//p[@class='fs-10 font-lightgrey no-wrap city ellipsis']\")\n",
    "for i in d:\n",
    "    Source.append(i.text)\n",
    "    \n",
    "\n",
    "d = driver.find_elements_by_xpath(\"//span[@class='dotted-borderbtm']|//span[@class='cursor-default']\")\n",
    "for i in d:\n",
    "    Total_Stops.append(i.text)\n",
    "\n",
    "\n",
    "d = driver.find_elements_by_xpath(\"//div[@class='i-b tipsy fare-summary-tooltip fs-18']\")\n",
    "for i in d:\n",
    "    Price.append(i.text)\n",
    "\n",
    "d = driver.find_elements_by_xpath(\"//div[@class='stop-cont pl-13']/p\")\n",
    "for i in d:\n",
    "    Duration.append(i.text)\n",
    "    \n",
    "d = driver.find_elements_by_xpath(\"//div[@class='i-b pr']\")\n",
    "for i in d:\n",
    "    Dep_Time.append(i.text)\n",
    "    \n",
    "d = driver.find_elements_by_xpath(\"//p[@class='bold fs-15 mb-2 pr time']\")\n",
    "for i in d:\n",
    "    Arrival_Time.append(i.text)\n",
    "    \n",
    "Source1 = Source[0::2]\n",
    "Destination = Source[1::2]\n"
   ]
  },
  {
   "cell_type": "code",
   "execution_count": 364,
   "metadata": {},
   "outputs": [],
   "source": [
    "driver.close()"
   ]
  },
  {
   "cell_type": "markdown",
   "metadata": {},
   "source": [
    "# 13)"
   ]
  },
  {
   "cell_type": "code",
   "execution_count": 365,
   "metadata": {},
   "outputs": [],
   "source": [
    "driver = webdriver.Chrome(\"chromedriver.exe\")\n",
    "url = 'https://www.yatra.com/'\n",
    "driver.get(url)"
   ]
  },
  {
   "cell_type": "code",
   "execution_count": 366,
   "metadata": {},
   "outputs": [],
   "source": [
    "driver.find_element_by_id(\"BE_flight_origin_city\").click()\n"
   ]
  },
  {
   "cell_type": "code",
   "execution_count": 368,
   "metadata": {},
   "outputs": [],
   "source": [
    "driver.find_element_by_xpath('/html/body/div[2]/div/section/div[1]/div/div[1]/section/div/div/div/div[1]/div[1]/div[2]/ul/li[1]/ul/li[3]/div/div/ul/div/div/div/li[2]/div[1]/p[1]').click()"
   ]
  },
  {
   "cell_type": "code",
   "execution_count": 370,
   "metadata": {},
   "outputs": [],
   "source": [
    "driver.find_element_by_xpath('/html/body/div[2]/div/section/div[1]/div/div[1]/section/div/div/div/div[1]/div[1]/div[2]/ul/li[1]/ul/li[3]/div/div/ul/div/div/div/li[6]/div[1]/p[1]').click()"
   ]
  },
  {
   "cell_type": "code",
   "execution_count": 371,
   "metadata": {},
   "outputs": [],
   "source": [
    "driver.find_element_by_name('flight_origin_date').click()\n"
   ]
  },
  {
   "cell_type": "code",
   "execution_count": 372,
   "metadata": {},
   "outputs": [],
   "source": [
    "driver.find_element_by_xpath('/html/body/div[2]/div/section/div[1]/div/div[1]/section/div/div/div/div[1]/div[1]/div[2]/ul/li[2]/ul/li[1]/section/div/div[2]/div[2]/div[2]/div[1]/div/div/table/tbody/tr[3]/td[1]').click()\n"
   ]
  },
  {
   "cell_type": "code",
   "execution_count": 373,
   "metadata": {},
   "outputs": [],
   "source": [
    "driver.find_element_by_id(\"BE_flight_flsearch_btn\").click()"
   ]
  },
  {
   "cell_type": "code",
   "execution_count": 374,
   "metadata": {},
   "outputs": [],
   "source": [
    "d = driver.find_elements_by_xpath(\"//span[@class='i-b text ellipsis']\")\n",
    "for i in d:\n",
    "    Airline.append(i.text)\n",
    "    \n",
    "\n",
    "d = driver.find_elements_by_xpath(\"//p[@class='fs-10 font-lightgrey no-wrap city ellipsis']\")\n",
    "for i in d:\n",
    "    Source.append(i.text)\n",
    "    \n",
    "\n",
    "d = driver.find_elements_by_xpath(\"//span[@class='dotted-borderbtm']|//span[@class='cursor-default']\")\n",
    "for i in d:\n",
    "    Total_Stops.append(i.text)\n",
    "\n",
    "\n",
    "d = driver.find_elements_by_xpath(\"//div[@class='i-b tipsy fare-summary-tooltip fs-18']\")\n",
    "for i in d:\n",
    "    Price.append(i.text)\n",
    "\n",
    "d = driver.find_elements_by_xpath(\"//div[@class='stop-cont pl-13']/p\")\n",
    "for i in d:\n",
    "    Duration.append(i.text)\n",
    "    \n",
    "d = driver.find_elements_by_xpath(\"//div[@class='i-b pr']\")\n",
    "for i in d:\n",
    "    Dep_Time.append(i.text)\n",
    "    \n",
    "d = driver.find_elements_by_xpath(\"//p[@class='bold fs-15 mb-2 pr time']\")\n",
    "for i in d:\n",
    "    Arrival_Time.append(i.text)\n",
    "    \n",
    "Source1 = Source[0::2]\n",
    "Destination = Source[1::2]\n"
   ]
  },
  {
   "cell_type": "code",
   "execution_count": 376,
   "metadata": {},
   "outputs": [],
   "source": [
    "driver.close()"
   ]
  },
  {
   "cell_type": "markdown",
   "metadata": {},
   "source": [
    "# 14)"
   ]
  },
  {
   "cell_type": "code",
   "execution_count": 377,
   "metadata": {},
   "outputs": [],
   "source": [
    "driver = webdriver.Chrome(\"chromedriver.exe\")\n",
    "url = 'https://www.yatra.com/'\n",
    "driver.get(url)"
   ]
  },
  {
   "cell_type": "code",
   "execution_count": 378,
   "metadata": {},
   "outputs": [],
   "source": [
    "driver.find_element_by_id(\"BE_flight_origin_city\").click()\n"
   ]
  },
  {
   "cell_type": "code",
   "execution_count": 379,
   "metadata": {},
   "outputs": [],
   "source": [
    "driver.find_element_by_xpath('/html/body/div[2]/div/section/div[1]/div/div[1]/section/div/div/div/div[1]/div[1]/div[2]/ul/li[1]/ul/li[3]/div/div/ul/div/div/div/li[2]/div[1]/p[1]').click()"
   ]
  },
  {
   "cell_type": "code",
   "execution_count": 381,
   "metadata": {},
   "outputs": [],
   "source": [
    "driver.find_element_by_xpath('/html/body/div[2]/div/section/div[1]/div/div[1]/section/div/div/div/div[1]/div[1]/div[2]/ul/li[1]/ul/li[3]/div/div/ul/div/div/div/li[7]/div[1]/p[1]').click()"
   ]
  },
  {
   "cell_type": "code",
   "execution_count": 382,
   "metadata": {},
   "outputs": [],
   "source": [
    "driver.find_element_by_name('flight_origin_date').click()\n"
   ]
  },
  {
   "cell_type": "code",
   "execution_count": 383,
   "metadata": {},
   "outputs": [],
   "source": [
    "driver.find_element_by_xpath('/html/body/div[2]/div/section/div[1]/div/div[1]/section/div/div/div/div[1]/div[1]/div[2]/ul/li[2]/ul/li[1]/section/div/div[2]/div[2]/div[2]/div[1]/div/div/table/tbody/tr[3]/td[1]').click()\n"
   ]
  },
  {
   "cell_type": "code",
   "execution_count": 384,
   "metadata": {},
   "outputs": [],
   "source": [
    "driver.find_element_by_id(\"BE_flight_flsearch_btn\").click()"
   ]
  },
  {
   "cell_type": "code",
   "execution_count": 385,
   "metadata": {},
   "outputs": [],
   "source": [
    "d = driver.find_elements_by_xpath(\"//span[@class='i-b text ellipsis']\")\n",
    "for i in d:\n",
    "    Airline.append(i.text)\n",
    "    \n",
    "\n",
    "d = driver.find_elements_by_xpath(\"//p[@class='fs-10 font-lightgrey no-wrap city ellipsis']\")\n",
    "for i in d:\n",
    "    Source.append(i.text)\n",
    "    \n",
    "\n",
    "d = driver.find_elements_by_xpath(\"//span[@class='dotted-borderbtm']|//span[@class='cursor-default']\")\n",
    "for i in d:\n",
    "    Total_Stops.append(i.text)\n",
    "\n",
    "\n",
    "d = driver.find_elements_by_xpath(\"//div[@class='i-b tipsy fare-summary-tooltip fs-18']\")\n",
    "for i in d:\n",
    "    Price.append(i.text)\n",
    "\n",
    "d = driver.find_elements_by_xpath(\"//div[@class='stop-cont pl-13']/p\")\n",
    "for i in d:\n",
    "    Duration.append(i.text)\n",
    "    \n",
    "d = driver.find_elements_by_xpath(\"//div[@class='i-b pr']\")\n",
    "for i in d:\n",
    "    Dep_Time.append(i.text)\n",
    "    \n",
    "d = driver.find_elements_by_xpath(\"//p[@class='bold fs-15 mb-2 pr time']\")\n",
    "for i in d:\n",
    "    Arrival_Time.append(i.text)\n",
    "    \n",
    "Source1 = Source[0::2]\n",
    "Destination = Source[1::2]\n"
   ]
  },
  {
   "cell_type": "code",
   "execution_count": 386,
   "metadata": {},
   "outputs": [
    {
     "data": {
      "text/html": [
       "<div>\n",
       "<style scoped>\n",
       "    .dataframe tbody tr th:only-of-type {\n",
       "        vertical-align: middle;\n",
       "    }\n",
       "\n",
       "    .dataframe tbody tr th {\n",
       "        vertical-align: top;\n",
       "    }\n",
       "\n",
       "    .dataframe thead th {\n",
       "        text-align: right;\n",
       "    }\n",
       "</style>\n",
       "<table border=\"1\" class=\"dataframe\">\n",
       "  <thead>\n",
       "    <tr style=\"text-align: right;\">\n",
       "      <th></th>\n",
       "      <th>Airline</th>\n",
       "      <th>Source</th>\n",
       "      <th>Destination</th>\n",
       "      <th>Dep_Time</th>\n",
       "      <th>Arrival_Time</th>\n",
       "      <th>Duration</th>\n",
       "      <th>Total_Stops</th>\n",
       "      <th>Price</th>\n",
       "    </tr>\n",
       "  </thead>\n",
       "  <tbody>\n",
       "    <tr>\n",
       "      <th>0</th>\n",
       "      <td>Air Asia</td>\n",
       "      <td>Mumbai</td>\n",
       "      <td>Bangalore</td>\n",
       "      <td>14:55</td>\n",
       "      <td>20:25</td>\n",
       "      <td>5h 30m</td>\n",
       "      <td>1 Stop</td>\n",
       "      <td>5,101</td>\n",
       "    </tr>\n",
       "    <tr>\n",
       "      <th>1</th>\n",
       "      <td>Air Asia</td>\n",
       "      <td>Mumbai</td>\n",
       "      <td>Bangalore</td>\n",
       "      <td>14:55</td>\n",
       "      <td>22:25</td>\n",
       "      <td>7h 30m</td>\n",
       "      <td>1 Stop</td>\n",
       "      <td>5,101</td>\n",
       "    </tr>\n",
       "    <tr>\n",
       "      <th>2</th>\n",
       "      <td>Air Asia</td>\n",
       "      <td>Mumbai</td>\n",
       "      <td>Bangalore</td>\n",
       "      <td>16:35</td>\n",
       "      <td>01:00\\n+ 1 day</td>\n",
       "      <td>8h 25m</td>\n",
       "      <td>1 Stop</td>\n",
       "      <td>5,101</td>\n",
       "    </tr>\n",
       "    <tr>\n",
       "      <th>3</th>\n",
       "      <td>Go First</td>\n",
       "      <td>Mumbai</td>\n",
       "      <td>Bangalore</td>\n",
       "      <td>06:05</td>\n",
       "      <td>07:45</td>\n",
       "      <td>1h 40m</td>\n",
       "      <td>Non Stop</td>\n",
       "      <td>5,102</td>\n",
       "    </tr>\n",
       "    <tr>\n",
       "      <th>4</th>\n",
       "      <td>Go First</td>\n",
       "      <td>Mumbai</td>\n",
       "      <td>Bangalore</td>\n",
       "      <td>22:15</td>\n",
       "      <td>00:05\\n+ 1 day</td>\n",
       "      <td>1h 50m</td>\n",
       "      <td>Non Stop</td>\n",
       "      <td>5,102</td>\n",
       "    </tr>\n",
       "    <tr>\n",
       "      <th>...</th>\n",
       "      <td>...</td>\n",
       "      <td>...</td>\n",
       "      <td>...</td>\n",
       "      <td>...</td>\n",
       "      <td>...</td>\n",
       "      <td>...</td>\n",
       "      <td>...</td>\n",
       "      <td>...</td>\n",
       "    </tr>\n",
       "    <tr>\n",
       "      <th>641</th>\n",
       "      <td>Go First</td>\n",
       "      <td>Mumbai</td>\n",
       "      <td>Kolkata</td>\n",
       "      <td>16:10</td>\n",
       "      <td>21:55</td>\n",
       "      <td>5h 45m</td>\n",
       "      <td>1 Stop</td>\n",
       "      <td>25,499</td>\n",
       "    </tr>\n",
       "    <tr>\n",
       "      <th>642</th>\n",
       "      <td>Go First</td>\n",
       "      <td>Mumbai</td>\n",
       "      <td>Kolkata</td>\n",
       "      <td>08:30</td>\n",
       "      <td>21:55</td>\n",
       "      <td>13h 25m</td>\n",
       "      <td>1 Stop</td>\n",
       "      <td>26,077</td>\n",
       "    </tr>\n",
       "    <tr>\n",
       "      <th>643</th>\n",
       "      <td>Air India</td>\n",
       "      <td>Mumbai</td>\n",
       "      <td>Kolkata</td>\n",
       "      <td>12:00</td>\n",
       "      <td>16:00</td>\n",
       "      <td>4h 00m</td>\n",
       "      <td>1 Stop</td>\n",
       "      <td>26,418</td>\n",
       "    </tr>\n",
       "    <tr>\n",
       "      <th>644</th>\n",
       "      <td>Vistara</td>\n",
       "      <td>Mumbai</td>\n",
       "      <td>Kolkata</td>\n",
       "      <td>09:05</td>\n",
       "      <td>16:55</td>\n",
       "      <td>7h 50m</td>\n",
       "      <td>2 Stop(s)</td>\n",
       "      <td>27,626</td>\n",
       "    </tr>\n",
       "    <tr>\n",
       "      <th>645</th>\n",
       "      <td>Vistara</td>\n",
       "      <td>Mumbai</td>\n",
       "      <td>Kolkata</td>\n",
       "      <td>12:15</td>\n",
       "      <td>19:35</td>\n",
       "      <td>7h 20m</td>\n",
       "      <td>2 Stop(s)</td>\n",
       "      <td>29,411</td>\n",
       "    </tr>\n",
       "  </tbody>\n",
       "</table>\n",
       "<p>646 rows × 8 columns</p>\n",
       "</div>"
      ],
      "text/plain": [
       "       Airline  Source Destination Dep_Time    Arrival_Time Duration  \\\n",
       "0     Air Asia  Mumbai   Bangalore    14:55           20:25   5h 30m   \n",
       "1     Air Asia  Mumbai   Bangalore    14:55           22:25   7h 30m   \n",
       "2     Air Asia  Mumbai   Bangalore    16:35  01:00\\n+ 1 day   8h 25m   \n",
       "3     Go First  Mumbai   Bangalore    06:05           07:45   1h 40m   \n",
       "4     Go First  Mumbai   Bangalore    22:15  00:05\\n+ 1 day   1h 50m   \n",
       "..         ...     ...         ...      ...             ...      ...   \n",
       "641   Go First  Mumbai     Kolkata    16:10           21:55   5h 45m   \n",
       "642   Go First  Mumbai     Kolkata    08:30           21:55  13h 25m   \n",
       "643  Air India  Mumbai     Kolkata    12:00           16:00   4h 00m   \n",
       "644    Vistara  Mumbai     Kolkata    09:05           16:55   7h 50m   \n",
       "645    Vistara  Mumbai     Kolkata    12:15           19:35   7h 20m   \n",
       "\n",
       "    Total_Stops   Price  \n",
       "0        1 Stop   5,101  \n",
       "1        1 Stop   5,101  \n",
       "2        1 Stop   5,101  \n",
       "3      Non Stop   5,102  \n",
       "4      Non Stop   5,102  \n",
       "..          ...     ...  \n",
       "641      1 Stop  25,499  \n",
       "642      1 Stop  26,077  \n",
       "643      1 Stop  26,418  \n",
       "644   2 Stop(s)  27,626  \n",
       "645   2 Stop(s)  29,411  \n",
       "\n",
       "[646 rows x 8 columns]"
      ]
     },
     "execution_count": 386,
     "metadata": {},
     "output_type": "execute_result"
    }
   ],
   "source": [
    "df = pd.DataFrame({})\n",
    "df[\"Airline\"]=Airline\n",
    "df[\"Source\"]=Source1\n",
    "df[\"Destination\"]=Destination\n",
    "df[\"Dep_Time\"]= Dep_Time\n",
    "df[\"Arrival_Time\"]=Arrival_Time\n",
    "df[\"Duration\"]=Duration\n",
    "df[\"Total_Stops\"]=Total_Stops\n",
    "df[\"Price\"]=Price\n",
    "df"
   ]
  },
  {
   "cell_type": "code",
   "execution_count": 387,
   "metadata": {},
   "outputs": [],
   "source": [
    "df.to_csv('flight8.csv')"
   ]
  },
  {
   "cell_type": "code",
   "execution_count": 388,
   "metadata": {},
   "outputs": [],
   "source": [
    "driver.close()"
   ]
  },
  {
   "cell_type": "code",
   "execution_count": 389,
   "metadata": {},
   "outputs": [
    {
     "data": {
      "text/html": [
       "<div>\n",
       "<style scoped>\n",
       "    .dataframe tbody tr th:only-of-type {\n",
       "        vertical-align: middle;\n",
       "    }\n",
       "\n",
       "    .dataframe tbody tr th {\n",
       "        vertical-align: top;\n",
       "    }\n",
       "\n",
       "    .dataframe thead th {\n",
       "        text-align: right;\n",
       "    }\n",
       "</style>\n",
       "<table border=\"1\" class=\"dataframe\">\n",
       "  <thead>\n",
       "    <tr style=\"text-align: right;\">\n",
       "      <th></th>\n",
       "      <th>Unnamed: 0</th>\n",
       "      <th>Airline</th>\n",
       "      <th>Source</th>\n",
       "      <th>Destination</th>\n",
       "      <th>Dep_Time</th>\n",
       "      <th>Arrival_Time</th>\n",
       "      <th>Duration</th>\n",
       "      <th>Total_Stops</th>\n",
       "      <th>Price</th>\n",
       "    </tr>\n",
       "  </thead>\n",
       "  <tbody>\n",
       "    <tr>\n",
       "      <th>0</th>\n",
       "      <td>0</td>\n",
       "      <td>Air Asia</td>\n",
       "      <td>New Delhi</td>\n",
       "      <td>Mumbai</td>\n",
       "      <td>09:25</td>\n",
       "      <td>16:00</td>\n",
       "      <td>6h 35m</td>\n",
       "      <td>1 Stop</td>\n",
       "      <td>5,953</td>\n",
       "    </tr>\n",
       "    <tr>\n",
       "      <th>1</th>\n",
       "      <td>1</td>\n",
       "      <td>Air Asia</td>\n",
       "      <td>New Delhi</td>\n",
       "      <td>Mumbai</td>\n",
       "      <td>12:40</td>\n",
       "      <td>20:15</td>\n",
       "      <td>7h 35m</td>\n",
       "      <td>1 Stop</td>\n",
       "      <td>5,953</td>\n",
       "    </tr>\n",
       "    <tr>\n",
       "      <th>2</th>\n",
       "      <td>2</td>\n",
       "      <td>Air Asia</td>\n",
       "      <td>New Delhi</td>\n",
       "      <td>Mumbai</td>\n",
       "      <td>11:55</td>\n",
       "      <td>20:15</td>\n",
       "      <td>8h 20m</td>\n",
       "      <td>1 Stop</td>\n",
       "      <td>5,953</td>\n",
       "    </tr>\n",
       "    <tr>\n",
       "      <th>3</th>\n",
       "      <td>3</td>\n",
       "      <td>Air Asia</td>\n",
       "      <td>New Delhi</td>\n",
       "      <td>Mumbai</td>\n",
       "      <td>18:35</td>\n",
       "      <td>06:20\\n+ 1 day</td>\n",
       "      <td>11h 45m</td>\n",
       "      <td>1 Stop</td>\n",
       "      <td>5,953</td>\n",
       "    </tr>\n",
       "    <tr>\n",
       "      <th>4</th>\n",
       "      <td>4</td>\n",
       "      <td>Air Asia</td>\n",
       "      <td>New Delhi</td>\n",
       "      <td>Mumbai</td>\n",
       "      <td>16:15</td>\n",
       "      <td>06:20\\n+ 1 day</td>\n",
       "      <td>14h 05m</td>\n",
       "      <td>1 Stop</td>\n",
       "      <td>5,953</td>\n",
       "    </tr>\n",
       "    <tr>\n",
       "      <th>...</th>\n",
       "      <td>...</td>\n",
       "      <td>...</td>\n",
       "      <td>...</td>\n",
       "      <td>...</td>\n",
       "      <td>...</td>\n",
       "      <td>...</td>\n",
       "      <td>...</td>\n",
       "      <td>...</td>\n",
       "      <td>...</td>\n",
       "    </tr>\n",
       "    <tr>\n",
       "      <th>641</th>\n",
       "      <td>641</td>\n",
       "      <td>Go First</td>\n",
       "      <td>Mumbai</td>\n",
       "      <td>Kolkata</td>\n",
       "      <td>16:10</td>\n",
       "      <td>21:55</td>\n",
       "      <td>5h 45m</td>\n",
       "      <td>1 Stop</td>\n",
       "      <td>25,499</td>\n",
       "    </tr>\n",
       "    <tr>\n",
       "      <th>642</th>\n",
       "      <td>642</td>\n",
       "      <td>Go First</td>\n",
       "      <td>Mumbai</td>\n",
       "      <td>Kolkata</td>\n",
       "      <td>08:30</td>\n",
       "      <td>21:55</td>\n",
       "      <td>13h 25m</td>\n",
       "      <td>1 Stop</td>\n",
       "      <td>26,077</td>\n",
       "    </tr>\n",
       "    <tr>\n",
       "      <th>643</th>\n",
       "      <td>643</td>\n",
       "      <td>Air India</td>\n",
       "      <td>Mumbai</td>\n",
       "      <td>Kolkata</td>\n",
       "      <td>12:00</td>\n",
       "      <td>16:00</td>\n",
       "      <td>4h 00m</td>\n",
       "      <td>1 Stop</td>\n",
       "      <td>26,418</td>\n",
       "    </tr>\n",
       "    <tr>\n",
       "      <th>644</th>\n",
       "      <td>644</td>\n",
       "      <td>Vistara</td>\n",
       "      <td>Mumbai</td>\n",
       "      <td>Kolkata</td>\n",
       "      <td>09:05</td>\n",
       "      <td>16:55</td>\n",
       "      <td>7h 50m</td>\n",
       "      <td>2 Stop(s)</td>\n",
       "      <td>27,626</td>\n",
       "    </tr>\n",
       "    <tr>\n",
       "      <th>645</th>\n",
       "      <td>645</td>\n",
       "      <td>Vistara</td>\n",
       "      <td>Mumbai</td>\n",
       "      <td>Kolkata</td>\n",
       "      <td>12:15</td>\n",
       "      <td>19:35</td>\n",
       "      <td>7h 20m</td>\n",
       "      <td>2 Stop(s)</td>\n",
       "      <td>29,411</td>\n",
       "    </tr>\n",
       "  </tbody>\n",
       "</table>\n",
       "<p>1606 rows × 9 columns</p>\n",
       "</div>"
      ],
      "text/plain": [
       "     Unnamed: 0    Airline     Source Destination Dep_Time    Arrival_Time  \\\n",
       "0             0   Air Asia  New Delhi      Mumbai    09:25           16:00   \n",
       "1             1   Air Asia  New Delhi      Mumbai    12:40           20:15   \n",
       "2             2   Air Asia  New Delhi      Mumbai    11:55           20:15   \n",
       "3             3   Air Asia  New Delhi      Mumbai    18:35  06:20\\n+ 1 day   \n",
       "4             4   Air Asia  New Delhi      Mumbai    16:15  06:20\\n+ 1 day   \n",
       "..          ...        ...        ...         ...      ...             ...   \n",
       "641         641   Go First     Mumbai     Kolkata    16:10           21:55   \n",
       "642         642   Go First     Mumbai     Kolkata    08:30           21:55   \n",
       "643         643  Air India     Mumbai     Kolkata    12:00           16:00   \n",
       "644         644    Vistara     Mumbai     Kolkata    09:05           16:55   \n",
       "645         645    Vistara     Mumbai     Kolkata    12:15           19:35   \n",
       "\n",
       "    Duration Total_Stops   Price  \n",
       "0     6h 35m      1 Stop   5,953  \n",
       "1     7h 35m      1 Stop   5,953  \n",
       "2     8h 20m      1 Stop   5,953  \n",
       "3    11h 45m      1 Stop   5,953  \n",
       "4    14h 05m      1 Stop   5,953  \n",
       "..       ...         ...     ...  \n",
       "641   5h 45m      1 Stop  25,499  \n",
       "642  13h 25m      1 Stop  26,077  \n",
       "643   4h 00m      1 Stop  26,418  \n",
       "644   7h 50m   2 Stop(s)  27,626  \n",
       "645   7h 20m   2 Stop(s)  29,411  \n",
       "\n",
       "[1606 rows x 9 columns]"
      ]
     },
     "execution_count": 389,
     "metadata": {},
     "output_type": "execute_result"
    }
   ],
   "source": [
    "df1=pd.read_csv(\"flight1.csv\")\n",
    "df2=pd.read_csv(\"flight2.csv\")\n",
    "df3=pd.read_csv(\"flight3.csv\")\n",
    "df4=pd.read_csv(\"flight4.csv\")\n",
    "df5=pd.read_csv(\"flight5.csv\")\n",
    "df6=pd.read_csv(\"flight6.csv\")\n",
    "df7=pd.read_csv(\"flight7.csv\")\n",
    "df8=pd.read_csv(\"flight8.csv\")\n",
    "flight = pd.concat([df1,df2,df3,df4,df5,df6,df7,df8],axis=0)\n",
    "flight"
   ]
  },
  {
   "cell_type": "code",
   "execution_count": 390,
   "metadata": {},
   "outputs": [],
   "source": [
    "flight.to_csv(\"Flight Price Prediction.csv\")"
   ]
  },
  {
   "cell_type": "code",
   "execution_count": null,
   "metadata": {},
   "outputs": [],
   "source": []
  }
 ],
 "metadata": {
  "kernelspec": {
   "display_name": "Python 3",
   "language": "python",
   "name": "python3"
  },
  "language_info": {
   "codemirror_mode": {
    "name": "ipython",
    "version": 3
   },
   "file_extension": ".py",
   "mimetype": "text/x-python",
   "name": "python",
   "nbconvert_exporter": "python",
   "pygments_lexer": "ipython3",
   "version": "3.8.5"
  }
 },
 "nbformat": 4,
 "nbformat_minor": 4
}
