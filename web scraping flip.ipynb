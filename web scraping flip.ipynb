{
 "cells": [
  {
   "cell_type": "code",
   "execution_count": 194,
   "metadata": {},
   "outputs": [],
   "source": [
    "import selenium\n",
    "import pandas as pd\n",
    "import time\n",
    "from selenium import webdriver\n",
    "from bs4 import BeautifulSoup\n",
    "from selenium.common.exceptions import StaleElementReferenceException,NoSuchElementException,ElementNotInteractableException\n",
    "import requests\n",
    "import re"
   ]
  },
  {
   "cell_type": "markdown",
   "metadata": {},
   "source": [
    "# 1"
   ]
  },
  {
   "cell_type": "raw",
   "metadata": {},
   "source": [
    "1. Write a python program which searches all the product under a particular product from www.amazon.in. The \n",
    "product to be searched will be taken as input from user. For e.g. If user input is ‘guitar’. Then search for \n",
    "guitars. \n",
    "2. In the above question, now scrape the following details of each product listed in first 3 pages of your search \n",
    "results and save it in a data frame and csv. In case if any product has less than 3 pages in search results then \n",
    "scrape all the products available under that product name. Details to be scraped are: \"Brand \n",
    "Name\", \"Name of the Product\", \"Price\", \"Return/Exchange\", \"Expected Delivery\", \"Availability\" and \n",
    "“Product URL”. In case, if any of the details are missing for any of the product then replace it by “-“."
   ]
  },
  {
   "cell_type": "code",
   "execution_count": 82,
   "metadata": {},
   "outputs": [],
   "source": [
    "driver = webdriver.Chrome(r'C:\\Users\\USER\\Downloads\\chromedriver_win32 (3)\\chromedriver.exe')\n",
    "url = 'https://www.amazon.in/'\n",
    "driver.get(url)"
   ]
  },
  {
   "cell_type": "code",
   "execution_count": 83,
   "metadata": {},
   "outputs": [
    {
     "name": "stdout",
     "output_type": "stream",
     "text": [
      "Enter the product:watch\n"
     ]
    }
   ],
   "source": [
    "user_inp = input(\"Enter the product:\")"
   ]
  },
  {
   "cell_type": "code",
   "execution_count": 84,
   "metadata": {},
   "outputs": [],
   "source": [
    "search_bar = driver.find_element_by_id(\"twotabsearchtextbox\")\n",
    "search_bar.clear()\n",
    "search_bar.send_keys(user_inp)\n",
    "search_button = driver.find_element_by_id(\"nav-search-submit-button\")\n",
    "search_button.click()"
   ]
  },
  {
   "cell_type": "code",
   "execution_count": 85,
   "metadata": {},
   "outputs": [],
   "source": [
    "url=[]\n",
    "for i in range(0,3):\n",
    "    for j in driver.find_elements_by_xpath(\"//a[@class='a-link-normal s-underline-text s-underline-link-text s-link-style a-text-normal']\"):\n",
    "        url.append(j.get_attribute(\"href\"))\n",
    "    # navigate to the next page\n",
    "    next_button = driver.find_element_by_xpath('//a[@class=\"s-pagination-item s-pagination-next s-pagination-button s-pagination-separator\"]')\n",
    "    next_button.click()\n",
    "                                              \n",
    "    # wait for the page to load\n",
    "    time.sleep(5)"
   ]
  },
  {
   "cell_type": "code",
   "execution_count": 86,
   "metadata": {},
   "outputs": [
    {
     "data": {
      "text/plain": [
       "202"
      ]
     },
     "execution_count": 86,
     "metadata": {},
     "output_type": "execute_result"
    }
   ],
   "source": [
    "len(url)"
   ]
  },
  {
   "cell_type": "code",
   "execution_count": 87,
   "metadata": {},
   "outputs": [],
   "source": [
    "Brand_Name=[]\n",
    "Name_of_the_Product=[]\n",
    "Price=[]\n",
    "Return_Exchange=[]\n",
    "Delivery=[]\n",
    "Availability=[]"
   ]
  },
  {
   "cell_type": "code",
   "execution_count": 88,
   "metadata": {},
   "outputs": [],
   "source": [
    "for i in url:\n",
    "    driver.get(i)\n",
    "    time.sleep(5)\n",
    "    \n",
    "    \n",
    "    try:\n",
    "        j = driver.find_element_by_id(\"bylineInfo\")\n",
    "        Brand_Name.append(j.text)\n",
    "    except NoSuchElementException:\n",
    "        Brand_Name.append('-')\n",
    "        \n",
    "    try:\n",
    "        k = driver.find_element_by_id(\"productTitle\")\n",
    "        Name_of_the_Product.append(k.text)\n",
    "    except NoSuchElementException:\n",
    "        Name_of_the_Product.append('-')\n",
    "        \n",
    "    try:\n",
    "        l = driver.find_element_by_xpath(\"//span[@class ='a-price-whole']\")\n",
    "        Price.append(l.text)\n",
    "    except NoSuchElementException:\n",
    "        Price.append('-')\n",
    "        \n",
    "    try:\n",
    "        m = driver.find_element_by_xpath(\"//span[@class= 'a-text-bold']\")\n",
    "        Delivery.append(m.text)\n",
    "    except NoSuchElementException:\n",
    "        Delivery.append('-')\n",
    "        \n",
    "    try:\n",
    "        o = driver.find_element_by_xpath('//*[@id=\"RETURNS_POLICY\"]/span/div[2]/a')                       \n",
    "        Return_Exchange.append(o.text)\n",
    "    except NoSuchElementException:\n",
    "        Return_Exchange.append('-')\n",
    "        \n",
    "    try:\n",
    "        q =driver.find_element_by_id(\"availability\")\n",
    "        Availability.append(q.text)\n",
    "    except NoSuchElementException:\n",
    "        Availability.append('-')\n",
    "                                "
   ]
  },
  {
   "cell_type": "code",
   "execution_count": 91,
   "metadata": {},
   "outputs": [
    {
     "data": {
      "text/html": [
       "<div>\n",
       "<style scoped>\n",
       "    .dataframe tbody tr th:only-of-type {\n",
       "        vertical-align: middle;\n",
       "    }\n",
       "\n",
       "    .dataframe tbody tr th {\n",
       "        vertical-align: top;\n",
       "    }\n",
       "\n",
       "    .dataframe thead th {\n",
       "        text-align: right;\n",
       "    }\n",
       "</style>\n",
       "<table border=\"1\" class=\"dataframe\">\n",
       "  <thead>\n",
       "    <tr style=\"text-align: right;\">\n",
       "      <th></th>\n",
       "      <th>Brand</th>\n",
       "      <th>product</th>\n",
       "      <th>Price</th>\n",
       "      <th>Return/Exchange</th>\n",
       "      <th>Availability</th>\n",
       "      <th>Delivery</th>\n",
       "      <th>URL</th>\n",
       "    </tr>\n",
       "  </thead>\n",
       "  <tbody>\n",
       "    <tr>\n",
       "      <th>0</th>\n",
       "      <td>Visit the Tommy Hilfiger Store</td>\n",
       "      <td>Tommy Hilfiger Bank Blue Men Watch TH1791721/N...</td>\n",
       "      <td>11,996</td>\n",
       "      <td>10 days Returnable</td>\n",
       "      <td>Only 2 left in stock</td>\n",
       "      <td></td>\n",
       "      <td>https://www.amazon.in/sspa/click?ie=UTF8&amp;spc=M...</td>\n",
       "    </tr>\n",
       "    <tr>\n",
       "      <th>1</th>\n",
       "      <td>Visit the Tommy Hilfiger Store</td>\n",
       "      <td>Tommy Hilfiger Bank Black Men Watch TH1791724/...</td>\n",
       "      <td>8,697</td>\n",
       "      <td>10 days Returnable</td>\n",
       "      <td>Only 2 left in stock</td>\n",
       "      <td></td>\n",
       "      <td>https://www.amazon.in/sspa/click?ie=UTF8&amp;spc=M...</td>\n",
       "    </tr>\n",
       "    <tr>\n",
       "      <th>2</th>\n",
       "      <td>Visit the Tommy Hilfiger Store</td>\n",
       "      <td>Tommy Hilfiger Chronograph Analog Watch For Me...</td>\n",
       "      <td>8,799</td>\n",
       "      <td>10 days Returnable</td>\n",
       "      <td>In stock</td>\n",
       "      <td></td>\n",
       "      <td>https://www.amazon.in/sspa/click?ie=UTF8&amp;spc=M...</td>\n",
       "    </tr>\n",
       "    <tr>\n",
       "      <th>3</th>\n",
       "      <td>Visit the Citizen Store</td>\n",
       "      <td>Citizen Analog Black Dial Men's Watch-BI5100-58E</td>\n",
       "      <td>10,500</td>\n",
       "      <td>10 days Returnable</td>\n",
       "      <td>In stock</td>\n",
       "      <td></td>\n",
       "      <td>https://www.amazon.in/sspa/click?ie=UTF8&amp;spc=M...</td>\n",
       "    </tr>\n",
       "    <tr>\n",
       "      <th>4</th>\n",
       "      <td>Visit the Fire-Boltt Store</td>\n",
       "      <td>Fire-Boltt Ninja 3 1.83\" Display Smartwatch Fu...</td>\n",
       "      <td>1,099</td>\n",
       "      <td>7 days Replacement</td>\n",
       "      <td>In stock</td>\n",
       "      <td>Wednesday, 19 April</td>\n",
       "      <td>https://www.amazon.in/Fire-Boltt-Display-Smart...</td>\n",
       "    </tr>\n",
       "    <tr>\n",
       "      <th>...</th>\n",
       "      <td>...</td>\n",
       "      <td>...</td>\n",
       "      <td>...</td>\n",
       "      <td>...</td>\n",
       "      <td>...</td>\n",
       "      <td>...</td>\n",
       "      <td>...</td>\n",
       "    </tr>\n",
       "    <tr>\n",
       "      <th>197</th>\n",
       "      <td>Brand: HEMT</td>\n",
       "      <td>HEMT Analogue Men's Watch (Multicolored Dial M...</td>\n",
       "      <td>429</td>\n",
       "      <td>10 days Returnable</td>\n",
       "      <td>In stock</td>\n",
       "      <td></td>\n",
       "      <td>https://www.amazon.in/sspa/click?ie=UTF8&amp;spc=M...</td>\n",
       "    </tr>\n",
       "    <tr>\n",
       "      <th>198</th>\n",
       "      <td>Visit the Fossil Store</td>\n",
       "      <td>Fossil Chronograph White Dial Men's Watch-CH2882</td>\n",
       "      <td>4,935</td>\n",
       "      <td>10 days Returnable</td>\n",
       "      <td>In stock</td>\n",
       "      <td></td>\n",
       "      <td>https://www.amazon.in/sspa/click?ie=UTF8&amp;spc=M...</td>\n",
       "    </tr>\n",
       "    <tr>\n",
       "      <th>199</th>\n",
       "      <td>Visit the Titan Store</td>\n",
       "      <td>Titan Digital Clear Dial Boy's Watch-16023PP01</td>\n",
       "      <td>1,395</td>\n",
       "      <td>10 days Returnable</td>\n",
       "      <td>In stock</td>\n",
       "      <td></td>\n",
       "      <td>https://www.amazon.in/sspa/click?ie=UTF8&amp;spc=M...</td>\n",
       "    </tr>\n",
       "    <tr>\n",
       "      <th>200</th>\n",
       "      <td>Visit the WRIGHTRACK Store</td>\n",
       "      <td>WRIGHTRACK Analogue Men's Watch (White Dial Br...</td>\n",
       "      <td>395</td>\n",
       "      <td>10 days Returnable</td>\n",
       "      <td>In stock</td>\n",
       "      <td></td>\n",
       "      <td>https://www.amazon.in/sspa/click?ie=UTF8&amp;spc=M...</td>\n",
       "    </tr>\n",
       "    <tr>\n",
       "      <th>201</th>\n",
       "      <td>Visit the boAt Store</td>\n",
       "      <td>boAt Wave Call Smart Watch, Smart Talk with Ad...</td>\n",
       "      <td>1,599</td>\n",
       "      <td>7 days Replacement</td>\n",
       "      <td>In stock</td>\n",
       "      <td>Sunday, 16 April</td>\n",
       "      <td>https://www.amazon.in/boAt-Wave-Call-Dedicated...</td>\n",
       "    </tr>\n",
       "  </tbody>\n",
       "</table>\n",
       "<p>202 rows × 7 columns</p>\n",
       "</div>"
      ],
      "text/plain": [
       "                              Brand  \\\n",
       "0    Visit the Tommy Hilfiger Store   \n",
       "1    Visit the Tommy Hilfiger Store   \n",
       "2    Visit the Tommy Hilfiger Store   \n",
       "3           Visit the Citizen Store   \n",
       "4        Visit the Fire-Boltt Store   \n",
       "..                              ...   \n",
       "197                     Brand: HEMT   \n",
       "198          Visit the Fossil Store   \n",
       "199           Visit the Titan Store   \n",
       "200      Visit the WRIGHTRACK Store   \n",
       "201            Visit the boAt Store   \n",
       "\n",
       "                                               product   Price  \\\n",
       "0    Tommy Hilfiger Bank Blue Men Watch TH1791721/N...  11,996   \n",
       "1    Tommy Hilfiger Bank Black Men Watch TH1791724/...   8,697   \n",
       "2    Tommy Hilfiger Chronograph Analog Watch For Me...   8,799   \n",
       "3     Citizen Analog Black Dial Men's Watch-BI5100-58E  10,500   \n",
       "4    Fire-Boltt Ninja 3 1.83\" Display Smartwatch Fu...   1,099   \n",
       "..                                                 ...     ...   \n",
       "197  HEMT Analogue Men's Watch (Multicolored Dial M...     429   \n",
       "198   Fossil Chronograph White Dial Men's Watch-CH2882   4,935   \n",
       "199     Titan Digital Clear Dial Boy's Watch-16023PP01   1,395   \n",
       "200  WRIGHTRACK Analogue Men's Watch (White Dial Br...     395   \n",
       "201  boAt Wave Call Smart Watch, Smart Talk with Ad...   1,599   \n",
       "\n",
       "        Return/Exchange          Availability             Delivery  \\\n",
       "0    10 days Returnable  Only 2 left in stock                        \n",
       "1    10 days Returnable  Only 2 left in stock                        \n",
       "2    10 days Returnable              In stock                        \n",
       "3    10 days Returnable              In stock                        \n",
       "4    7 days Replacement              In stock  Wednesday, 19 April   \n",
       "..                  ...                   ...                  ...   \n",
       "197  10 days Returnable              In stock                        \n",
       "198  10 days Returnable              In stock                        \n",
       "199  10 days Returnable              In stock                        \n",
       "200  10 days Returnable              In stock                        \n",
       "201  7 days Replacement              In stock     Sunday, 16 April   \n",
       "\n",
       "                                                   URL  \n",
       "0    https://www.amazon.in/sspa/click?ie=UTF8&spc=M...  \n",
       "1    https://www.amazon.in/sspa/click?ie=UTF8&spc=M...  \n",
       "2    https://www.amazon.in/sspa/click?ie=UTF8&spc=M...  \n",
       "3    https://www.amazon.in/sspa/click?ie=UTF8&spc=M...  \n",
       "4    https://www.amazon.in/Fire-Boltt-Display-Smart...  \n",
       "..                                                 ...  \n",
       "197  https://www.amazon.in/sspa/click?ie=UTF8&spc=M...  \n",
       "198  https://www.amazon.in/sspa/click?ie=UTF8&spc=M...  \n",
       "199  https://www.amazon.in/sspa/click?ie=UTF8&spc=M...  \n",
       "200  https://www.amazon.in/sspa/click?ie=UTF8&spc=M...  \n",
       "201  https://www.amazon.in/boAt-Wave-Call-Dedicated...  \n",
       "\n",
       "[202 rows x 7 columns]"
      ]
     },
     "execution_count": 91,
     "metadata": {},
     "output_type": "execute_result"
    }
   ],
   "source": [
    "df = pd.DataFrame({})\n",
    "df[\"Brand\"] =  Brand_Name\n",
    "df[\"product\"] = Name_of_the_Product\n",
    "df[\"Price\"] = Price\n",
    "df[\"Return/Exchange\"] = Return_Exchange\n",
    "df[\"Availability\"] = Availability\n",
    "df[\"Delivery\"] = Delivery\n",
    "df[\"URL\"] = url\n",
    "df"
   ]
  },
  {
   "cell_type": "code",
   "execution_count": 93,
   "metadata": {},
   "outputs": [],
   "source": [
    "df[\"Brand\"]=df[\"Brand\"].str.strip(\"Visit the\")"
   ]
  },
  {
   "cell_type": "code",
   "execution_count": 94,
   "metadata": {},
   "outputs": [
    {
     "data": {
      "text/html": [
       "<div>\n",
       "<style scoped>\n",
       "    .dataframe tbody tr th:only-of-type {\n",
       "        vertical-align: middle;\n",
       "    }\n",
       "\n",
       "    .dataframe tbody tr th {\n",
       "        vertical-align: top;\n",
       "    }\n",
       "\n",
       "    .dataframe thead th {\n",
       "        text-align: right;\n",
       "    }\n",
       "</style>\n",
       "<table border=\"1\" class=\"dataframe\">\n",
       "  <thead>\n",
       "    <tr style=\"text-align: right;\">\n",
       "      <th></th>\n",
       "      <th>Brand</th>\n",
       "      <th>product</th>\n",
       "      <th>Price</th>\n",
       "      <th>Return/Exchange</th>\n",
       "      <th>Availability</th>\n",
       "      <th>Delivery</th>\n",
       "      <th>URL</th>\n",
       "    </tr>\n",
       "  </thead>\n",
       "  <tbody>\n",
       "    <tr>\n",
       "      <th>0</th>\n",
       "      <td>Tommy Hilfiger Stor</td>\n",
       "      <td>Tommy Hilfiger Bank Blue Men Watch TH1791721/N...</td>\n",
       "      <td>11,996</td>\n",
       "      <td>10 days Returnable</td>\n",
       "      <td>Only 2 left in stock</td>\n",
       "      <td></td>\n",
       "      <td>https://www.amazon.in/sspa/click?ie=UTF8&amp;spc=M...</td>\n",
       "    </tr>\n",
       "    <tr>\n",
       "      <th>1</th>\n",
       "      <td>Tommy Hilfiger Stor</td>\n",
       "      <td>Tommy Hilfiger Bank Black Men Watch TH1791724/...</td>\n",
       "      <td>8,697</td>\n",
       "      <td>10 days Returnable</td>\n",
       "      <td>Only 2 left in stock</td>\n",
       "      <td></td>\n",
       "      <td>https://www.amazon.in/sspa/click?ie=UTF8&amp;spc=M...</td>\n",
       "    </tr>\n",
       "    <tr>\n",
       "      <th>2</th>\n",
       "      <td>Tommy Hilfiger Stor</td>\n",
       "      <td>Tommy Hilfiger Chronograph Analog Watch For Me...</td>\n",
       "      <td>8,799</td>\n",
       "      <td>10 days Returnable</td>\n",
       "      <td>In stock</td>\n",
       "      <td></td>\n",
       "      <td>https://www.amazon.in/sspa/click?ie=UTF8&amp;spc=M...</td>\n",
       "    </tr>\n",
       "    <tr>\n",
       "      <th>3</th>\n",
       "      <td>Citizen Stor</td>\n",
       "      <td>Citizen Analog Black Dial Men's Watch-BI5100-58E</td>\n",
       "      <td>10,500</td>\n",
       "      <td>10 days Returnable</td>\n",
       "      <td>In stock</td>\n",
       "      <td></td>\n",
       "      <td>https://www.amazon.in/sspa/click?ie=UTF8&amp;spc=M...</td>\n",
       "    </tr>\n",
       "    <tr>\n",
       "      <th>4</th>\n",
       "      <td>Fire-Boltt Stor</td>\n",
       "      <td>Fire-Boltt Ninja 3 1.83\" Display Smartwatch Fu...</td>\n",
       "      <td>1,099</td>\n",
       "      <td>7 days Replacement</td>\n",
       "      <td>In stock</td>\n",
       "      <td>Wednesday, 19 April</td>\n",
       "      <td>https://www.amazon.in/Fire-Boltt-Display-Smart...</td>\n",
       "    </tr>\n",
       "    <tr>\n",
       "      <th>...</th>\n",
       "      <td>...</td>\n",
       "      <td>...</td>\n",
       "      <td>...</td>\n",
       "      <td>...</td>\n",
       "      <td>...</td>\n",
       "      <td>...</td>\n",
       "      <td>...</td>\n",
       "    </tr>\n",
       "    <tr>\n",
       "      <th>197</th>\n",
       "      <td>Brand: HEMT</td>\n",
       "      <td>HEMT Analogue Men's Watch (Multicolored Dial M...</td>\n",
       "      <td>429</td>\n",
       "      <td>10 days Returnable</td>\n",
       "      <td>In stock</td>\n",
       "      <td></td>\n",
       "      <td>https://www.amazon.in/sspa/click?ie=UTF8&amp;spc=M...</td>\n",
       "    </tr>\n",
       "    <tr>\n",
       "      <th>198</th>\n",
       "      <td>Fossil Stor</td>\n",
       "      <td>Fossil Chronograph White Dial Men's Watch-CH2882</td>\n",
       "      <td>4,935</td>\n",
       "      <td>10 days Returnable</td>\n",
       "      <td>In stock</td>\n",
       "      <td></td>\n",
       "      <td>https://www.amazon.in/sspa/click?ie=UTF8&amp;spc=M...</td>\n",
       "    </tr>\n",
       "    <tr>\n",
       "      <th>199</th>\n",
       "      <td>Titan Stor</td>\n",
       "      <td>Titan Digital Clear Dial Boy's Watch-16023PP01</td>\n",
       "      <td>1,395</td>\n",
       "      <td>10 days Returnable</td>\n",
       "      <td>In stock</td>\n",
       "      <td></td>\n",
       "      <td>https://www.amazon.in/sspa/click?ie=UTF8&amp;spc=M...</td>\n",
       "    </tr>\n",
       "    <tr>\n",
       "      <th>200</th>\n",
       "      <td>WRIGHTRACK Stor</td>\n",
       "      <td>WRIGHTRACK Analogue Men's Watch (White Dial Br...</td>\n",
       "      <td>395</td>\n",
       "      <td>10 days Returnable</td>\n",
       "      <td>In stock</td>\n",
       "      <td></td>\n",
       "      <td>https://www.amazon.in/sspa/click?ie=UTF8&amp;spc=M...</td>\n",
       "    </tr>\n",
       "    <tr>\n",
       "      <th>201</th>\n",
       "      <td>boAt Stor</td>\n",
       "      <td>boAt Wave Call Smart Watch, Smart Talk with Ad...</td>\n",
       "      <td>1,599</td>\n",
       "      <td>7 days Replacement</td>\n",
       "      <td>In stock</td>\n",
       "      <td>Sunday, 16 April</td>\n",
       "      <td>https://www.amazon.in/boAt-Wave-Call-Dedicated...</td>\n",
       "    </tr>\n",
       "  </tbody>\n",
       "</table>\n",
       "<p>202 rows × 7 columns</p>\n",
       "</div>"
      ],
      "text/plain": [
       "                   Brand                                            product  \\\n",
       "0    Tommy Hilfiger Stor  Tommy Hilfiger Bank Blue Men Watch TH1791721/N...   \n",
       "1    Tommy Hilfiger Stor  Tommy Hilfiger Bank Black Men Watch TH1791724/...   \n",
       "2    Tommy Hilfiger Stor  Tommy Hilfiger Chronograph Analog Watch For Me...   \n",
       "3           Citizen Stor   Citizen Analog Black Dial Men's Watch-BI5100-58E   \n",
       "4        Fire-Boltt Stor  Fire-Boltt Ninja 3 1.83\" Display Smartwatch Fu...   \n",
       "..                   ...                                                ...   \n",
       "197          Brand: HEMT  HEMT Analogue Men's Watch (Multicolored Dial M...   \n",
       "198          Fossil Stor   Fossil Chronograph White Dial Men's Watch-CH2882   \n",
       "199           Titan Stor     Titan Digital Clear Dial Boy's Watch-16023PP01   \n",
       "200      WRIGHTRACK Stor  WRIGHTRACK Analogue Men's Watch (White Dial Br...   \n",
       "201            boAt Stor  boAt Wave Call Smart Watch, Smart Talk with Ad...   \n",
       "\n",
       "      Price     Return/Exchange          Availability             Delivery  \\\n",
       "0    11,996  10 days Returnable  Only 2 left in stock                        \n",
       "1     8,697  10 days Returnable  Only 2 left in stock                        \n",
       "2     8,799  10 days Returnable              In stock                        \n",
       "3    10,500  10 days Returnable              In stock                        \n",
       "4     1,099  7 days Replacement              In stock  Wednesday, 19 April   \n",
       "..      ...                 ...                   ...                  ...   \n",
       "197     429  10 days Returnable              In stock                        \n",
       "198   4,935  10 days Returnable              In stock                        \n",
       "199   1,395  10 days Returnable              In stock                        \n",
       "200     395  10 days Returnable              In stock                        \n",
       "201   1,599  7 days Replacement              In stock     Sunday, 16 April   \n",
       "\n",
       "                                                   URL  \n",
       "0    https://www.amazon.in/sspa/click?ie=UTF8&spc=M...  \n",
       "1    https://www.amazon.in/sspa/click?ie=UTF8&spc=M...  \n",
       "2    https://www.amazon.in/sspa/click?ie=UTF8&spc=M...  \n",
       "3    https://www.amazon.in/sspa/click?ie=UTF8&spc=M...  \n",
       "4    https://www.amazon.in/Fire-Boltt-Display-Smart...  \n",
       "..                                                 ...  \n",
       "197  https://www.amazon.in/sspa/click?ie=UTF8&spc=M...  \n",
       "198  https://www.amazon.in/sspa/click?ie=UTF8&spc=M...  \n",
       "199  https://www.amazon.in/sspa/click?ie=UTF8&spc=M...  \n",
       "200  https://www.amazon.in/sspa/click?ie=UTF8&spc=M...  \n",
       "201  https://www.amazon.in/boAt-Wave-Call-Dedicated...  \n",
       "\n",
       "[202 rows x 7 columns]"
      ]
     },
     "execution_count": 94,
     "metadata": {},
     "output_type": "execute_result"
    }
   ],
   "source": [
    "df"
   ]
  },
  {
   "cell_type": "code",
   "execution_count": 95,
   "metadata": {},
   "outputs": [],
   "source": [
    "driver.close()"
   ]
  },
  {
   "cell_type": "markdown",
   "metadata": {},
   "source": [
    "# 2"
   ]
  },
  {
   "cell_type": "raw",
   "metadata": {},
   "source": [
    "Write a python program to access the search bar and search button on images.google.com and scrape 10 \n",
    "images each for keywords ‘fruits’, ‘cars’ and ‘Machine Learning’, ‘Guitar’, ‘Cakes’. "
   ]
  },
  {
   "cell_type": "code",
   "execution_count": 101,
   "metadata": {},
   "outputs": [],
   "source": [
    "driver = webdriver.Chrome(r\"C:\\Users\\USER\\Downloads\\chromedriver_win32 (3)\\chromedriver.exe\")\n",
    "url = 'https://images.google.com/?gws_rd=ssl'\n",
    "driver.get(url)"
   ]
  },
  {
   "cell_type": "code",
   "execution_count": 105,
   "metadata": {},
   "outputs": [],
   "source": [
    "search_bar = driver.find_element_by_xpath('//*[@id=\"APjFqb\"]')\n",
    "search_bar.send_keys(\"fruits\")\n",
    "search_button = driver.find_element_by_xpath('/html/body/div[1]/div[3]/form/div[1]/div[1]/div[1]/button/div/span')\n",
    "search_button.click()"
   ]
  },
  {
   "cell_type": "code",
   "execution_count": 106,
   "metadata": {},
   "outputs": [],
   "source": [
    "# keep scrolling down the webpage untill it cannot scroll no more\n",
    "for i in range(500):\n",
    "    driver.execute_script(\"window.scrollBy(0,10000)\")\n"
   ]
  },
  {
   "cell_type": "code",
   "execution_count": 107,
   "metadata": {},
   "outputs": [],
   "source": [
    "images =  driver.find_elements_by_xpath(\"//img[@class='rg_i Q4LuWd']\")"
   ]
  },
  {
   "cell_type": "code",
   "execution_count": 108,
   "metadata": {},
   "outputs": [],
   "source": [
    "img_urls = []\n",
    "img_data = []\n",
    "\n",
    "# getting the url of each images\n",
    "for image in images:\n",
    "    source = image.get_attribute('src')\n",
    "    if source is not None:\n",
    "        if(source[0:4] == 'http'):\n",
    "            img_urls.append(source)"
   ]
  },
  {
   "cell_type": "code",
   "execution_count": 109,
   "metadata": {},
   "outputs": [
    {
     "name": "stdout",
     "output_type": "stream",
     "text": [
      "Downloading 0 of 10 images\n",
      "Downloading 1 of 10 images\n",
      "Downloading 2 of 10 images\n",
      "Downloading 3 of 10 images\n",
      "Downloading 4 of 10 images\n",
      "Downloading 5 of 10 images\n",
      "Downloading 6 of 10 images\n",
      "Downloading 7 of 10 images\n",
      "Downloading 8 of 10 images\n",
      "Downloading 9 of 10 images\n"
     ]
    }
   ],
   "source": [
    "#downloading all images\n",
    "for i in range(len(img_urls)):\n",
    "    if i >= 10:\n",
    "        break\n",
    "    print(\"Downloading {0} of {1} images\".format(i,10)) \n",
    "    response = requests.get(img_urls[i])\n",
    "    file = open(r\"C:\\Users\\USER\\scrap image\"+ str(i)+\".jpg\",\"wb\")\n",
    "    file.write(response.content)"
   ]
  },
  {
   "cell_type": "code",
   "execution_count": 110,
   "metadata": {},
   "outputs": [],
   "source": [
    "driver.close()"
   ]
  },
  {
   "cell_type": "code",
   "execution_count": 111,
   "metadata": {},
   "outputs": [],
   "source": [
    "driver = webdriver.Chrome(r\"C:\\Users\\USER\\Downloads\\chromedriver_win32 (3)\\chromedriver.exe\")\n",
    "url = 'https://images.google.com/?gws_rd=ssl'\n",
    "driver.get(url)"
   ]
  },
  {
   "cell_type": "code",
   "execution_count": 113,
   "metadata": {},
   "outputs": [],
   "source": [
    "search_bar = driver.find_element_by_xpath('//*[@id=\"APjFqb\"]')\n",
    "search_bar.send_keys(\"cars\")\n",
    "search_button = driver.find_element_by_xpath('/html/body/div[1]/div[3]/form/div[1]/div[1]/div[1]/button/div/span')\n",
    "search_button.click()"
   ]
  },
  {
   "cell_type": "code",
   "execution_count": 114,
   "metadata": {},
   "outputs": [],
   "source": [
    "for i in range(500):\n",
    "    driver.execute_script(\"window.scrollBy(0,10000)\")\n"
   ]
  },
  {
   "cell_type": "code",
   "execution_count": 115,
   "metadata": {},
   "outputs": [],
   "source": [
    "images =  driver.find_elements_by_xpath(\"//img[@class='rg_i Q4LuWd']\")"
   ]
  },
  {
   "cell_type": "code",
   "execution_count": 116,
   "metadata": {},
   "outputs": [],
   "source": [
    "img_urls = []\n",
    "\n",
    "# getting the url of each images\n",
    "for image in images:\n",
    "    source = image.get_attribute('src')\n",
    "    if source is not None:\n",
    "        if(source[0:4] == 'http'):\n",
    "            img_urls.append(source)"
   ]
  },
  {
   "cell_type": "code",
   "execution_count": 117,
   "metadata": {},
   "outputs": [
    {
     "name": "stdout",
     "output_type": "stream",
     "text": [
      "Downloading 0 of 10 images\n",
      "Downloading 1 of 10 images\n",
      "Downloading 2 of 10 images\n",
      "Downloading 3 of 10 images\n",
      "Downloading 4 of 10 images\n",
      "Downloading 5 of 10 images\n",
      "Downloading 6 of 10 images\n",
      "Downloading 7 of 10 images\n",
      "Downloading 8 of 10 images\n",
      "Downloading 9 of 10 images\n"
     ]
    }
   ],
   "source": [
    "for i in range(len(img_urls)):\n",
    "    if i >= 10:\n",
    "        break\n",
    "    print(\"Downloading {0} of {1} images\".format(i,10)) \n",
    "    response = requests.get(img_urls[i])\n",
    "    file = open(r\"C:\\Users\\USER\\scrap image\"+ str(i)+\".jpg\",\"wb\")\n",
    "    file.write(response.content)"
   ]
  },
  {
   "cell_type": "code",
   "execution_count": 118,
   "metadata": {},
   "outputs": [],
   "source": [
    "driver.close()"
   ]
  },
  {
   "cell_type": "code",
   "execution_count": 119,
   "metadata": {},
   "outputs": [],
   "source": [
    "driver = webdriver.Chrome(r\"C:\\Users\\USER\\Downloads\\chromedriver_win32 (3)\\chromedriver.exe\")\n",
    "url = 'https://images.google.com/?gws_rd=ssl'\n",
    "driver.get(url)"
   ]
  },
  {
   "cell_type": "code",
   "execution_count": 120,
   "metadata": {},
   "outputs": [],
   "source": [
    "search_bar = driver.find_element_by_xpath('//*[@id=\"APjFqb\"]')\n",
    "search_bar.send_keys(\"Machine Learning\")\n",
    "search_button = driver.find_element_by_xpath('/html/body/div[1]/div[3]/form/div[1]/div[1]/div[1]/button/div/span')\n",
    "search_button.click()"
   ]
  },
  {
   "cell_type": "code",
   "execution_count": 123,
   "metadata": {},
   "outputs": [],
   "source": [
    "for i in range(500):\n",
    "    driver.execute_script(\"window.scrollBy(0,10000)\")"
   ]
  },
  {
   "cell_type": "code",
   "execution_count": 124,
   "metadata": {},
   "outputs": [],
   "source": [
    "img_urls = []\n",
    "images =  driver.find_elements_by_xpath(\"//img[@class='rg_i Q4LuWd']\")\n",
    "for image in images:\n",
    "    source = image.get_attribute('src')\n",
    "    if source is not None:\n",
    "        if(source[0:4] == 'http'):\n",
    "            img_urls.append(source)"
   ]
  },
  {
   "cell_type": "code",
   "execution_count": 125,
   "metadata": {},
   "outputs": [
    {
     "name": "stdout",
     "output_type": "stream",
     "text": [
      "Downloading 0 of 10 images\n",
      "Downloading 1 of 10 images\n",
      "Downloading 2 of 10 images\n",
      "Downloading 3 of 10 images\n",
      "Downloading 4 of 10 images\n",
      "Downloading 5 of 10 images\n",
      "Downloading 6 of 10 images\n",
      "Downloading 7 of 10 images\n",
      "Downloading 8 of 10 images\n",
      "Downloading 9 of 10 images\n"
     ]
    }
   ],
   "source": [
    "for i in range(len(img_urls)):\n",
    "    if i >= 10:\n",
    "        break\n",
    "    print(\"Downloading {0} of {1} images\".format(i,10)) \n",
    "    response = requests.get(img_urls[i])\n",
    "    file = open(r\"C:\\Users\\USER\\scrap image\"+ str(i)+\".jpg\",\"wb\")\n",
    "    file.write(response.content)"
   ]
  },
  {
   "cell_type": "code",
   "execution_count": 126,
   "metadata": {},
   "outputs": [],
   "source": [
    "driver.close()"
   ]
  },
  {
   "cell_type": "code",
   "execution_count": 127,
   "metadata": {},
   "outputs": [],
   "source": [
    "driver = webdriver.Chrome(r\"C:\\Users\\USER\\Downloads\\chromedriver_win32 (3)\\chromedriver.exe\")\n",
    "url = 'https://images.google.com/?gws_rd=ssl'\n",
    "driver.get(url)"
   ]
  },
  {
   "cell_type": "code",
   "execution_count": 128,
   "metadata": {},
   "outputs": [],
   "source": [
    "search_bar = driver.find_element_by_xpath('//*[@id=\"APjFqb\"]')\n",
    "search_bar.send_keys(\"Guitar\")\n",
    "search_button = driver.find_element_by_xpath('/html/body/div[1]/div[3]/form/div[1]/div[1]/div[1]/button/div/span')\n",
    "search_button.click()"
   ]
  },
  {
   "cell_type": "code",
   "execution_count": 129,
   "metadata": {},
   "outputs": [],
   "source": [
    "for i in range(500):\n",
    "    driver.execute_script(\"window.scrollBy(0,10000)\")"
   ]
  },
  {
   "cell_type": "code",
   "execution_count": 130,
   "metadata": {},
   "outputs": [],
   "source": [
    "img_urls = []\n",
    "images =  driver.find_elements_by_xpath(\"//img[@class='rg_i Q4LuWd']\")\n",
    "for image in images:\n",
    "    source = image.get_attribute('src')\n",
    "    if source is not None:\n",
    "        if(source[0:4] == 'http'):\n",
    "            img_urls.append(source)"
   ]
  },
  {
   "cell_type": "code",
   "execution_count": 131,
   "metadata": {},
   "outputs": [
    {
     "name": "stdout",
     "output_type": "stream",
     "text": [
      "Downloading 0 of 10 images\n",
      "Downloading 1 of 10 images\n",
      "Downloading 2 of 10 images\n",
      "Downloading 3 of 10 images\n",
      "Downloading 4 of 10 images\n",
      "Downloading 5 of 10 images\n",
      "Downloading 6 of 10 images\n",
      "Downloading 7 of 10 images\n",
      "Downloading 8 of 10 images\n",
      "Downloading 9 of 10 images\n"
     ]
    }
   ],
   "source": [
    "for i in range(len(img_urls)):\n",
    "    if i >= 10:\n",
    "        break\n",
    "    print(\"Downloading {0} of {1} images\".format(i,10)) \n",
    "    response = requests.get(img_urls[i])\n",
    "    file = open(r\"C:\\Users\\USER\\scrap image\"+ str(i)+\".jpg\",\"wb\")\n",
    "    file.write(response.content)"
   ]
  },
  {
   "cell_type": "code",
   "execution_count": 132,
   "metadata": {},
   "outputs": [],
   "source": [
    "driver.close()"
   ]
  },
  {
   "cell_type": "code",
   "execution_count": 133,
   "metadata": {},
   "outputs": [],
   "source": [
    "driver = webdriver.Chrome(r\"C:\\Users\\USER\\Downloads\\chromedriver_win32 (3)\\chromedriver.exe\")\n",
    "url = 'https://images.google.com/?gws_rd=ssl'\n",
    "driver.get(url)"
   ]
  },
  {
   "cell_type": "code",
   "execution_count": 134,
   "metadata": {},
   "outputs": [],
   "source": [
    "search_bar = driver.find_element_by_xpath('//*[@id=\"APjFqb\"]')\n",
    "search_bar.send_keys(\"Cakes\")\n",
    "search_button = driver.find_element_by_xpath('/html/body/div[1]/div[3]/form/div[1]/div[1]/div[1]/button/div/span')\n",
    "search_button.click()"
   ]
  },
  {
   "cell_type": "code",
   "execution_count": 135,
   "metadata": {},
   "outputs": [],
   "source": [
    "for i in range(500):\n",
    "    driver.execute_script(\"window.scrollBy(0,10000)\")"
   ]
  },
  {
   "cell_type": "code",
   "execution_count": 136,
   "metadata": {},
   "outputs": [],
   "source": [
    "img_urls = []\n",
    "images =  driver.find_elements_by_xpath(\"//img[@class='rg_i Q4LuWd']\")\n",
    "for image in images:\n",
    "    source = image.get_attribute('src')\n",
    "    if source is not None:\n",
    "        if(source[0:4] == 'http'):\n",
    "            img_urls.append(source)"
   ]
  },
  {
   "cell_type": "code",
   "execution_count": 137,
   "metadata": {},
   "outputs": [
    {
     "name": "stdout",
     "output_type": "stream",
     "text": [
      "Downloading 0 of 10 images\n",
      "Downloading 1 of 10 images\n",
      "Downloading 2 of 10 images\n",
      "Downloading 3 of 10 images\n",
      "Downloading 4 of 10 images\n",
      "Downloading 5 of 10 images\n",
      "Downloading 6 of 10 images\n",
      "Downloading 7 of 10 images\n",
      "Downloading 8 of 10 images\n",
      "Downloading 9 of 10 images\n"
     ]
    }
   ],
   "source": [
    "for i in range(len(img_urls)):\n",
    "    if i >= 10:\n",
    "        break\n",
    "    print(\"Downloading {0} of {1} images\".format(i,10)) \n",
    "    response = requests.get(img_urls[i])\n",
    "    file = open(r\"C:\\Users\\USER\\scrap image\"+ str(i)+\".jpg\",\"wb\")\n",
    "    file.write(response.content)"
   ]
  },
  {
   "cell_type": "code",
   "execution_count": 138,
   "metadata": {},
   "outputs": [],
   "source": [
    "driver.close()"
   ]
  },
  {
   "cell_type": "markdown",
   "metadata": {},
   "source": [
    "# 4"
   ]
  },
  {
   "cell_type": "raw",
   "metadata": {},
   "source": [
    "Write a python program to search for a smartphone(e.g.: Oneplus Nord, pixel 4A, etc.) on www.flipkart.com\n",
    "and scrape following details for all the search results displayed on 1st page. Details to be scraped: “Brand \n",
    "Name”, “Smartphone name”, “Colour”, “RAM”, “Storage(ROM)”, “Primary Camera”, \n",
    "“Secondary Camera”, “Display Size”, “Battery Capacity”, “Price”, “Product URL”. Incase if any of the \n",
    "details is missing then replace it by “- “. Save your results in a dataframe and CSV. "
   ]
  },
  {
   "cell_type": "code",
   "execution_count": 86,
   "metadata": {},
   "outputs": [],
   "source": [
    "driver = webdriver.Chrome(r\"C:\\Users\\USER\\Downloads\\chromedriver_win32 (3)\\chromedriver.exe\")\n",
    "url = 'http://www.flipkart.com/'\n",
    "driver.get(url)"
   ]
  },
  {
   "cell_type": "code",
   "execution_count": 87,
   "metadata": {},
   "outputs": [],
   "source": [
    "button=driver.find_element_by_xpath(\"//button[@class = '_2KpZ6l _2doB4z']\").click()"
   ]
  },
  {
   "cell_type": "code",
   "execution_count": 88,
   "metadata": {},
   "outputs": [],
   "source": [
    "search_bar = driver.find_element_by_name('q').send_keys(\"Oneplus Nord\")\n",
    "search=driver.find_element_by_class_name(\"L0Z3Pu\").click()\n"
   ]
  },
  {
   "cell_type": "code",
   "execution_count": 89,
   "metadata": {},
   "outputs": [],
   "source": [
    "urls = []\n",
    "url = driver.find_elements_by_xpath(\"//a[@class='_1fQZEK']\")\n",
    "for i in url:\n",
    "    urls.append(i.get_attribute(\"href\"))"
   ]
  },
  {
   "cell_type": "code",
   "execution_count": 133,
   "metadata": {},
   "outputs": [],
   "source": [
    "\n",
    "brand_name=[]\n",
    "smartphone_name=[]\n",
    "color=[]\n",
    "RAM=[] \n",
    "ROM=[]\n",
    "primary_camera=[]\n",
    "secondary_camera=[]\n",
    "display_size=[]\n",
    "battery_capacity=[]\n",
    "price=[]"
   ]
  },
  {
   "cell_type": "code",
   "execution_count": 134,
   "metadata": {},
   "outputs": [],
   "source": [
    "for i in urls:\n",
    "    driver.get(i)\n",
    "    time.sleep(4)\n",
    "    \n",
    "    try:\n",
    "        driver.find_element_by_xpath(\"//button[@class ='_2KpZ6l _1FH0tX']\").click()\n",
    "    except NoSuchElementException:\n",
    "        print(\"exception occured.Move to next page\")\n",
    "        \n",
    "    try:\n",
    "        b = driver.find_element_by_xpath(\"//span[@class='B_NuCI']\")\n",
    "        brand_name.append(\" \".join(b.text.split()[0:2]))\n",
    "    except NoSuchElementException:\n",
    "        brand_name.append(\"--\")\n",
    "        \n",
    "    \n",
    "    try:\n",
    "        b = driver.find_element_by_xpath(\"//div[@class='_1UhVsV']//div[1]/table/tbody/tr[3]/td[2]/ul/li\")\n",
    "        smartphone_name.append(b.text)\n",
    "    except NoSuchElementException:\n",
    "        smartphone_name.append(\"--\")\n",
    "  \n",
    "    \n",
    "    try:\n",
    "        b = driver.find_element_by_xpath(\"//div[@class='_1UhVsV']//div[1]/table/tbody/tr[4]/td[2]/ul/li\")\n",
    "        color.append(b.text)\n",
    "    except NoSuchElementException:\n",
    "        color.append(\"--\")\n",
    "    \n",
    "   \n",
    "    try:\n",
    "        b = driver.find_element_by_xpath(\"//li[@class='_21Ahn-']\")\n",
    "        RAM.append(b.text)\n",
    "    except NoSuchElementException:\n",
    "        RAM.append(\"--\")\n",
    "   \n",
    "    try:\n",
    "        b = driver.find_element_by_xpath('//div[@class=\"_1UhVsV\"]//div[5]/table/tbody/tr/td[2]/ul/li')\n",
    "        primary_camera.append(b.text)\n",
    "    except NoSuchElementException:\n",
    "        primary_camera.append(\"--\")\n",
    "        \n",
    "        \n",
    "    try:\n",
    "        b = driver.find_element_by_xpath('//div[@class=\"_1UhVsV\"]//div[2]/table/tbody/tr[1]/td[2]/ul/li')\n",
    "        display_size.append(b.text)\n",
    "    except NoSuchElementException:\n",
    "        display_size.append(\"--\")\n",
    "        \n",
    "    try:\n",
    "        b = driver.find_element_by_xpath('//div[@class=\"_1UhVsV\"]//div[7]/table/tbody/tr/td[2]/ul/li')\n",
    "        battery_capacity.append(b.text)\n",
    "    except NoSuchElementException:\n",
    "        battery_capacity.append(\"--\")\n",
    "            \n",
    "       \n",
    "    try:\n",
    "        b = driver.find_element_by_xpath(\"//div[@class='_30jeq3 _16Jk6d']\")\n",
    "        price.append(b.text)\n",
    "    except NoSuchElementException:\n",
    "        price.append(\"--\")    "
   ]
  },
  {
   "cell_type": "code",
   "execution_count": 135,
   "metadata": {},
   "outputs": [
    {
     "data": {
      "text/html": [
       "<div>\n",
       "<style scoped>\n",
       "    .dataframe tbody tr th:only-of-type {\n",
       "        vertical-align: middle;\n",
       "    }\n",
       "\n",
       "    .dataframe tbody tr th {\n",
       "        vertical-align: top;\n",
       "    }\n",
       "\n",
       "    .dataframe thead th {\n",
       "        text-align: right;\n",
       "    }\n",
       "</style>\n",
       "<table border=\"1\" class=\"dataframe\">\n",
       "  <thead>\n",
       "    <tr style=\"text-align: right;\">\n",
       "      <th></th>\n",
       "      <th>Brand_name</th>\n",
       "      <th>Product_Name</th>\n",
       "      <th>color</th>\n",
       "      <th>RAM</th>\n",
       "      <th>Price</th>\n",
       "      <th>Primary camera</th>\n",
       "      <th>Display_size</th>\n",
       "      <th>Battery_Capacity</th>\n",
       "      <th>URL</th>\n",
       "    </tr>\n",
       "  </thead>\n",
       "  <tbody>\n",
       "    <tr>\n",
       "      <th>0</th>\n",
       "      <td>OnePlus Nord</td>\n",
       "      <td>Nord CE 2 Lite 5G</td>\n",
       "      <td>Black Dusk</td>\n",
       "      <td>6 GB RAM | 128 GB ROM</td>\n",
       "      <td>₹19,062</td>\n",
       "      <td>64MP Rear Camera</td>\n",
       "      <td>16.74 cm (6.59 inch)</td>\n",
       "      <td>5000 mAh</td>\n",
       "      <td>https://www.flipkart.com/oneplus-nord-ce-2-lit...</td>\n",
       "    </tr>\n",
       "    <tr>\n",
       "      <th>1</th>\n",
       "      <td>OnePlus Nord</td>\n",
       "      <td>Nord CE 2 Lite 5G</td>\n",
       "      <td>Blue Tide</td>\n",
       "      <td>8 GB RAM | 128 GB ROM</td>\n",
       "      <td>₹21,998</td>\n",
       "      <td>64MP Rear Camera</td>\n",
       "      <td>16.74 cm (6.59 inch)</td>\n",
       "      <td>5000 mAh</td>\n",
       "      <td>https://www.flipkart.com/oneplus-nord-ce-2-lit...</td>\n",
       "    </tr>\n",
       "    <tr>\n",
       "      <th>2</th>\n",
       "      <td>OnePlus Nord</td>\n",
       "      <td>Nord CE 2 Lite 5G</td>\n",
       "      <td>Blue Tide</td>\n",
       "      <td>6 GB RAM | 128 GB ROM</td>\n",
       "      <td>₹19,488</td>\n",
       "      <td>64MP Rear Camera</td>\n",
       "      <td>16.74 cm (6.59 inch)</td>\n",
       "      <td>5000 mAh</td>\n",
       "      <td>https://www.flipkart.com/oneplus-nord-ce-2-lit...</td>\n",
       "    </tr>\n",
       "    <tr>\n",
       "      <th>3</th>\n",
       "      <td>OnePlus Nord</td>\n",
       "      <td>Nord CE 2 Lite 5G</td>\n",
       "      <td>Black Dusk</td>\n",
       "      <td>8 GB RAM | 128 GB ROM</td>\n",
       "      <td>₹21,928</td>\n",
       "      <td>64MP Rear Camera</td>\n",
       "      <td>16.74 cm (6.59 inch)</td>\n",
       "      <td>5000 mAh</td>\n",
       "      <td>https://www.flipkart.com/oneplus-nord-ce-2-lit...</td>\n",
       "    </tr>\n",
       "    <tr>\n",
       "      <th>4</th>\n",
       "      <td>OnePlus Nord</td>\n",
       "      <td>Nord 2T 5G</td>\n",
       "      <td>Gray Shadow</td>\n",
       "      <td>8 GB RAM | 128 GB ROM</td>\n",
       "      <td>₹28,995</td>\n",
       "      <td>50MP Rear Camera</td>\n",
       "      <td>17.02 cm (6.7 inch)</td>\n",
       "      <td>4500 mAh</td>\n",
       "      <td>https://www.flipkart.com/oneplus-nord-2t-5g-gr...</td>\n",
       "    </tr>\n",
       "  </tbody>\n",
       "</table>\n",
       "</div>"
      ],
      "text/plain": [
       "     Brand_name       Product_Name        color                    RAM  \\\n",
       "0  OnePlus Nord  Nord CE 2 Lite 5G   Black Dusk  6 GB RAM | 128 GB ROM   \n",
       "1  OnePlus Nord  Nord CE 2 Lite 5G    Blue Tide  8 GB RAM | 128 GB ROM   \n",
       "2  OnePlus Nord  Nord CE 2 Lite 5G    Blue Tide  6 GB RAM | 128 GB ROM   \n",
       "3  OnePlus Nord  Nord CE 2 Lite 5G   Black Dusk  8 GB RAM | 128 GB ROM   \n",
       "4  OnePlus Nord         Nord 2T 5G  Gray Shadow  8 GB RAM | 128 GB ROM   \n",
       "\n",
       "     Price    Primary camera          Display_size Battery_Capacity  \\\n",
       "0  ₹19,062  64MP Rear Camera  16.74 cm (6.59 inch)         5000 mAh   \n",
       "1  ₹21,998  64MP Rear Camera  16.74 cm (6.59 inch)         5000 mAh   \n",
       "2  ₹19,488  64MP Rear Camera  16.74 cm (6.59 inch)         5000 mAh   \n",
       "3  ₹21,928  64MP Rear Camera  16.74 cm (6.59 inch)         5000 mAh   \n",
       "4  ₹28,995  50MP Rear Camera   17.02 cm (6.7 inch)         4500 mAh   \n",
       "\n",
       "                                                 URL  \n",
       "0  https://www.flipkart.com/oneplus-nord-ce-2-lit...  \n",
       "1  https://www.flipkart.com/oneplus-nord-ce-2-lit...  \n",
       "2  https://www.flipkart.com/oneplus-nord-ce-2-lit...  \n",
       "3  https://www.flipkart.com/oneplus-nord-ce-2-lit...  \n",
       "4  https://www.flipkart.com/oneplus-nord-2t-5g-gr...  "
      ]
     },
     "execution_count": 135,
     "metadata": {},
     "output_type": "execute_result"
    }
   ],
   "source": [
    "df =pd. DataFrame({})\n",
    "df[\"Brand_name\"] = brand_name\n",
    "df[\"Product_Name\"] = smartphone_name\n",
    "df[\"color\"] = color\n",
    "df[\"RAM\"] = RAM\n",
    "df[\"Price\"] = price\n",
    "#df[\"ROM\"] = ROM\n",
    "df[\"Primary camera\"] = primary_camera\n",
    "#df[\"Secondary camera\"] = secondary_camera\n",
    "df[\"Display_size\"] = display_size\n",
    "df[\"Battery_Capacity\"] = battery_capacity\n",
    "df[\"URL\"] = urls\n",
    "df.head()"
   ]
  },
  {
   "cell_type": "code",
   "execution_count": 136,
   "metadata": {},
   "outputs": [],
   "source": [
    "df.to_csv(\"smartphone_details.csv\", index=False)"
   ]
  },
  {
   "cell_type": "code",
   "execution_count": 137,
   "metadata": {},
   "outputs": [
    {
     "data": {
      "text/html": [
       "<div>\n",
       "<style scoped>\n",
       "    .dataframe tbody tr th:only-of-type {\n",
       "        vertical-align: middle;\n",
       "    }\n",
       "\n",
       "    .dataframe tbody tr th {\n",
       "        vertical-align: top;\n",
       "    }\n",
       "\n",
       "    .dataframe thead th {\n",
       "        text-align: right;\n",
       "    }\n",
       "</style>\n",
       "<table border=\"1\" class=\"dataframe\">\n",
       "  <thead>\n",
       "    <tr style=\"text-align: right;\">\n",
       "      <th></th>\n",
       "      <th>Brand_name</th>\n",
       "      <th>Product_Name</th>\n",
       "      <th>color</th>\n",
       "      <th>RAM</th>\n",
       "      <th>Price</th>\n",
       "      <th>Primary camera</th>\n",
       "      <th>Display_size</th>\n",
       "      <th>Battery_Capacity</th>\n",
       "      <th>URL</th>\n",
       "    </tr>\n",
       "  </thead>\n",
       "  <tbody>\n",
       "    <tr>\n",
       "      <th>0</th>\n",
       "      <td>OnePlus Nord</td>\n",
       "      <td>Nord CE 2 Lite 5G</td>\n",
       "      <td>Black Dusk</td>\n",
       "      <td>6 GB RAM | 128 GB ROM</td>\n",
       "      <td>₹19,062</td>\n",
       "      <td>64MP Rear Camera</td>\n",
       "      <td>16.74 cm (6.59 inch)</td>\n",
       "      <td>5000 mAh</td>\n",
       "      <td>https://www.flipkart.com/oneplus-nord-ce-2-lit...</td>\n",
       "    </tr>\n",
       "    <tr>\n",
       "      <th>1</th>\n",
       "      <td>OnePlus Nord</td>\n",
       "      <td>Nord CE 2 Lite 5G</td>\n",
       "      <td>Blue Tide</td>\n",
       "      <td>8 GB RAM | 128 GB ROM</td>\n",
       "      <td>₹21,998</td>\n",
       "      <td>64MP Rear Camera</td>\n",
       "      <td>16.74 cm (6.59 inch)</td>\n",
       "      <td>5000 mAh</td>\n",
       "      <td>https://www.flipkart.com/oneplus-nord-ce-2-lit...</td>\n",
       "    </tr>\n",
       "    <tr>\n",
       "      <th>2</th>\n",
       "      <td>OnePlus Nord</td>\n",
       "      <td>Nord CE 2 Lite 5G</td>\n",
       "      <td>Blue Tide</td>\n",
       "      <td>6 GB RAM | 128 GB ROM</td>\n",
       "      <td>₹19,488</td>\n",
       "      <td>64MP Rear Camera</td>\n",
       "      <td>16.74 cm (6.59 inch)</td>\n",
       "      <td>5000 mAh</td>\n",
       "      <td>https://www.flipkart.com/oneplus-nord-ce-2-lit...</td>\n",
       "    </tr>\n",
       "    <tr>\n",
       "      <th>3</th>\n",
       "      <td>OnePlus Nord</td>\n",
       "      <td>Nord CE 2 Lite 5G</td>\n",
       "      <td>Black Dusk</td>\n",
       "      <td>8 GB RAM | 128 GB ROM</td>\n",
       "      <td>₹21,928</td>\n",
       "      <td>64MP Rear Camera</td>\n",
       "      <td>16.74 cm (6.59 inch)</td>\n",
       "      <td>5000 mAh</td>\n",
       "      <td>https://www.flipkart.com/oneplus-nord-ce-2-lit...</td>\n",
       "    </tr>\n",
       "    <tr>\n",
       "      <th>4</th>\n",
       "      <td>OnePlus Nord</td>\n",
       "      <td>Nord 2T 5G</td>\n",
       "      <td>Gray Shadow</td>\n",
       "      <td>8 GB RAM | 128 GB ROM</td>\n",
       "      <td>₹28,995</td>\n",
       "      <td>50MP Rear Camera</td>\n",
       "      <td>17.02 cm (6.7 inch)</td>\n",
       "      <td>4500 mAh</td>\n",
       "      <td>https://www.flipkart.com/oneplus-nord-2t-5g-gr...</td>\n",
       "    </tr>\n",
       "  </tbody>\n",
       "</table>\n",
       "</div>"
      ],
      "text/plain": [
       "     Brand_name       Product_Name        color                    RAM  \\\n",
       "0  OnePlus Nord  Nord CE 2 Lite 5G   Black Dusk  6 GB RAM | 128 GB ROM   \n",
       "1  OnePlus Nord  Nord CE 2 Lite 5G    Blue Tide  8 GB RAM | 128 GB ROM   \n",
       "2  OnePlus Nord  Nord CE 2 Lite 5G    Blue Tide  6 GB RAM | 128 GB ROM   \n",
       "3  OnePlus Nord  Nord CE 2 Lite 5G   Black Dusk  8 GB RAM | 128 GB ROM   \n",
       "4  OnePlus Nord         Nord 2T 5G  Gray Shadow  8 GB RAM | 128 GB ROM   \n",
       "\n",
       "     Price    Primary camera          Display_size Battery_Capacity  \\\n",
       "0  ₹19,062  64MP Rear Camera  16.74 cm (6.59 inch)         5000 mAh   \n",
       "1  ₹21,998  64MP Rear Camera  16.74 cm (6.59 inch)         5000 mAh   \n",
       "2  ₹19,488  64MP Rear Camera  16.74 cm (6.59 inch)         5000 mAh   \n",
       "3  ₹21,928  64MP Rear Camera  16.74 cm (6.59 inch)         5000 mAh   \n",
       "4  ₹28,995  50MP Rear Camera   17.02 cm (6.7 inch)         4500 mAh   \n",
       "\n",
       "                                                 URL  \n",
       "0  https://www.flipkart.com/oneplus-nord-ce-2-lit...  \n",
       "1  https://www.flipkart.com/oneplus-nord-ce-2-lit...  \n",
       "2  https://www.flipkart.com/oneplus-nord-ce-2-lit...  \n",
       "3  https://www.flipkart.com/oneplus-nord-ce-2-lit...  \n",
       "4  https://www.flipkart.com/oneplus-nord-2t-5g-gr...  "
      ]
     },
     "execution_count": 137,
     "metadata": {},
     "output_type": "execute_result"
    }
   ],
   "source": [
    "df = pd.read_csv(\"smartphone_details.csv\")\n",
    "df.head()"
   ]
  },
  {
   "cell_type": "code",
   "execution_count": 138,
   "metadata": {},
   "outputs": [],
   "source": [
    "df[[\"RAM\",\"ROM\"]] = df[\"RAM\"].str.split('|',expand = True)"
   ]
  },
  {
   "cell_type": "code",
   "execution_count": 139,
   "metadata": {},
   "outputs": [
    {
     "data": {
      "text/html": [
       "<div>\n",
       "<style scoped>\n",
       "    .dataframe tbody tr th:only-of-type {\n",
       "        vertical-align: middle;\n",
       "    }\n",
       "\n",
       "    .dataframe tbody tr th {\n",
       "        vertical-align: top;\n",
       "    }\n",
       "\n",
       "    .dataframe thead th {\n",
       "        text-align: right;\n",
       "    }\n",
       "</style>\n",
       "<table border=\"1\" class=\"dataframe\">\n",
       "  <thead>\n",
       "    <tr style=\"text-align: right;\">\n",
       "      <th></th>\n",
       "      <th>Brand_name</th>\n",
       "      <th>Product_Name</th>\n",
       "      <th>color</th>\n",
       "      <th>RAM</th>\n",
       "      <th>Price</th>\n",
       "      <th>Primary camera</th>\n",
       "      <th>Display_size</th>\n",
       "      <th>Battery_Capacity</th>\n",
       "      <th>URL</th>\n",
       "      <th>ROM</th>\n",
       "    </tr>\n",
       "  </thead>\n",
       "  <tbody>\n",
       "    <tr>\n",
       "      <th>0</th>\n",
       "      <td>OnePlus Nord</td>\n",
       "      <td>Nord CE 2 Lite 5G</td>\n",
       "      <td>Black Dusk</td>\n",
       "      <td>6 GB RAM</td>\n",
       "      <td>₹19,062</td>\n",
       "      <td>64MP Rear Camera</td>\n",
       "      <td>16.74 cm (6.59 inch)</td>\n",
       "      <td>5000 mAh</td>\n",
       "      <td>https://www.flipkart.com/oneplus-nord-ce-2-lit...</td>\n",
       "      <td>128 GB ROM</td>\n",
       "    </tr>\n",
       "    <tr>\n",
       "      <th>1</th>\n",
       "      <td>OnePlus Nord</td>\n",
       "      <td>Nord CE 2 Lite 5G</td>\n",
       "      <td>Blue Tide</td>\n",
       "      <td>8 GB RAM</td>\n",
       "      <td>₹21,998</td>\n",
       "      <td>64MP Rear Camera</td>\n",
       "      <td>16.74 cm (6.59 inch)</td>\n",
       "      <td>5000 mAh</td>\n",
       "      <td>https://www.flipkart.com/oneplus-nord-ce-2-lit...</td>\n",
       "      <td>128 GB ROM</td>\n",
       "    </tr>\n",
       "    <tr>\n",
       "      <th>2</th>\n",
       "      <td>OnePlus Nord</td>\n",
       "      <td>Nord CE 2 Lite 5G</td>\n",
       "      <td>Blue Tide</td>\n",
       "      <td>6 GB RAM</td>\n",
       "      <td>₹19,488</td>\n",
       "      <td>64MP Rear Camera</td>\n",
       "      <td>16.74 cm (6.59 inch)</td>\n",
       "      <td>5000 mAh</td>\n",
       "      <td>https://www.flipkart.com/oneplus-nord-ce-2-lit...</td>\n",
       "      <td>128 GB ROM</td>\n",
       "    </tr>\n",
       "    <tr>\n",
       "      <th>3</th>\n",
       "      <td>OnePlus Nord</td>\n",
       "      <td>Nord CE 2 Lite 5G</td>\n",
       "      <td>Black Dusk</td>\n",
       "      <td>8 GB RAM</td>\n",
       "      <td>₹21,928</td>\n",
       "      <td>64MP Rear Camera</td>\n",
       "      <td>16.74 cm (6.59 inch)</td>\n",
       "      <td>5000 mAh</td>\n",
       "      <td>https://www.flipkart.com/oneplus-nord-ce-2-lit...</td>\n",
       "      <td>128 GB ROM</td>\n",
       "    </tr>\n",
       "    <tr>\n",
       "      <th>4</th>\n",
       "      <td>OnePlus Nord</td>\n",
       "      <td>Nord 2T 5G</td>\n",
       "      <td>Gray Shadow</td>\n",
       "      <td>8 GB RAM</td>\n",
       "      <td>₹28,995</td>\n",
       "      <td>50MP Rear Camera</td>\n",
       "      <td>17.02 cm (6.7 inch)</td>\n",
       "      <td>4500 mAh</td>\n",
       "      <td>https://www.flipkart.com/oneplus-nord-2t-5g-gr...</td>\n",
       "      <td>128 GB ROM</td>\n",
       "    </tr>\n",
       "  </tbody>\n",
       "</table>\n",
       "</div>"
      ],
      "text/plain": [
       "     Brand_name       Product_Name        color        RAM    Price  \\\n",
       "0  OnePlus Nord  Nord CE 2 Lite 5G   Black Dusk  6 GB RAM   ₹19,062   \n",
       "1  OnePlus Nord  Nord CE 2 Lite 5G    Blue Tide  8 GB RAM   ₹21,998   \n",
       "2  OnePlus Nord  Nord CE 2 Lite 5G    Blue Tide  6 GB RAM   ₹19,488   \n",
       "3  OnePlus Nord  Nord CE 2 Lite 5G   Black Dusk  8 GB RAM   ₹21,928   \n",
       "4  OnePlus Nord         Nord 2T 5G  Gray Shadow  8 GB RAM   ₹28,995   \n",
       "\n",
       "     Primary camera          Display_size Battery_Capacity  \\\n",
       "0  64MP Rear Camera  16.74 cm (6.59 inch)         5000 mAh   \n",
       "1  64MP Rear Camera  16.74 cm (6.59 inch)         5000 mAh   \n",
       "2  64MP Rear Camera  16.74 cm (6.59 inch)         5000 mAh   \n",
       "3  64MP Rear Camera  16.74 cm (6.59 inch)         5000 mAh   \n",
       "4  50MP Rear Camera   17.02 cm (6.7 inch)         4500 mAh   \n",
       "\n",
       "                                                 URL          ROM  \n",
       "0  https://www.flipkart.com/oneplus-nord-ce-2-lit...   128 GB ROM  \n",
       "1  https://www.flipkart.com/oneplus-nord-ce-2-lit...   128 GB ROM  \n",
       "2  https://www.flipkart.com/oneplus-nord-ce-2-lit...   128 GB ROM  \n",
       "3  https://www.flipkart.com/oneplus-nord-ce-2-lit...   128 GB ROM  \n",
       "4  https://www.flipkart.com/oneplus-nord-2t-5g-gr...   128 GB ROM  "
      ]
     },
     "execution_count": 139,
     "metadata": {},
     "output_type": "execute_result"
    }
   ],
   "source": [
    "df.head()"
   ]
  },
  {
   "cell_type": "code",
   "execution_count": 140,
   "metadata": {},
   "outputs": [],
   "source": [
    "driver.close()"
   ]
  },
  {
   "cell_type": "markdown",
   "metadata": {},
   "source": [
    "# 5"
   ]
  },
  {
   "cell_type": "raw",
   "metadata": {},
   "source": [
    " Write a program to scrap geospatial coordinates (latitude, longitude) of a city searched on google maps"
   ]
  },
  {
   "cell_type": "code",
   "execution_count": 141,
   "metadata": {},
   "outputs": [],
   "source": [
    "driver = webdriver.Chrome(r\"C:\\Users\\USER\\Downloads\\chromedriver_win32 (3)\\chromedriver.exe\")\n",
    "url = 'https://www.google.com/maps'\n",
    "driver.get(url)"
   ]
  },
  {
   "cell_type": "code",
   "execution_count": 143,
   "metadata": {},
   "outputs": [
    {
     "name": "stdout",
     "output_type": "stream",
     "text": [
      "name of place:Bangalore\n"
     ]
    }
   ],
   "source": [
    "input_city = input(\"name of place:\")"
   ]
  },
  {
   "cell_type": "code",
   "execution_count": 144,
   "metadata": {},
   "outputs": [],
   "source": [
    "search_bar = driver.find_element_by_id(\"searchboxinput\").send_keys(input_city)\n",
    "driver.find_element_by_id(\"searchbox-searchbutton\").click()"
   ]
  },
  {
   "cell_type": "code",
   "execution_count": 145,
   "metadata": {},
   "outputs": [
    {
     "name": "stdout",
     "output_type": "stream",
     "text": [
      "https://www.google.com/maps/place/Bengaluru,+Karnataka/@12.9537902,77.3012667,10z/data=!3m1!4b1!4m6!3m5!1s0x3bae1670c9b44e6d:0xf8dfc3e8517e4fe0!8m2!3d12.9715987!4d77.5945627!16zL20vMDljMTc\n"
     ]
    }
   ],
   "source": [
    "# getting the current url\n",
    "url = driver.current_url\n",
    "print(url)"
   ]
  },
  {
   "cell_type": "code",
   "execution_count": 146,
   "metadata": {},
   "outputs": [
    {
     "name": "stdout",
     "output_type": "stream",
     "text": [
      "latitude: 12.9537902\n",
      "longitude 77.3012667\n"
     ]
    }
   ],
   "source": [
    "# finding the latitude and longitude in the url\n",
    "\n",
    "start = url.find(\"@\") + len(\"@\")\n",
    "end = url.find(\"z\")\n",
    "substring = url[start:end]\n",
    "latitude = substring.split(\",\")[0]\n",
    "longitude = substring.split(\",\")[1]\n",
    "# printing latitude and longitude\n",
    "print(\"latitude:\",latitude)\n",
    "print(\"longitude\",longitude)"
   ]
  },
  {
   "cell_type": "code",
   "execution_count": 147,
   "metadata": {},
   "outputs": [],
   "source": [
    "driver.close()"
   ]
  },
  {
   "cell_type": "markdown",
   "metadata": {},
   "source": [
    "# 6"
   ]
  },
  {
   "cell_type": "raw",
   "metadata": {},
   "source": [
    "Write a program to scrap all the available details of best gaming laptops from digit.in. "
   ]
  },
  {
   "cell_type": "code",
   "execution_count": 63,
   "metadata": {},
   "outputs": [],
   "source": [
    "driver = webdriver.Chrome(r\"C:\\Users\\USER\\Downloads\\chromedriver_win32 (3)\\chromedriver.exe\")\n",
    "url = 'https://www.digit.in/top-products/best-gaming-laptops-40.html'\n",
    "driver.get(url)"
   ]
  },
  {
   "cell_type": "code",
   "execution_count": 64,
   "metadata": {},
   "outputs": [],
   "source": [
    "title = driver.find_elements_by_xpath(\"//div[@class='TopNumbeHeading' or @class='TopNumbeHeading active']\")"
   ]
  },
  {
   "cell_type": "code",
   "execution_count": 65,
   "metadata": {},
   "outputs": [
    {
     "data": {
      "text/plain": [
       "10"
      ]
     },
     "execution_count": 65,
     "metadata": {},
     "output_type": "execute_result"
    }
   ],
   "source": [
    "titles =[]\n",
    "for i in title:\n",
    "    titles.append(i.text.replace('\\n',''))\n",
    "len(title)"
   ]
  },
  {
   "cell_type": "code",
   "execution_count": 66,
   "metadata": {},
   "outputs": [],
   "source": [
    "ps = driver.find_elements_by_xpath(\"//div[@class='Spcs-details']//table/tbody/tr[2]/td[3]\")"
   ]
  },
  {
   "cell_type": "code",
   "execution_count": 67,
   "metadata": {},
   "outputs": [
    {
     "data": {
      "text/plain": [
       "10"
      ]
     },
     "execution_count": 67,
     "metadata": {},
     "output_type": "execute_result"
    }
   ],
   "source": [
    "processor = []\n",
    "for i in ps:\n",
    "    processor.append(i.text.replace('\\n',''))\n",
    "len(processor)"
   ]
  },
  {
   "cell_type": "code",
   "execution_count": 68,
   "metadata": {},
   "outputs": [],
   "source": [
    "dis= driver.find_elements_by_xpath(\"//div[@class='Spcs-details']//table/tbody/tr[3]/td[3]\")\n"
   ]
  },
  {
   "cell_type": "code",
   "execution_count": 69,
   "metadata": {},
   "outputs": [
    {
     "data": {
      "text/plain": [
       "10"
      ]
     },
     "execution_count": 69,
     "metadata": {},
     "output_type": "execute_result"
    }
   ],
   "source": [
    "display = []\n",
    "for i in dis:\n",
    "    display.append(i.text.replace('\\n',''))\n",
    "len(display)    \n"
   ]
  },
  {
   "cell_type": "code",
   "execution_count": 70,
   "metadata": {},
   "outputs": [],
   "source": [
    "os= driver.find_elements_by_xpath(\"//div[@class='Spcs-details']//table/tbody/tr[4]/td[3]\")"
   ]
  },
  {
   "cell_type": "code",
   "execution_count": 71,
   "metadata": {},
   "outputs": [
    {
     "data": {
      "text/plain": [
       "10"
      ]
     },
     "execution_count": 71,
     "metadata": {},
     "output_type": "execute_result"
    }
   ],
   "source": [
    "OS= []\n",
    "for i in os:\n",
    "    OS.append(i.text.replace('\\n',''))\n",
    "len(OS)"
   ]
  },
  {
   "cell_type": "code",
   "execution_count": 72,
   "metadata": {},
   "outputs": [
    {
     "data": {
      "text/plain": [
       "10"
      ]
     },
     "execution_count": 72,
     "metadata": {},
     "output_type": "execute_result"
    }
   ],
   "source": [
    "memo= driver.find_elements_by_xpath(\"//div[@class='Spcs-details']//table/tbody/tr[5]/td[3]\")\n",
    "memory = []\n",
    "for i in memo:\n",
    "    memory.append(i.text.replace('\\n',''))\n",
    "len(memory)\n",
    "    "
   ]
  },
  {
   "cell_type": "code",
   "execution_count": 73,
   "metadata": {},
   "outputs": [
    {
     "data": {
      "text/plain": [
       "10"
      ]
     },
     "execution_count": 73,
     "metadata": {},
     "output_type": "execute_result"
    }
   ],
   "source": [
    "gra= driver.find_elements_by_xpath(\"//div[@class='Spcs-details']//table/tbody/tr[6]/td[3]\")\n",
    "graphic = []\n",
    "for i in gra:\n",
    "    graphic.append(i.text.replace('\\n',''))\n",
    "len(graphic)   "
   ]
  },
  {
   "cell_type": "code",
   "execution_count": 74,
   "metadata": {},
   "outputs": [
    {
     "data": {
      "text/plain": [
       "10"
      ]
     },
     "execution_count": 74,
     "metadata": {},
     "output_type": "execute_result"
    }
   ],
   "source": [
    "bo= driver.find_elements_by_xpath(\"//div[@class='Spcs-details']//table/tbody/tr[7]/td[3]\")\n",
    "body = []\n",
    "for i in bo:\n",
    "    body.append(i.text.replace('\\n',''))\n",
    "len(body)"
   ]
  },
  {
   "cell_type": "code",
   "execution_count": 75,
   "metadata": {},
   "outputs": [
    {
     "data": {
      "text/plain": [
       "9"
      ]
     },
     "execution_count": 75,
     "metadata": {},
     "output_type": "execute_result"
    }
   ],
   "source": [
    "price = []\n",
    "try:\n",
    "    pr = driver.find_elements_by_xpath(\"//div[@class='Spcs-details']//table/tbody/tr[8]/td[3]\")\n",
    "    for p in pr:\n",
    "        price.append(p.text)\n",
    "except NoSuchElementException:\n",
    "    price.append(\"--\")\n",
    "\n",
    "len(price)  "
   ]
  },
  {
   "cell_type": "raw",
   "metadata": {},
   "source": [
    "skip firt laptop because the price of the product is not mentioned "
   ]
  },
  {
   "cell_type": "code",
   "execution_count": 79,
   "metadata": {},
   "outputs": [
    {
     "data": {
      "text/html": [
       "<div>\n",
       "<style scoped>\n",
       "    .dataframe tbody tr th:only-of-type {\n",
       "        vertical-align: middle;\n",
       "    }\n",
       "\n",
       "    .dataframe tbody tr th {\n",
       "        vertical-align: top;\n",
       "    }\n",
       "\n",
       "    .dataframe thead th {\n",
       "        text-align: right;\n",
       "    }\n",
       "</style>\n",
       "<table border=\"1\" class=\"dataframe\">\n",
       "  <thead>\n",
       "    <tr style=\"text-align: right;\">\n",
       "      <th></th>\n",
       "      <th>Title</th>\n",
       "      <th>Processor</th>\n",
       "      <th>OS</th>\n",
       "      <th>Display</th>\n",
       "      <th>Graphics Processor</th>\n",
       "      <th>Memory</th>\n",
       "      <th>Body</th>\n",
       "      <th>Price</th>\n",
       "    </tr>\n",
       "  </thead>\n",
       "  <tbody>\n",
       "    <tr>\n",
       "      <th>0</th>\n",
       "      <td>2.Lenovo Legion 7</td>\n",
       "      <td>12th Gen Intel Core i9-12900HX 16 core process...</td>\n",
       "      <td>Windows 11 Home</td>\n",
       "      <td>16″ (2560 x 1600) screen, 165 Hz refresh rate</td>\n",
       "      <td>16 GB DDR6 NVIDIA GeForce RTX 3080 Ti Graphics...</td>\n",
       "      <td>32 GB DDR4GB RAM &amp; 1 TB SSD</td>\n",
       "      <td>358 x 264 x 19 mm dimension &amp; 2.53 kg weight</td>\n",
       "      <td>₹ 359,990</td>\n",
       "    </tr>\n",
       "    <tr>\n",
       "      <th>1</th>\n",
       "      <td>3.Alienware X17 R2</td>\n",
       "      <td>12th Gen Intel Core i9-12900H 14 core processo...</td>\n",
       "      <td>Windows 11 Home</td>\n",
       "      <td>17.3″ (1920 x 1080) screen, 360 Hz refresh rate</td>\n",
       "      <td>16 GB DDR6 NVIDIA GEFORCE RTX 3080 Ti Graphics...</td>\n",
       "      <td>32 GB DDR5GB RAM &amp; 1 TB SSD</td>\n",
       "      <td>299 x 359 x 21 mm dimension &amp; 2.96 kg weight</td>\n",
       "      <td>₹ 389,990</td>\n",
       "    </tr>\n",
       "    <tr>\n",
       "      <th>2</th>\n",
       "      <td>4.Acer Predator Triton 500 SE PT516-52s</td>\n",
       "      <td>12th Gen Intel Core i7-12700H 14 core processo...</td>\n",
       "      <td>Windows 11</td>\n",
       "      <td>16″ (2560 x 1600) screen</td>\n",
       "      <td>8 GB DDR6 NVIDIA GeForce RTX 3070 Ti Graphics ...</td>\n",
       "      <td>32 GB DDR5GB RAM &amp; 2 TB SSD</td>\n",
       "      <td>262 x 359 x 20 mm dimension &amp; 2.4 kg weight</td>\n",
       "      <td>₹ 229,990</td>\n",
       "    </tr>\n",
       "    <tr>\n",
       "      <th>3</th>\n",
       "      <td>5.Omen By HP (16-B1371TX)</td>\n",
       "      <td>12th Gen Intel Core i7-12700H 14 core processo...</td>\n",
       "      <td>Windows 11 Home</td>\n",
       "      <td>16.1″ (2560 x 1440) screen</td>\n",
       "      <td>8 GB GDDR6 NVIDIA GeForce RTX 3070 Graphics card</td>\n",
       "      <td>8 GB DDR5GB RAM &amp; 1 TB SSD</td>\n",
       "      <td>369 x 248 x 23 mm dimension &amp; 2.32 kg weight</td>\n",
       "      <td>₹ 177,590</td>\n",
       "    </tr>\n",
       "    <tr>\n",
       "      <th>4</th>\n",
       "      <td>6.Acer Predator Helios 300 AN515-45</td>\n",
       "      <td>AMD Ryzen 9-5900HX 8 core processor</td>\n",
       "      <td>Windows 11 Home</td>\n",
       "      <td>15.6″ (2560 x 1440) screen, 165 Hz refresh rate</td>\n",
       "      <td>8 GB DDR6 NVIDIA GeForce RTX 3070 Graphics card</td>\n",
       "      <td>16 GB DDR4GB RAM &amp; 512 GB SSD</td>\n",
       "      <td>363 x 255 x 23.9 mm dimension &amp; 2.4 kg weight</td>\n",
       "      <td>₹ 172,999</td>\n",
       "    </tr>\n",
       "    <tr>\n",
       "      <th>5</th>\n",
       "      <td>7.MSI Delta 15 (A5EFK-083IN)</td>\n",
       "      <td>AMD 5th Gen Ryzen 9-5900HX 8 core processor wi...</td>\n",
       "      <td>Windows 11 Home</td>\n",
       "      <td>15.6″ (1920 x 1080) screen, 240Hz refresh rate</td>\n",
       "      <td>10 GB DDR6 AMD Radeon RX 6700M Graphics card</td>\n",
       "      <td>16 GB DDR4GB RAM &amp; 1 TB SSD</td>\n",
       "      <td>357 x 247 x 19 mm dimension &amp; 1.9 kg weight</td>\n",
       "      <td>₹ 188,990</td>\n",
       "    </tr>\n",
       "    <tr>\n",
       "      <th>6</th>\n",
       "      <td>8.Omen By HP (16-C0141AX)</td>\n",
       "      <td>AMD Ryzen™ 9 5900HX 8 core processor with 3.3 ...</td>\n",
       "      <td>Windows 11 Home</td>\n",
       "      <td>16.1″ (2560 x 1440) screen</td>\n",
       "      <td>8 GB GDDR6 AMD Radeon™ RX 6600M Graphics card</td>\n",
       "      <td>16 GB DDR4GB RAM &amp; 1 TB NVMe</td>\n",
       "      <td>36.92 x 24.8 x 2.3 mm dimension &amp; 2.3 kg weight</td>\n",
       "      <td>₹ 124,990</td>\n",
       "    </tr>\n",
       "    <tr>\n",
       "      <th>7</th>\n",
       "      <td>9.Lenovo Legion 5i Pro (82RF00MGIN)</td>\n",
       "      <td>12th Gen Intel Core i7-12700H 14 core processo...</td>\n",
       "      <td>Windows 11 Home</td>\n",
       "      <td>16″ (2560 x 1600) screen, 165 Hz refresh rate</td>\n",
       "      <td>6 GB DDR6 NVIDIA GeForce RTX 3060 Graphics card</td>\n",
       "      <td>16 GB DDR5GB RAM &amp; 1 TB SSD</td>\n",
       "      <td>360 x 264 x 20 mm dimension &amp; 2.49 kg weight</td>\n",
       "      <td>₹ 164,990</td>\n",
       "    </tr>\n",
       "    <tr>\n",
       "      <th>8</th>\n",
       "      <td>10.Alienware M15 R5 Ryzen Edition Icc-C780001win</td>\n",
       "      <td>AMD Ryzen R7-5800H 8 core processor with 4.40 ...</td>\n",
       "      <td>Windows 11 Home</td>\n",
       "      <td>15.6″ (1920 x 1080) screen, 165Hz refresh rate</td>\n",
       "      <td>6 GB DDR6 NVIDIA GeForce RTX 3060 Graphics card</td>\n",
       "      <td>16 GB DDR4GB RAM &amp; 512 GB SSD</td>\n",
       "      <td>356.2 x 272.5 x 22.85 mm dimension &amp; 2.69 kg w...</td>\n",
       "      <td>₹ 174,000</td>\n",
       "    </tr>\n",
       "  </tbody>\n",
       "</table>\n",
       "</div>"
      ],
      "text/plain": [
       "                                              Title  \\\n",
       "0                                 2.Lenovo Legion 7   \n",
       "1                                3.Alienware X17 R2   \n",
       "2           4.Acer Predator Triton 500 SE PT516-52s   \n",
       "3                         5.Omen By HP (16-B1371TX)   \n",
       "4               6.Acer Predator Helios 300 AN515-45   \n",
       "5                      7.MSI Delta 15 (A5EFK-083IN)   \n",
       "6                         8.Omen By HP (16-C0141AX)   \n",
       "7               9.Lenovo Legion 5i Pro (82RF00MGIN)   \n",
       "8  10.Alienware M15 R5 Ryzen Edition Icc-C780001win   \n",
       "\n",
       "                                           Processor               OS  \\\n",
       "0  12th Gen Intel Core i9-12900HX 16 core process...  Windows 11 Home   \n",
       "1  12th Gen Intel Core i9-12900H 14 core processo...  Windows 11 Home   \n",
       "2  12th Gen Intel Core i7-12700H 14 core processo...       Windows 11   \n",
       "3  12th Gen Intel Core i7-12700H 14 core processo...  Windows 11 Home   \n",
       "4                AMD Ryzen 9-5900HX 8 core processor  Windows 11 Home   \n",
       "5  AMD 5th Gen Ryzen 9-5900HX 8 core processor wi...  Windows 11 Home   \n",
       "6  AMD Ryzen™ 9 5900HX 8 core processor with 3.3 ...  Windows 11 Home   \n",
       "7  12th Gen Intel Core i7-12700H 14 core processo...  Windows 11 Home   \n",
       "8  AMD Ryzen R7-5800H 8 core processor with 4.40 ...  Windows 11 Home   \n",
       "\n",
       "                                           Display  \\\n",
       "0    16″ (2560 x 1600) screen, 165 Hz refresh rate   \n",
       "1  17.3″ (1920 x 1080) screen, 360 Hz refresh rate   \n",
       "2                         16″ (2560 x 1600) screen   \n",
       "3                       16.1″ (2560 x 1440) screen   \n",
       "4  15.6″ (2560 x 1440) screen, 165 Hz refresh rate   \n",
       "5   15.6″ (1920 x 1080) screen, 240Hz refresh rate   \n",
       "6                       16.1″ (2560 x 1440) screen   \n",
       "7    16″ (2560 x 1600) screen, 165 Hz refresh rate   \n",
       "8   15.6″ (1920 x 1080) screen, 165Hz refresh rate   \n",
       "\n",
       "                                  Graphics Processor  \\\n",
       "0  16 GB DDR6 NVIDIA GeForce RTX 3080 Ti Graphics...   \n",
       "1  16 GB DDR6 NVIDIA GEFORCE RTX 3080 Ti Graphics...   \n",
       "2  8 GB DDR6 NVIDIA GeForce RTX 3070 Ti Graphics ...   \n",
       "3   8 GB GDDR6 NVIDIA GeForce RTX 3070 Graphics card   \n",
       "4    8 GB DDR6 NVIDIA GeForce RTX 3070 Graphics card   \n",
       "5       10 GB DDR6 AMD Radeon RX 6700M Graphics card   \n",
       "6      8 GB GDDR6 AMD Radeon™ RX 6600M Graphics card   \n",
       "7    6 GB DDR6 NVIDIA GeForce RTX 3060 Graphics card   \n",
       "8    6 GB DDR6 NVIDIA GeForce RTX 3060 Graphics card   \n",
       "\n",
       "                          Memory  \\\n",
       "0    32 GB DDR4GB RAM & 1 TB SSD   \n",
       "1    32 GB DDR5GB RAM & 1 TB SSD   \n",
       "2    32 GB DDR5GB RAM & 2 TB SSD   \n",
       "3     8 GB DDR5GB RAM & 1 TB SSD   \n",
       "4  16 GB DDR4GB RAM & 512 GB SSD   \n",
       "5    16 GB DDR4GB RAM & 1 TB SSD   \n",
       "6   16 GB DDR4GB RAM & 1 TB NVMe   \n",
       "7    16 GB DDR5GB RAM & 1 TB SSD   \n",
       "8  16 GB DDR4GB RAM & 512 GB SSD   \n",
       "\n",
       "                                                Body      Price  \n",
       "0       358 x 264 x 19 mm dimension & 2.53 kg weight  ₹ 359,990  \n",
       "1       299 x 359 x 21 mm dimension & 2.96 kg weight  ₹ 389,990  \n",
       "2        262 x 359 x 20 mm dimension & 2.4 kg weight  ₹ 229,990  \n",
       "3       369 x 248 x 23 mm dimension & 2.32 kg weight  ₹ 177,590  \n",
       "4      363 x 255 x 23.9 mm dimension & 2.4 kg weight  ₹ 172,999  \n",
       "5        357 x 247 x 19 mm dimension & 1.9 kg weight  ₹ 188,990  \n",
       "6    36.92 x 24.8 x 2.3 mm dimension & 2.3 kg weight  ₹ 124,990  \n",
       "7       360 x 264 x 20 mm dimension & 2.49 kg weight  ₹ 164,990  \n",
       "8  356.2 x 272.5 x 22.85 mm dimension & 2.69 kg w...  ₹ 174,000  "
      ]
     },
     "execution_count": 79,
     "metadata": {},
     "output_type": "execute_result"
    }
   ],
   "source": [
    "df = pd.DataFrame({})\n",
    "df[\"Title\"] = titles[1:]\n",
    "df[\"Processor\"] = processor[1:]\n",
    "df[\"OS\"] = OS[1:]\n",
    "df[\"Display\"] = display[1:]\n",
    "df[\"Graphics Processor\"] = graphic[1:]\n",
    "df[\"Memory\"] = memory[1:]\n",
    "df[\"Body\"] = body[1:]\n",
    "df[\"Price\"] = price\n",
    "df"
   ]
  },
  {
   "cell_type": "code",
   "execution_count": 80,
   "metadata": {},
   "outputs": [],
   "source": [
    "driver.close()"
   ]
  },
  {
   "cell_type": "markdown",
   "metadata": {},
   "source": [
    "# 7"
   ]
  },
  {
   "cell_type": "raw",
   "metadata": {},
   "source": [
    " Write a python program to scrape the details for all billionaires from www.forbes.com. Details to be scrapped: \n",
    "“Rank”, “Name”, “Net worth”, “Age”, “Citizenship”, “Source”, “Industry”"
   ]
  },
  {
   "cell_type": "code",
   "execution_count": 84,
   "metadata": {},
   "outputs": [],
   "source": [
    "driver = webdriver.Chrome(r\"C:\\Users\\USER\\Downloads\\chromedriver_win32 (3)\\chromedriver.exe\")\n",
    "url = 'https://www.forbes.com/billionaires/'\n",
    "driver.get(url)"
   ]
  },
  {
   "cell_type": "code",
   "execution_count": 91,
   "metadata": {},
   "outputs": [],
   "source": [
    "co = driver.find_elements_by_xpath(\"//div[@class='TableRow_cell__db-hv Table_cell__houv9']\")\n",
    "country = []\n",
    "for i in co:\n",
    "    country.append(i.text.replace('\\n',''))"
   ]
  },
  {
   "cell_type": "code",
   "execution_count": 95,
   "metadata": {},
   "outputs": [
    {
     "data": {
      "text/plain": [
       "1400"
      ]
     },
     "execution_count": 95,
     "metadata": {},
     "output_type": "execute_result"
    }
   ],
   "source": [
    "len(country)"
   ]
  },
  {
   "cell_type": "code",
   "execution_count": 96,
   "metadata": {},
   "outputs": [],
   "source": [
    "name = country [1::7]"
   ]
  },
  {
   "cell_type": "code",
   "execution_count": 98,
   "metadata": {},
   "outputs": [],
   "source": [
    "worth = country [2::7]"
   ]
  },
  {
   "cell_type": "code",
   "execution_count": 100,
   "metadata": {},
   "outputs": [],
   "source": [
    "age = country [3::7]"
   ]
  },
  {
   "cell_type": "code",
   "execution_count": 101,
   "metadata": {},
   "outputs": [],
   "source": [
    "count = country[4::7]"
   ]
  },
  {
   "cell_type": "code",
   "execution_count": 102,
   "metadata": {},
   "outputs": [],
   "source": [
    "source = country[5::7]"
   ]
  },
  {
   "cell_type": "code",
   "execution_count": 103,
   "metadata": {},
   "outputs": [],
   "source": [
    "industry = country [6::7]"
   ]
  },
  {
   "cell_type": "code",
   "execution_count": 104,
   "metadata": {},
   "outputs": [
    {
     "data": {
      "text/html": [
       "<div>\n",
       "<style scoped>\n",
       "    .dataframe tbody tr th:only-of-type {\n",
       "        vertical-align: middle;\n",
       "    }\n",
       "\n",
       "    .dataframe tbody tr th {\n",
       "        vertical-align: top;\n",
       "    }\n",
       "\n",
       "    .dataframe thead th {\n",
       "        text-align: right;\n",
       "    }\n",
       "</style>\n",
       "<table border=\"1\" class=\"dataframe\">\n",
       "  <thead>\n",
       "    <tr style=\"text-align: right;\">\n",
       "      <th></th>\n",
       "      <th>Name</th>\n",
       "      <th>Net_Worth</th>\n",
       "      <th>Age</th>\n",
       "      <th>Country</th>\n",
       "      <th>Source</th>\n",
       "      <th>Industry</th>\n",
       "    </tr>\n",
       "  </thead>\n",
       "  <tbody>\n",
       "    <tr>\n",
       "      <th>0</th>\n",
       "      <td>Bernard Arnault &amp; family</td>\n",
       "      <td>$211 B</td>\n",
       "      <td>74</td>\n",
       "      <td>France</td>\n",
       "      <td>LVMH</td>\n",
       "      <td>Fashion &amp; Retail</td>\n",
       "    </tr>\n",
       "    <tr>\n",
       "      <th>1</th>\n",
       "      <td>Elon Musk</td>\n",
       "      <td>$180 B</td>\n",
       "      <td>51</td>\n",
       "      <td>United States</td>\n",
       "      <td>Tesla, SpaceX</td>\n",
       "      <td>Automotive</td>\n",
       "    </tr>\n",
       "    <tr>\n",
       "      <th>2</th>\n",
       "      <td>Jeff Bezos</td>\n",
       "      <td>$114 B</td>\n",
       "      <td>59</td>\n",
       "      <td>United States</td>\n",
       "      <td>Amazon</td>\n",
       "      <td>Technology</td>\n",
       "    </tr>\n",
       "    <tr>\n",
       "      <th>3</th>\n",
       "      <td>Larry Ellison</td>\n",
       "      <td>$107 B</td>\n",
       "      <td>78</td>\n",
       "      <td>United States</td>\n",
       "      <td>Oracle</td>\n",
       "      <td>Technology</td>\n",
       "    </tr>\n",
       "    <tr>\n",
       "      <th>4</th>\n",
       "      <td>Warren Buffett</td>\n",
       "      <td>$106 B</td>\n",
       "      <td>92</td>\n",
       "      <td>United States</td>\n",
       "      <td>Berkshire Hathaway</td>\n",
       "      <td>Finance &amp; Investments</td>\n",
       "    </tr>\n",
       "    <tr>\n",
       "      <th>...</th>\n",
       "      <td>...</td>\n",
       "      <td>...</td>\n",
       "      <td>...</td>\n",
       "      <td>...</td>\n",
       "      <td>...</td>\n",
       "      <td>...</td>\n",
       "    </tr>\n",
       "    <tr>\n",
       "      <th>195</th>\n",
       "      <td>Jin Baofang</td>\n",
       "      <td>$9.6 B</td>\n",
       "      <td>70</td>\n",
       "      <td>China</td>\n",
       "      <td>Solar panels</td>\n",
       "      <td>Energy</td>\n",
       "    </tr>\n",
       "    <tr>\n",
       "      <th>196</th>\n",
       "      <td>Luo Liguo &amp; family</td>\n",
       "      <td>$9.6 B</td>\n",
       "      <td>67</td>\n",
       "      <td>China</td>\n",
       "      <td>Chemicals</td>\n",
       "      <td>Manufacturing</td>\n",
       "    </tr>\n",
       "    <tr>\n",
       "      <th>197</th>\n",
       "      <td>Marijke Mars</td>\n",
       "      <td>$9.6 B</td>\n",
       "      <td>58</td>\n",
       "      <td>United States</td>\n",
       "      <td>Candy, pet food</td>\n",
       "      <td>Food &amp; Beverage</td>\n",
       "    </tr>\n",
       "    <tr>\n",
       "      <th>198</th>\n",
       "      <td>Pamela Mars</td>\n",
       "      <td>$9.6 B</td>\n",
       "      <td>62</td>\n",
       "      <td>United States</td>\n",
       "      <td>Candy, pet food</td>\n",
       "      <td>Food &amp; Beverage</td>\n",
       "    </tr>\n",
       "    <tr>\n",
       "      <th>199</th>\n",
       "      <td>Valerie Mars</td>\n",
       "      <td>$9.6 B</td>\n",
       "      <td>64</td>\n",
       "      <td>United States</td>\n",
       "      <td>Candy, pet food</td>\n",
       "      <td>Food &amp; Beverage</td>\n",
       "    </tr>\n",
       "  </tbody>\n",
       "</table>\n",
       "<p>200 rows × 6 columns</p>\n",
       "</div>"
      ],
      "text/plain": [
       "                         Name Net_Worth Age        Country  \\\n",
       "0    Bernard Arnault & family    $211 B  74         France   \n",
       "1                   Elon Musk    $180 B  51  United States   \n",
       "2                  Jeff Bezos    $114 B  59  United States   \n",
       "3               Larry Ellison    $107 B  78  United States   \n",
       "4              Warren Buffett    $106 B  92  United States   \n",
       "..                        ...       ...  ..            ...   \n",
       "195               Jin Baofang    $9.6 B  70          China   \n",
       "196        Luo Liguo & family    $9.6 B  67          China   \n",
       "197              Marijke Mars    $9.6 B  58  United States   \n",
       "198               Pamela Mars    $9.6 B  62  United States   \n",
       "199              Valerie Mars    $9.6 B  64  United States   \n",
       "\n",
       "                 Source               Industry  \n",
       "0                  LVMH       Fashion & Retail  \n",
       "1         Tesla, SpaceX             Automotive  \n",
       "2                Amazon             Technology  \n",
       "3                Oracle             Technology  \n",
       "4    Berkshire Hathaway  Finance & Investments  \n",
       "..                  ...                    ...  \n",
       "195        Solar panels                 Energy  \n",
       "196           Chemicals          Manufacturing  \n",
       "197     Candy, pet food        Food & Beverage  \n",
       "198     Candy, pet food        Food & Beverage  \n",
       "199     Candy, pet food        Food & Beverage  \n",
       "\n",
       "[200 rows x 6 columns]"
      ]
     },
     "execution_count": 104,
     "metadata": {},
     "output_type": "execute_result"
    }
   ],
   "source": [
    "df = pd.DataFrame({})\n",
    "df[\"Name\"]=name\n",
    "df[\"Net_Worth\"] = worth\n",
    "df[\"Age\"] = age\n",
    "df[\"Country\"] = count\n",
    "df[\"Source\"] = source\n",
    "df[\"Industry\"] = industry\n",
    "df"
   ]
  },
  {
   "cell_type": "code",
   "execution_count": 106,
   "metadata": {},
   "outputs": [],
   "source": [
    "driver.close()"
   ]
  },
  {
   "cell_type": "markdown",
   "metadata": {},
   "source": [
    "# 8"
   ]
  },
  {
   "cell_type": "markdown",
   "metadata": {},
   "source": [
    "Write a program to extract at least 500 Comments, Comment upvote and time when comment was posted \n",
    "from any YouTube Video. "
   ]
  },
  {
   "cell_type": "code",
   "execution_count": 116,
   "metadata": {},
   "outputs": [],
   "source": [
    "driver = webdriver.Chrome(r\"C:\\Users\\USER\\Downloads\\chromedriver_win32 (3)\\chromedriver.exe\")\n",
    "url = 'https://www.youtube.com/watch?v=Q-vW3UKZpkQ'\n",
    "driver.get(url)"
   ]
  },
  {
   "cell_type": "code",
   "execution_count": 120,
   "metadata": {},
   "outputs": [],
   "source": [
    "for i in range(500):\n",
    "    driver.execute_script(\"window.scrollBy(0,10000)\")\n",
    "    "
   ]
  },
  {
   "cell_type": "code",
   "execution_count": 123,
   "metadata": {},
   "outputs": [
    {
     "data": {
      "text/plain": [
       "900"
      ]
     },
     "execution_count": 123,
     "metadata": {},
     "output_type": "execute_result"
    }
   ],
   "source": [
    "com = driver.find_elements_by_id(\"content-text\")\n",
    "comment = []\n",
    "for i in com:\n",
    "    comment.append(i.text.replace('\\n',''))\n",
    "len(comment)   "
   ]
  },
  {
   "cell_type": "code",
   "execution_count": 126,
   "metadata": {},
   "outputs": [
    {
     "data": {
      "text/plain": [
       "922"
      ]
     },
     "execution_count": 126,
     "metadata": {},
     "output_type": "execute_result"
    }
   ],
   "source": [
    "ti = driver.find_elements_by_xpath(\"//a[@class='yt-simple-endpoint style-scope yt-formatted-string']\")\n",
    "time = []\n",
    "for i in ti:\n",
    "    time.append(i.text.replace('\\n',''))\n",
    "len(time)  "
   ]
  },
  {
   "cell_type": "code",
   "execution_count": 125,
   "metadata": {},
   "outputs": [
    {
     "data": {
      "text/plain": [
       "900"
      ]
     },
     "execution_count": 125,
     "metadata": {},
     "output_type": "execute_result"
    }
   ],
   "source": [
    "vo = driver.find_elements_by_id(\"vote-count-middle\")\n",
    "vote = []\n",
    "for i in vo:\n",
    "    vote.append(i.text.replace('\\n',''))\n",
    "len(vote)  "
   ]
  },
  {
   "cell_type": "code",
   "execution_count": 132,
   "metadata": {},
   "outputs": [
    {
     "data": {
      "text/html": [
       "<div>\n",
       "<style scoped>\n",
       "    .dataframe tbody tr th:only-of-type {\n",
       "        vertical-align: middle;\n",
       "    }\n",
       "\n",
       "    .dataframe tbody tr th {\n",
       "        vertical-align: top;\n",
       "    }\n",
       "\n",
       "    .dataframe thead th {\n",
       "        text-align: right;\n",
       "    }\n",
       "</style>\n",
       "<table border=\"1\" class=\"dataframe\">\n",
       "  <thead>\n",
       "    <tr style=\"text-align: right;\">\n",
       "      <th></th>\n",
       "      <th>Comments</th>\n",
       "      <th>Time</th>\n",
       "      <th>Vote</th>\n",
       "    </tr>\n",
       "  </thead>\n",
       "  <tbody>\n",
       "    <tr>\n",
       "      <th>0</th>\n",
       "      <td>बहुत गर्व हुआ इस movie ने Oscar जीताजय हिन्द 🇮...</td>\n",
       "      <td>1 month ago</td>\n",
       "      <td>99</td>\n",
       "    </tr>\n",
       "    <tr>\n",
       "      <th>1</th>\n",
       "      <td>I don't remember the last time I have so much ...</td>\n",
       "      <td>12 days ago (edited)</td>\n",
       "      <td>31</td>\n",
       "    </tr>\n",
       "    <tr>\n",
       "      <th>2</th>\n",
       "      <td>I have back to watch this movie again after ge...</td>\n",
       "      <td>3 weeks ago (edited)</td>\n",
       "      <td>74</td>\n",
       "    </tr>\n",
       "    <tr>\n",
       "      <th>3</th>\n",
       "      <td>Bollywood watch and learn something from South...</td>\n",
       "      <td>4 weeks ago</td>\n",
       "      <td>66</td>\n",
       "    </tr>\n",
       "    <tr>\n",
       "      <th>4</th>\n",
       "      <td>Won an OSCAR! Congratulations RRR team ️ You P...</td>\n",
       "      <td>1 month ago</td>\n",
       "      <td>127</td>\n",
       "    </tr>\n",
       "    <tr>\n",
       "      <th>...</th>\n",
       "      <td>...</td>\n",
       "      <td>...</td>\n",
       "      <td>...</td>\n",
       "    </tr>\n",
       "    <tr>\n",
       "      <th>495</th>\n",
       "      <td></td>\n",
       "      <td>2 weeks ago</td>\n",
       "      <td></td>\n",
       "    </tr>\n",
       "    <tr>\n",
       "      <th>496</th>\n",
       "      <td></td>\n",
       "      <td>2 weeks ago</td>\n",
       "      <td></td>\n",
       "    </tr>\n",
       "    <tr>\n",
       "      <th>497</th>\n",
       "      <td>Very very very very nice movie</td>\n",
       "      <td>1 month ago</td>\n",
       "      <td></td>\n",
       "    </tr>\n",
       "    <tr>\n",
       "      <th>498</th>\n",
       "      <td></td>\n",
       "      <td>4 weeks ago</td>\n",
       "      <td></td>\n",
       "    </tr>\n",
       "    <tr>\n",
       "      <th>499</th>\n",
       "      <td>गजब movie</td>\n",
       "      <td>1 month ago</td>\n",
       "      <td></td>\n",
       "    </tr>\n",
       "  </tbody>\n",
       "</table>\n",
       "<p>500 rows × 3 columns</p>\n",
       "</div>"
      ],
      "text/plain": [
       "                                              Comments                  Time  \\\n",
       "0    बहुत गर्व हुआ इस movie ने Oscar जीताजय हिन्द 🇮...           1 month ago   \n",
       "1    I don't remember the last time I have so much ...  12 days ago (edited)   \n",
       "2    I have back to watch this movie again after ge...  3 weeks ago (edited)   \n",
       "3    Bollywood watch and learn something from South...           4 weeks ago   \n",
       "4    Won an OSCAR! Congratulations RRR team ️ You P...           1 month ago   \n",
       "..                                                 ...                   ...   \n",
       "495                                                              2 weeks ago   \n",
       "496                                                              2 weeks ago   \n",
       "497                     Very very very very nice movie           1 month ago   \n",
       "498                                                              4 weeks ago   \n",
       "499                                          गजब movie           1 month ago   \n",
       "\n",
       "    Vote  \n",
       "0     99  \n",
       "1     31  \n",
       "2     74  \n",
       "3     66  \n",
       "4    127  \n",
       "..   ...  \n",
       "495       \n",
       "496       \n",
       "497       \n",
       "498       \n",
       "499       \n",
       "\n",
       "[500 rows x 3 columns]"
      ]
     },
     "execution_count": 132,
     "metadata": {},
     "output_type": "execute_result"
    }
   ],
   "source": [
    "df = pd.DataFrame({})\n",
    "df[\"Comments\"] = comment[:500]\n",
    "df[\"Time\"] = time[11:511]\n",
    "df[\"Vote\"] = vote[:500]\n",
    "df"
   ]
  },
  {
   "cell_type": "code",
   "execution_count": 136,
   "metadata": {},
   "outputs": [],
   "source": [
    "driver.close()"
   ]
  },
  {
   "cell_type": "markdown",
   "metadata": {},
   "source": [
    "# 9"
   ]
  },
  {
   "cell_type": "raw",
   "metadata": {},
   "source": [
    "Write a python program to scrape a data for all available Hostels from https://www.hostelworld.com/ in \n",
    "“London” location. You have to scrape hostel name, distance from city centre, ratings, total reviews, overall \n",
    "reviews, privates from price, dorms from price, facilities and property description."
   ]
  },
  {
   "cell_type": "code",
   "execution_count": 260,
   "metadata": {},
   "outputs": [],
   "source": [
    "driver = webdriver.Chrome(r\"C:\\Users\\USER\\Downloads\\chromedriver_win32 (3)\\chromedriver.exe\")\n",
    "url = 'https://www.hostelworld.com/s?q=London,%20England&country=England&city=London&type=city&id=3&from=2023-04-17&to=2023-04-20&guests=2&page=1'\n",
    "driver.get(url)"
   ]
  },
  {
   "cell_type": "code",
   "execution_count": 240,
   "metadata": {},
   "outputs": [],
   "source": [
    "na = driver.find_elements_by_xpath(\"//h2[@class='title title-6']\")\n",
    "name = []\n",
    "for i in na:\n",
    "    name.append(i.text.replace('\\n',''))"
   ]
  },
  {
   "cell_type": "code",
   "execution_count": 242,
   "metadata": {},
   "outputs": [],
   "source": [
    "dis = driver.find_elements_by_xpath(\"//div[@class='subtitle body-3']//a/span[1]/span\")\n",
    "distance = []\n",
    "for i in dis:\n",
    "    distance.append(i.text.replace('\\n',''))\n",
    "    \n",
    "    \n",
    "ra = driver.find_elements_by_xpath(\"//div[@class='score orange big' or @class='score gray big']\")\n",
    "rating = []\n",
    "for i in ra:\n",
    "    rating.append(i.text.replace('\\n',''))\n",
    "    \n",
    "    \n",
    "re = driver.find_elements_by_xpath(\"//div[@class='reviews']\")\n",
    "review = []\n",
    "for i in re:\n",
    "    review.append(i.text.replace('\\n',''))\n",
    "    \n",
    "    \n",
    "ov = driver.find_elements_by_xpath(\"//div[@class='keyword']/span\")\n",
    "over = []\n",
    "for i in ov:\n",
    "    over.append(i.text.replace('\\n',''))\n",
    "    \n",
    "\n",
    "    \n",
    "do = driver.find_elements_by_xpath('//div[@class=\"prices-col\"]//a[1]/div[2]/div')\n",
    "dorms = []\n",
    "for i in do:\n",
    "    dorms.append(i.text.replace('\\n',''))\n",
    "   "
   ]
  },
  {
   "cell_type": "code",
   "execution_count": 263,
   "metadata": {},
   "outputs": [],
   "source": [
    "facility = []\n",
    "fa = driver.find_elements_by_xpath('//div[@class=\"facilities-label facilities\"]')\n",
    "for i in fa:\n",
    "    facility.append(i.text.replace('\\n',''))\n",
    "   "
   ]
  },
  {
   "cell_type": "code",
   "execution_count": 217,
   "metadata": {},
   "outputs": [],
   "source": [
    "private=[]\n",
    "try:\n",
    "    pr = driver.find_elements_by_xpath('//div[@class=\"prices-col\"]//a[1]/div[1]/div')\n",
    "    for p in pr:\n",
    "        private.append(p.text)\n",
    "except NoSuchElementException:\n",
    "    private.append('--')\n"
   ]
  },
  {
   "cell_type": "code",
   "execution_count": 218,
   "metadata": {},
   "outputs": [
    {
     "data": {
      "text/plain": [
       "['Rs30161.22 Rs24129',\n",
       " 'Rs8132',\n",
       " 'Rs7707',\n",
       " 'Rs22176',\n",
       " 'Rs5764',\n",
       " 'Rs8761',\n",
       " 'Rs6160',\n",
       " 'Rs21022',\n",
       " 'Rs10043',\n",
       " 'Rs8234.1 Rs7411',\n",
       " 'Rs4066']"
      ]
     },
     "execution_count": 218,
     "metadata": {},
     "output_type": "execute_result"
    }
   ],
   "source": [
    "private"
   ]
  },
  {
   "cell_type": "code",
   "execution_count": 207,
   "metadata": {},
   "outputs": [],
   "source": [
    "urls=[]\n",
    "for i in driver.find_elements_by_xpath(\"//h2[@class='title title-6']/a\"):\n",
    "    urls.append(i.get_attribute('href'))"
   ]
  },
  {
   "cell_type": "code",
   "execution_count": 209,
   "metadata": {},
   "outputs": [],
   "source": [
    "\n",
    "proprty = []\n",
    "\n",
    "for i in urls:\n",
    "    driver.get(i)\n",
    "    time.sleep(3)\n",
    "\n",
    "\n",
    "   \n",
    "    try:\n",
    "        pro = driver.find_element_by_xpath(\"//div[@class='content collapse-content']\")\n",
    "        proprty.append(pro.text)\n",
    "    except NoSuchElementException:\n",
    "        proprty.append('--')\n"
   ]
  },
  {
   "cell_type": "code",
   "execution_count": 267,
   "metadata": {},
   "outputs": [
    {
     "data": {
      "text/html": [
       "<div>\n",
       "<style scoped>\n",
       "    .dataframe tbody tr th:only-of-type {\n",
       "        vertical-align: middle;\n",
       "    }\n",
       "\n",
       "    .dataframe tbody tr th {\n",
       "        vertical-align: top;\n",
       "    }\n",
       "\n",
       "    .dataframe thead th {\n",
       "        text-align: right;\n",
       "    }\n",
       "</style>\n",
       "<table border=\"1\" class=\"dataframe\">\n",
       "  <thead>\n",
       "    <tr style=\"text-align: right;\">\n",
       "      <th></th>\n",
       "      <th>Hostel Name</th>\n",
       "      <th>Distance from City Centre</th>\n",
       "      <th>Ratings</th>\n",
       "      <th>Total Reviews</th>\n",
       "      <th>Overall Reviews</th>\n",
       "      <th>Dorms from Price</th>\n",
       "      <th>property description</th>\n",
       "      <th>Fecilities</th>\n",
       "    </tr>\n",
       "  </thead>\n",
       "  <tbody>\n",
       "    <tr>\n",
       "      <th>0</th>\n",
       "      <td>Wombat's City Hostel London</td>\n",
       "      <td>- 3.6km from city centre</td>\n",
       "      <td>8.9</td>\n",
       "      <td>14717 Total Reviews</td>\n",
       "      <td>Very Good</td>\n",
       "      <td>Rs4625.75 Rs3701</td>\n",
       "      <td>A safe haven in the middle of the metropolis: ...</td>\n",
       "      <td>Free WiFiFollows Covid-19 sanitation guidance</td>\n",
       "    </tr>\n",
       "    <tr>\n",
       "      <th>1</th>\n",
       "      <td>St Christopher's Village</td>\n",
       "      <td>- 1.8km from city centre</td>\n",
       "      <td>7.7</td>\n",
       "      <td>12042 Total Reviews</td>\n",
       "      <td>Fabulous</td>\n",
       "      <td>Rs1610.3 Rs1449</td>\n",
       "      <td>St Christopher's Inn at The Village in London ...</td>\n",
       "      <td>Free WiFiFollows Covid-19 sanitation guidance</td>\n",
       "    </tr>\n",
       "    <tr>\n",
       "      <th>2</th>\n",
       "      <td>NX London Hostel</td>\n",
       "      <td>- 6.1km from city centre</td>\n",
       "      <td>8.2</td>\n",
       "      <td>1807 Total Reviews</td>\n",
       "      <td>Very Good</td>\n",
       "      <td>Rs2385</td>\n",
       "      <td>Welcome to NX London Hostel!\\n\\nPLEASE READ IN...</td>\n",
       "      <td>Free WiFiFree Breakfast</td>\n",
       "    </tr>\n",
       "    <tr>\n",
       "      <th>3</th>\n",
       "      <td>Safestay London Elephant &amp; Castle</td>\n",
       "      <td>- 1.7km from city centre</td>\n",
       "      <td>7.5</td>\n",
       "      <td>4897 Total Reviews</td>\n",
       "      <td>Fabulous</td>\n",
       "      <td>Rs1999</td>\n",
       "      <td>Safestay at Elephant &amp; Castle is ideal if you ...</td>\n",
       "      <td>Free WiFiFollows Covid-19 sanitation guidance</td>\n",
       "    </tr>\n",
       "    <tr>\n",
       "      <th>4</th>\n",
       "      <td>Generator London</td>\n",
       "      <td>- 3km from city centre</td>\n",
       "      <td>7.4</td>\n",
       "      <td>7427 Total Reviews</td>\n",
       "      <td>Very Good</td>\n",
       "      <td>Rs3022</td>\n",
       "      <td>Generator London is a design hotel-hostel loca...</td>\n",
       "      <td>Free WiFiFollows Covid-19 sanitation guidance</td>\n",
       "    </tr>\n",
       "    <tr>\n",
       "      <th>5</th>\n",
       "      <td>Urbany Hostel London</td>\n",
       "      <td>- 5.4km from city centre</td>\n",
       "      <td>9.1</td>\n",
       "      <td>720 Total Reviews</td>\n",
       "      <td>Very Good</td>\n",
       "      <td>Rs2299</td>\n",
       "      <td>Welcome to Urbany Hostel London, our first int...</td>\n",
       "      <td>Free WiFiFollows Covid-19 sanitation guidance</td>\n",
       "    </tr>\n",
       "    <tr>\n",
       "      <th>6</th>\n",
       "      <td>Safestay London Kensington Holland Park</td>\n",
       "      <td>- 5.8km from city centre</td>\n",
       "      <td>7.1</td>\n",
       "      <td>1478 Total Reviews</td>\n",
       "      <td>Superb</td>\n",
       "      <td>Rs1661</td>\n",
       "      <td>Safestay Holland Park\\n\\nSafestay Holland Park...</td>\n",
       "      <td>Free WiFi</td>\n",
       "    </tr>\n",
       "    <tr>\n",
       "      <th>7</th>\n",
       "      <td>No.8 Willesden Hostel London</td>\n",
       "      <td>- 10km from city centre</td>\n",
       "      <td>6.5</td>\n",
       "      <td>4980 Total Reviews</td>\n",
       "      <td>Very Good</td>\n",
       "      <td>Rs1113</td>\n",
       "      <td>At No.8 we take pride in our Customer Service ...</td>\n",
       "      <td>Free WiFiFollows Covid-19 sanitation guidance</td>\n",
       "    </tr>\n",
       "    <tr>\n",
       "      <th>8</th>\n",
       "      <td>London Backpackers</td>\n",
       "      <td>- 11.9km from city centre</td>\n",
       "      <td>7.7</td>\n",
       "      <td>4438 Total Reviews</td>\n",
       "      <td>Good</td>\n",
       "      <td>Rs1647</td>\n",
       "      <td>IMPORTANT NOTICE: \\n\\nThis hostel is for 18 - ...</td>\n",
       "      <td>Free WiFiFollows Covid-19 sanitation guidance</td>\n",
       "    </tr>\n",
       "    <tr>\n",
       "      <th>9</th>\n",
       "      <td>Astor Victoria</td>\n",
       "      <td>- 1.8km from city centre</td>\n",
       "      <td>7.6</td>\n",
       "      <td>14931 Total Reviews</td>\n",
       "      <td>Very Good</td>\n",
       "      <td>Rs1931</td>\n",
       "      <td>With Victoria Station and Buckingham Palace a ...</td>\n",
       "      <td>Free WiFiFollows Covid-19 sanitation guidance</td>\n",
       "    </tr>\n",
       "    <tr>\n",
       "      <th>10</th>\n",
       "      <td>Phoenix Hostel</td>\n",
       "      <td>- 4.2km from city centre</td>\n",
       "      <td>7.2</td>\n",
       "      <td>4039 Total Reviews</td>\n",
       "      <td>Very Good</td>\n",
       "      <td>Rs2034.18 Rs1932</td>\n",
       "      <td>The Phoenix Bar &amp; Hostel, housed in a homely E...</td>\n",
       "      <td>Free WiFiFollows Covid-19 sanitation guidance</td>\n",
       "    </tr>\n",
       "    <tr>\n",
       "      <th>11</th>\n",
       "      <td>No.8 Seven Sisters</td>\n",
       "      <td>- 9km from city centre</td>\n",
       "      <td>6.0</td>\n",
       "      <td>3983 Total Reviews</td>\n",
       "      <td>Very Good</td>\n",
       "      <td>Rs859</td>\n",
       "      <td>For Great Facilities, Comfort &amp; Affordability ...</td>\n",
       "      <td>Free WiFiFollows Covid-19 sanitation guidance</td>\n",
       "    </tr>\n",
       "    <tr>\n",
       "      <th>12</th>\n",
       "      <td>St Christopher's Camden</td>\n",
       "      <td>- 4.3km from city centre</td>\n",
       "      <td>7.9</td>\n",
       "      <td>4012 Total Reviews</td>\n",
       "      <td>Good</td>\n",
       "      <td>Rs1869.33 Rs1682</td>\n",
       "      <td>Find our Camden hostel in London's north, smac...</td>\n",
       "      <td>Free WiFiFollows Covid-19 sanitation guidance</td>\n",
       "    </tr>\n",
       "    <tr>\n",
       "      <th>13</th>\n",
       "      <td>Clink261</td>\n",
       "      <td>- 3.2km from city centre</td>\n",
       "      <td>8.3</td>\n",
       "      <td>214 Total Reviews</td>\n",
       "      <td>Very Good</td>\n",
       "      <td>Rs2102</td>\n",
       "      <td>Welcome to Clink261!\\n\\nClink261 is a comforta...</td>\n",
       "      <td>Free WiFiFollows Covid-19 sanitation guidance</td>\n",
       "    </tr>\n",
       "    <tr>\n",
       "      <th>14</th>\n",
       "      <td>Queen Elizabeth Chelsea</td>\n",
       "      <td>- 5.7km from city centre</td>\n",
       "      <td>6.9</td>\n",
       "      <td>3444 Total Reviews</td>\n",
       "      <td>Fabulous</td>\n",
       "      <td>Rs1325</td>\n",
       "      <td>PLEASE NOTE WE ONLY ACCEPT GUESTS FROM THE AGE...</td>\n",
       "      <td>Free WiFiFollows Covid-19 sanitation guidance</td>\n",
       "    </tr>\n",
       "    <tr>\n",
       "      <th>15</th>\n",
       "      <td>Prime Backpackers Angel</td>\n",
       "      <td>- 3.6km from city centre</td>\n",
       "      <td>8.0</td>\n",
       "      <td>721 Total Reviews</td>\n",
       "      <td>Good</td>\n",
       "      <td>Rs3022</td>\n",
       "      <td>The hostel is housed in a historic building in...</td>\n",
       "      <td>Free WiFi</td>\n",
       "    </tr>\n",
       "    <tr>\n",
       "      <th>16</th>\n",
       "      <td>Astor Kensington</td>\n",
       "      <td>- 4.9km from city centre</td>\n",
       "      <td>7.8</td>\n",
       "      <td>6482 Total Reviews</td>\n",
       "      <td>Fabulous</td>\n",
       "      <td>Rs1931</td>\n",
       "      <td>Located a short walk from Notting Hill, Hyde P...</td>\n",
       "      <td>Free WiFiFollows Covid-19 sanitation guidance</td>\n",
       "    </tr>\n",
       "    <tr>\n",
       "      <th>17</th>\n",
       "      <td>Saint James Backpackers</td>\n",
       "      <td>- 5.5km from city centre</td>\n",
       "      <td>8.1</td>\n",
       "      <td>1873 Total Reviews</td>\n",
       "      <td>Very Good</td>\n",
       "      <td>Rs3985</td>\n",
       "      <td>We are located in central London - just 5 minu...</td>\n",
       "      <td>Free WiFiFollows Covid-19 sanitation guidance</td>\n",
       "    </tr>\n",
       "    <tr>\n",
       "      <th>18</th>\n",
       "      <td>PubLove @ The Steam Engine, Waterloo</td>\n",
       "      <td>- 0.5km from city centre</td>\n",
       "      <td>7.9</td>\n",
       "      <td>382 Total Reviews</td>\n",
       "      <td>Fabulous</td>\n",
       "      <td>Rs3558</td>\n",
       "      <td>The heart &amp; soul of London backpacking\\nPull u...</td>\n",
       "      <td>Free WiFiFree BreakfastFollows Covid-19 sanita...</td>\n",
       "    </tr>\n",
       "    <tr>\n",
       "      <th>19</th>\n",
       "      <td>Park Villa</td>\n",
       "      <td>- 6.3km from city centre</td>\n",
       "      <td>9.0</td>\n",
       "      <td>890 Total Reviews</td>\n",
       "      <td>Very Good</td>\n",
       "      <td>Rs4044</td>\n",
       "      <td>Park Villa is a new boutique hostel in the hea...</td>\n",
       "      <td>Free WiFi</td>\n",
       "    </tr>\n",
       "    <tr>\n",
       "      <th>20</th>\n",
       "      <td>Strand Continental</td>\n",
       "      <td>- 1.3km from city centre</td>\n",
       "      <td>7.2</td>\n",
       "      <td>947 Total Reviews</td>\n",
       "      <td>Superb</td>\n",
       "      <td>Rs3253</td>\n",
       "      <td>Welcome to one of London's cheapest, friendlie...</td>\n",
       "      <td>Free WiFiFollows Covid-19 sanitation guidance</td>\n",
       "    </tr>\n",
       "    <tr>\n",
       "      <th>21</th>\n",
       "      <td>St Christopher's Greenwich</td>\n",
       "      <td>- 7.6km from city centre</td>\n",
       "      <td>7.3</td>\n",
       "      <td>3328 Total Reviews</td>\n",
       "      <td>Very Good</td>\n",
       "      <td>Rs1538.77 Rs1385</td>\n",
       "      <td>Discover South London's rich history in the ci...</td>\n",
       "      <td>Follows Covid-19 sanitation guidance</td>\n",
       "    </tr>\n",
       "    <tr>\n",
       "      <th>22</th>\n",
       "      <td>Bell House Hostel</td>\n",
       "      <td>- 4.2km from city centre</td>\n",
       "      <td>7.2</td>\n",
       "      <td>48 Total Reviews</td>\n",
       "      <td>Very Good</td>\n",
       "      <td>Rs2043</td>\n",
       "      <td>Boasting a bar and a shared lounge, Bell House...</td>\n",
       "      <td>Free WiFiFollows Covid-19 sanitation guidance</td>\n",
       "    </tr>\n",
       "    <tr>\n",
       "      <th>23</th>\n",
       "      <td>Selina Camden</td>\n",
       "      <td>- 5.5km from city centre</td>\n",
       "      <td>9.5</td>\n",
       "      <td>46 Total Reviews</td>\n",
       "      <td>Very Good</td>\n",
       "      <td>Rs5123</td>\n",
       "      <td>Among underground music venues, innovative mus...</td>\n",
       "      <td>Free WiFi</td>\n",
       "    </tr>\n",
       "    <tr>\n",
       "      <th>24</th>\n",
       "      <td>Kensal Green Backpackers</td>\n",
       "      <td>- 8.2km from city centre</td>\n",
       "      <td>5.0</td>\n",
       "      <td>3705 Total Reviews</td>\n",
       "      <td>Superb</td>\n",
       "      <td>Rs1830</td>\n",
       "      <td>Kensal Green Backpackers is a legendary hostel...</td>\n",
       "      <td>Free WiFi</td>\n",
       "    </tr>\n",
       "    <tr>\n",
       "      <th>25</th>\n",
       "      <td>PubLove @ The White Ferry, Victoria</td>\n",
       "      <td>- 2.4km from city centre</td>\n",
       "      <td>7.5</td>\n",
       "      <td>324 Total Reviews</td>\n",
       "      <td>Rating</td>\n",
       "      <td>Rs4642</td>\n",
       "      <td>Walk to the river, turn left, and just keep wa...</td>\n",
       "      <td>Follows Covid-19 sanitation guidance</td>\n",
       "    </tr>\n",
       "    <tr>\n",
       "      <th>26</th>\n",
       "      <td>Book a Bed Hostels</td>\n",
       "      <td>- 6.9km from city centre</td>\n",
       "      <td>6.5</td>\n",
       "      <td>1241 Total Reviews</td>\n",
       "      <td>Very Good</td>\n",
       "      <td>Rs2166.39 Rs1950</td>\n",
       "      <td>Welcome to Venture Hostel.Venture Hostel is a ...</td>\n",
       "      <td>Free WiFi</td>\n",
       "    </tr>\n",
       "    <tr>\n",
       "      <th>27</th>\n",
       "      <td>PubLove @ The Crown, Battersea</td>\n",
       "      <td>- 4.7km from city centre</td>\n",
       "      <td>7.5</td>\n",
       "      <td>296 Total Reviews</td>\n",
       "      <td>Good</td>\n",
       "      <td>Rs2779</td>\n",
       "      <td>Do London like a local.\\nStay just outside the...</td>\n",
       "      <td>Free WiFi</td>\n",
       "    </tr>\n",
       "    <tr>\n",
       "      <th>28</th>\n",
       "      <td>Hootananny Hostel</td>\n",
       "      <td>- 5km from city centre</td>\n",
       "      <td>7.5</td>\n",
       "      <td>1502 Total Reviews</td>\n",
       "      <td>Very Good</td>\n",
       "      <td>Rs2511</td>\n",
       "      <td>Hootananny is a lively hostel with spacious ro...</td>\n",
       "      <td>Free WiFi</td>\n",
       "    </tr>\n",
       "  </tbody>\n",
       "</table>\n",
       "</div>"
      ],
      "text/plain": [
       "                                Hostel Name  Distance from City Centre  \\\n",
       "0               Wombat's City Hostel London   - 3.6km from city centre   \n",
       "1                  St Christopher's Village   - 1.8km from city centre   \n",
       "2                          NX London Hostel   - 6.1km from city centre   \n",
       "3         Safestay London Elephant & Castle   - 1.7km from city centre   \n",
       "4                          Generator London     - 3km from city centre   \n",
       "5                      Urbany Hostel London   - 5.4km from city centre   \n",
       "6   Safestay London Kensington Holland Park   - 5.8km from city centre   \n",
       "7              No.8 Willesden Hostel London    - 10km from city centre   \n",
       "8                        London Backpackers  - 11.9km from city centre   \n",
       "9                            Astor Victoria   - 1.8km from city centre   \n",
       "10                           Phoenix Hostel   - 4.2km from city centre   \n",
       "11                       No.8 Seven Sisters     - 9km from city centre   \n",
       "12                  St Christopher's Camden   - 4.3km from city centre   \n",
       "13                                 Clink261   - 3.2km from city centre   \n",
       "14                  Queen Elizabeth Chelsea   - 5.7km from city centre   \n",
       "15                  Prime Backpackers Angel   - 3.6km from city centre   \n",
       "16                         Astor Kensington   - 4.9km from city centre   \n",
       "17                  Saint James Backpackers   - 5.5km from city centre   \n",
       "18     PubLove @ The Steam Engine, Waterloo   - 0.5km from city centre   \n",
       "19                               Park Villa   - 6.3km from city centre   \n",
       "20                       Strand Continental   - 1.3km from city centre   \n",
       "21               St Christopher's Greenwich   - 7.6km from city centre   \n",
       "22                        Bell House Hostel   - 4.2km from city centre   \n",
       "23                            Selina Camden   - 5.5km from city centre   \n",
       "24                 Kensal Green Backpackers   - 8.2km from city centre   \n",
       "25      PubLove @ The White Ferry, Victoria   - 2.4km from city centre   \n",
       "26                       Book a Bed Hostels   - 6.9km from city centre   \n",
       "27           PubLove @ The Crown, Battersea   - 4.7km from city centre   \n",
       "28                        Hootananny Hostel     - 5km from city centre   \n",
       "\n",
       "   Ratings        Total Reviews Overall Reviews  Dorms from Price  \\\n",
       "0      8.9  14717 Total Reviews       Very Good  Rs4625.75 Rs3701   \n",
       "1      7.7  12042 Total Reviews        Fabulous   Rs1610.3 Rs1449   \n",
       "2      8.2   1807 Total Reviews       Very Good            Rs2385   \n",
       "3      7.5   4897 Total Reviews        Fabulous            Rs1999   \n",
       "4      7.4   7427 Total Reviews       Very Good            Rs3022   \n",
       "5      9.1    720 Total Reviews       Very Good            Rs2299   \n",
       "6      7.1   1478 Total Reviews          Superb            Rs1661   \n",
       "7      6.5   4980 Total Reviews       Very Good            Rs1113   \n",
       "8      7.7   4438 Total Reviews            Good            Rs1647   \n",
       "9      7.6  14931 Total Reviews       Very Good            Rs1931   \n",
       "10     7.2   4039 Total Reviews       Very Good  Rs2034.18 Rs1932   \n",
       "11     6.0   3983 Total Reviews       Very Good             Rs859   \n",
       "12     7.9   4012 Total Reviews            Good  Rs1869.33 Rs1682   \n",
       "13     8.3    214 Total Reviews       Very Good            Rs2102   \n",
       "14     6.9   3444 Total Reviews        Fabulous            Rs1325   \n",
       "15     8.0    721 Total Reviews            Good            Rs3022   \n",
       "16     7.8   6482 Total Reviews        Fabulous            Rs1931   \n",
       "17     8.1   1873 Total Reviews       Very Good            Rs3985   \n",
       "18     7.9    382 Total Reviews        Fabulous            Rs3558   \n",
       "19     9.0    890 Total Reviews       Very Good            Rs4044   \n",
       "20     7.2    947 Total Reviews          Superb            Rs3253   \n",
       "21     7.3   3328 Total Reviews       Very Good  Rs1538.77 Rs1385   \n",
       "22     7.2     48 Total Reviews       Very Good            Rs2043   \n",
       "23     9.5     46 Total Reviews       Very Good            Rs5123   \n",
       "24     5.0   3705 Total Reviews          Superb            Rs1830   \n",
       "25     7.5    324 Total Reviews          Rating            Rs4642   \n",
       "26     6.5   1241 Total Reviews       Very Good  Rs2166.39 Rs1950   \n",
       "27     7.5    296 Total Reviews            Good            Rs2779   \n",
       "28     7.5   1502 Total Reviews       Very Good            Rs2511   \n",
       "\n",
       "                                 property description  \\\n",
       "0   A safe haven in the middle of the metropolis: ...   \n",
       "1   St Christopher's Inn at The Village in London ...   \n",
       "2   Welcome to NX London Hostel!\\n\\nPLEASE READ IN...   \n",
       "3   Safestay at Elephant & Castle is ideal if you ...   \n",
       "4   Generator London is a design hotel-hostel loca...   \n",
       "5   Welcome to Urbany Hostel London, our first int...   \n",
       "6   Safestay Holland Park\\n\\nSafestay Holland Park...   \n",
       "7   At No.8 we take pride in our Customer Service ...   \n",
       "8   IMPORTANT NOTICE: \\n\\nThis hostel is for 18 - ...   \n",
       "9   With Victoria Station and Buckingham Palace a ...   \n",
       "10  The Phoenix Bar & Hostel, housed in a homely E...   \n",
       "11  For Great Facilities, Comfort & Affordability ...   \n",
       "12  Find our Camden hostel in London's north, smac...   \n",
       "13  Welcome to Clink261!\\n\\nClink261 is a comforta...   \n",
       "14  PLEASE NOTE WE ONLY ACCEPT GUESTS FROM THE AGE...   \n",
       "15  The hostel is housed in a historic building in...   \n",
       "16  Located a short walk from Notting Hill, Hyde P...   \n",
       "17  We are located in central London - just 5 minu...   \n",
       "18  The heart & soul of London backpacking\\nPull u...   \n",
       "19  Park Villa is a new boutique hostel in the hea...   \n",
       "20  Welcome to one of London's cheapest, friendlie...   \n",
       "21  Discover South London's rich history in the ci...   \n",
       "22  Boasting a bar and a shared lounge, Bell House...   \n",
       "23  Among underground music venues, innovative mus...   \n",
       "24  Kensal Green Backpackers is a legendary hostel...   \n",
       "25  Walk to the river, turn left, and just keep wa...   \n",
       "26  Welcome to Venture Hostel.Venture Hostel is a ...   \n",
       "27  Do London like a local.\\nStay just outside the...   \n",
       "28  Hootananny is a lively hostel with spacious ro...   \n",
       "\n",
       "                                           Fecilities  \n",
       "0       Free WiFiFollows Covid-19 sanitation guidance  \n",
       "1       Free WiFiFollows Covid-19 sanitation guidance  \n",
       "2                             Free WiFiFree Breakfast  \n",
       "3       Free WiFiFollows Covid-19 sanitation guidance  \n",
       "4       Free WiFiFollows Covid-19 sanitation guidance  \n",
       "5       Free WiFiFollows Covid-19 sanitation guidance  \n",
       "6                                           Free WiFi  \n",
       "7       Free WiFiFollows Covid-19 sanitation guidance  \n",
       "8       Free WiFiFollows Covid-19 sanitation guidance  \n",
       "9       Free WiFiFollows Covid-19 sanitation guidance  \n",
       "10      Free WiFiFollows Covid-19 sanitation guidance  \n",
       "11      Free WiFiFollows Covid-19 sanitation guidance  \n",
       "12      Free WiFiFollows Covid-19 sanitation guidance  \n",
       "13      Free WiFiFollows Covid-19 sanitation guidance  \n",
       "14      Free WiFiFollows Covid-19 sanitation guidance  \n",
       "15                                          Free WiFi  \n",
       "16      Free WiFiFollows Covid-19 sanitation guidance  \n",
       "17      Free WiFiFollows Covid-19 sanitation guidance  \n",
       "18  Free WiFiFree BreakfastFollows Covid-19 sanita...  \n",
       "19                                          Free WiFi  \n",
       "20      Free WiFiFollows Covid-19 sanitation guidance  \n",
       "21               Follows Covid-19 sanitation guidance  \n",
       "22      Free WiFiFollows Covid-19 sanitation guidance  \n",
       "23                                          Free WiFi  \n",
       "24                                          Free WiFi  \n",
       "25               Follows Covid-19 sanitation guidance  \n",
       "26                                          Free WiFi  \n",
       "27                                          Free WiFi  \n",
       "28                                          Free WiFi  "
      ]
     },
     "execution_count": 267,
     "metadata": {},
     "output_type": "execute_result"
    }
   ],
   "source": [
    "df = pd.DataFrame({})\n",
    "df[\"Hostel Name\"] = name[:29]\n",
    "df[\"Distance from City Centre\"]= distance[:29]\n",
    "df[\"Ratings\"]= rating[:29]\n",
    "df[\"Total Reviews\"] = review[:29]\n",
    "df[\"Overall Reviews\"]= over[:29]\n",
    "df[\"Dorms from Price\"] = dorms[:29]\n",
    "df[\"property description\"] = proprty[:29]\n",
    "df[\"Fecilities\"] = facility [:29]\n",
    "df"
   ]
  },
  {
   "cell_type": "code",
   "execution_count": 268,
   "metadata": {},
   "outputs": [],
   "source": [
    "driver.close()"
   ]
  },
  {
   "cell_type": "code",
   "execution_count": null,
   "metadata": {},
   "outputs": [],
   "source": []
  }
 ],
 "metadata": {
  "kernelspec": {
   "display_name": "Python 3",
   "language": "python",
   "name": "python3"
  },
  "language_info": {
   "codemirror_mode": {
    "name": "ipython",
    "version": 3
   },
   "file_extension": ".py",
   "mimetype": "text/x-python",
   "name": "python",
   "nbconvert_exporter": "python",
   "pygments_lexer": "ipython3",
   "version": "3.8.5"
  }
 },
 "nbformat": 4,
 "nbformat_minor": 4
}
